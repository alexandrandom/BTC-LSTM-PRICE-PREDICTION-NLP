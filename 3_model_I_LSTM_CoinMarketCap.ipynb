{
  "nbformat": 4,
  "nbformat_minor": 0,
  "metadata": {
    "colab": {
      "provenance": []
    },
    "kernelspec": {
      "name": "python3",
      "display_name": "Python 3"
    },
    "language_info": {
      "name": "python"
    }
  },
  "cells": [
    {
      "cell_type": "markdown",
      "source": [
        "Model I.\n",
        "\n",
        "LSTM on BTC Close Prices"
      ],
      "metadata": {
        "id": "Ay44hue4xCNG"
      }
    },
    {
      "cell_type": "code",
      "source": [
        "import pandas as pd"
      ],
      "metadata": {
        "id": "7bus9meGx3a2"
      },
      "execution_count": 29,
      "outputs": []
    },
    {
      "cell_type": "code",
      "execution_count": 30,
      "metadata": {
        "id": "l2PSm2HTw5sO"
      },
      "outputs": [],
      "source": [
        "prices=pd.read_csv(\"/content/drive/MyDrive/Colab Notebooks/DATA_1/BTC-USD.csv\", engine='python')\n",
        "prices = prices[['Date', 'Close']]"
      ]
    },
    {
      "cell_type": "code",
      "source": [
        "prices"
      ],
      "metadata": {
        "colab": {
          "base_uri": "https://localhost:8080/",
          "height": 424
        },
        "id": "vQ2WaFmHyHa4",
        "outputId": "9aa86c3b-03ab-4a60-88e5-397130015866"
      },
      "execution_count": 31,
      "outputs": [
        {
          "output_type": "execute_result",
          "data": {
            "text/plain": [
              "            Date         Close\n",
              "0     2014-09-17    457.334015\n",
              "1     2014-09-18    424.440002\n",
              "2     2014-09-19    394.795990\n",
              "3     2014-09-20    408.903992\n",
              "4     2014-09-21    398.821014\n",
              "...          ...           ...\n",
              "3024  2022-12-28  16552.572266\n",
              "3025  2022-12-29  16642.341797\n",
              "3026  2022-12-30  16602.585938\n",
              "3027  2022-12-31  16547.496094\n",
              "3028  2023-01-01  16548.261719\n",
              "\n",
              "[3029 rows x 2 columns]"
            ],
            "text/html": [
              "\n",
              "  <div id=\"df-baa61017-93ee-4a47-883b-a63f92c19699\">\n",
              "    <div class=\"colab-df-container\">\n",
              "      <div>\n",
              "<style scoped>\n",
              "    .dataframe tbody tr th:only-of-type {\n",
              "        vertical-align: middle;\n",
              "    }\n",
              "\n",
              "    .dataframe tbody tr th {\n",
              "        vertical-align: top;\n",
              "    }\n",
              "\n",
              "    .dataframe thead th {\n",
              "        text-align: right;\n",
              "    }\n",
              "</style>\n",
              "<table border=\"1\" class=\"dataframe\">\n",
              "  <thead>\n",
              "    <tr style=\"text-align: right;\">\n",
              "      <th></th>\n",
              "      <th>Date</th>\n",
              "      <th>Close</th>\n",
              "    </tr>\n",
              "  </thead>\n",
              "  <tbody>\n",
              "    <tr>\n",
              "      <th>0</th>\n",
              "      <td>2014-09-17</td>\n",
              "      <td>457.334015</td>\n",
              "    </tr>\n",
              "    <tr>\n",
              "      <th>1</th>\n",
              "      <td>2014-09-18</td>\n",
              "      <td>424.440002</td>\n",
              "    </tr>\n",
              "    <tr>\n",
              "      <th>2</th>\n",
              "      <td>2014-09-19</td>\n",
              "      <td>394.795990</td>\n",
              "    </tr>\n",
              "    <tr>\n",
              "      <th>3</th>\n",
              "      <td>2014-09-20</td>\n",
              "      <td>408.903992</td>\n",
              "    </tr>\n",
              "    <tr>\n",
              "      <th>4</th>\n",
              "      <td>2014-09-21</td>\n",
              "      <td>398.821014</td>\n",
              "    </tr>\n",
              "    <tr>\n",
              "      <th>...</th>\n",
              "      <td>...</td>\n",
              "      <td>...</td>\n",
              "    </tr>\n",
              "    <tr>\n",
              "      <th>3024</th>\n",
              "      <td>2022-12-28</td>\n",
              "      <td>16552.572266</td>\n",
              "    </tr>\n",
              "    <tr>\n",
              "      <th>3025</th>\n",
              "      <td>2022-12-29</td>\n",
              "      <td>16642.341797</td>\n",
              "    </tr>\n",
              "    <tr>\n",
              "      <th>3026</th>\n",
              "      <td>2022-12-30</td>\n",
              "      <td>16602.585938</td>\n",
              "    </tr>\n",
              "    <tr>\n",
              "      <th>3027</th>\n",
              "      <td>2022-12-31</td>\n",
              "      <td>16547.496094</td>\n",
              "    </tr>\n",
              "    <tr>\n",
              "      <th>3028</th>\n",
              "      <td>2023-01-01</td>\n",
              "      <td>16548.261719</td>\n",
              "    </tr>\n",
              "  </tbody>\n",
              "</table>\n",
              "<p>3029 rows × 2 columns</p>\n",
              "</div>\n",
              "      <button class=\"colab-df-convert\" onclick=\"convertToInteractive('df-baa61017-93ee-4a47-883b-a63f92c19699')\"\n",
              "              title=\"Convert this dataframe to an interactive table.\"\n",
              "              style=\"display:none;\">\n",
              "        \n",
              "  <svg xmlns=\"http://www.w3.org/2000/svg\" height=\"24px\"viewBox=\"0 0 24 24\"\n",
              "       width=\"24px\">\n",
              "    <path d=\"M0 0h24v24H0V0z\" fill=\"none\"/>\n",
              "    <path d=\"M18.56 5.44l.94 2.06.94-2.06 2.06-.94-2.06-.94-.94-2.06-.94 2.06-2.06.94zm-11 1L8.5 8.5l.94-2.06 2.06-.94-2.06-.94L8.5 2.5l-.94 2.06-2.06.94zm10 10l.94 2.06.94-2.06 2.06-.94-2.06-.94-.94-2.06-.94 2.06-2.06.94z\"/><path d=\"M17.41 7.96l-1.37-1.37c-.4-.4-.92-.59-1.43-.59-.52 0-1.04.2-1.43.59L10.3 9.45l-7.72 7.72c-.78.78-.78 2.05 0 2.83L4 21.41c.39.39.9.59 1.41.59.51 0 1.02-.2 1.41-.59l7.78-7.78 2.81-2.81c.8-.78.8-2.07 0-2.86zM5.41 20L4 18.59l7.72-7.72 1.47 1.35L5.41 20z\"/>\n",
              "  </svg>\n",
              "      </button>\n",
              "      \n",
              "  <style>\n",
              "    .colab-df-container {\n",
              "      display:flex;\n",
              "      flex-wrap:wrap;\n",
              "      gap: 12px;\n",
              "    }\n",
              "\n",
              "    .colab-df-convert {\n",
              "      background-color: #E8F0FE;\n",
              "      border: none;\n",
              "      border-radius: 50%;\n",
              "      cursor: pointer;\n",
              "      display: none;\n",
              "      fill: #1967D2;\n",
              "      height: 32px;\n",
              "      padding: 0 0 0 0;\n",
              "      width: 32px;\n",
              "    }\n",
              "\n",
              "    .colab-df-convert:hover {\n",
              "      background-color: #E2EBFA;\n",
              "      box-shadow: 0px 1px 2px rgba(60, 64, 67, 0.3), 0px 1px 3px 1px rgba(60, 64, 67, 0.15);\n",
              "      fill: #174EA6;\n",
              "    }\n",
              "\n",
              "    [theme=dark] .colab-df-convert {\n",
              "      background-color: #3B4455;\n",
              "      fill: #D2E3FC;\n",
              "    }\n",
              "\n",
              "    [theme=dark] .colab-df-convert:hover {\n",
              "      background-color: #434B5C;\n",
              "      box-shadow: 0px 1px 3px 1px rgba(0, 0, 0, 0.15);\n",
              "      filter: drop-shadow(0px 1px 2px rgba(0, 0, 0, 0.3));\n",
              "      fill: #FFFFFF;\n",
              "    }\n",
              "  </style>\n",
              "\n",
              "      <script>\n",
              "        const buttonEl =\n",
              "          document.querySelector('#df-baa61017-93ee-4a47-883b-a63f92c19699 button.colab-df-convert');\n",
              "        buttonEl.style.display =\n",
              "          google.colab.kernel.accessAllowed ? 'block' : 'none';\n",
              "\n",
              "        async function convertToInteractive(key) {\n",
              "          const element = document.querySelector('#df-baa61017-93ee-4a47-883b-a63f92c19699');\n",
              "          const dataTable =\n",
              "            await google.colab.kernel.invokeFunction('convertToInteractive',\n",
              "                                                     [key], {});\n",
              "          if (!dataTable) return;\n",
              "\n",
              "          const docLinkHtml = 'Like what you see? Visit the ' +\n",
              "            '<a target=\"_blank\" href=https://colab.research.google.com/notebooks/data_table.ipynb>data table notebook</a>'\n",
              "            + ' to learn more about interactive tables.';\n",
              "          element.innerHTML = '';\n",
              "          dataTable['output_type'] = 'display_data';\n",
              "          await google.colab.output.renderOutput(dataTable, element);\n",
              "          const docLink = document.createElement('div');\n",
              "          docLink.innerHTML = docLinkHtml;\n",
              "          element.appendChild(docLink);\n",
              "        }\n",
              "      </script>\n",
              "    </div>\n",
              "  </div>\n",
              "  "
            ]
          },
          "metadata": {},
          "execution_count": 31
        }
      ]
    },
    {
      "cell_type": "markdown",
      "source": [
        "Converting to proper datetypes"
      ],
      "metadata": {
        "id": "1CpZgY-SySVI"
      }
    },
    {
      "cell_type": "code",
      "source": [
        "prices['Date'] =  pd.to_datetime(prices['Date'], format='%Y-%m-%d')"
      ],
      "metadata": {
        "id": "1nQOwsL8yJQw"
      },
      "execution_count": 32,
      "outputs": []
    },
    {
      "cell_type": "code",
      "source": [
        "prices.dtypes"
      ],
      "metadata": {
        "colab": {
          "base_uri": "https://localhost:8080/"
        },
        "id": "7ztjkwx-yRdH",
        "outputId": "70d0f645-ec52-45a0-b773-f745941546f3"
      },
      "execution_count": 33,
      "outputs": [
        {
          "output_type": "execute_result",
          "data": {
            "text/plain": [
              "Date     datetime64[ns]\n",
              "Close           float64\n",
              "dtype: object"
            ]
          },
          "metadata": {},
          "execution_count": 33
        }
      ]
    },
    {
      "cell_type": "code",
      "source": [
        "import matplotlib.pyplot as plt\n",
        "plt.figure(figsize=(16,8))\n",
        "plt.title('BTC Close Price in US Dollars from 2014 to 2023', fontsize=20)\n",
        "#plt.title('Wartość BTC w dolarze amerykańskim w latach 2014 - 2023', fontsize=20)\n",
        "plt.plot(prices['Date'], prices['Close'])\n",
        "plt.gcf().autofmt_xdate()\n",
        "#plt.xlabel('Rok', fontsize=10)\n",
        "plt.xlabel('Year', fontsize=10)\n",
        "plt.ylabel('USD', fontsize=10)\n",
        "plt.show()"
      ],
      "metadata": {
        "colab": {
          "base_uri": "https://localhost:8080/",
          "height": 486
        },
        "id": "W2mhNmaVyYKc",
        "outputId": "5f09d7ae-733f-440d-f690-44fd3e236612"
      },
      "execution_count": 34,
      "outputs": [
        {
          "output_type": "display_data",
          "data": {
            "text/plain": [
              "<Figure size 1152x576 with 1 Axes>"
            ],
            "image/png": "[encoded data removed]"
          },
          "metadata": {
            "needs_background": "light"
          }
        }
      ]
    },
    {
      "cell_type": "code",
      "source": [
        "split_rows_when=int(round(len(prices[\"Date\"])*(0.8),0))\n"
      ],
      "metadata": {
        "id": "MLUtMK8lyrH5"
      },
      "execution_count": 35,
      "outputs": []
    },
    {
      "cell_type": "code",
      "source": [
        "split_rows_when"
      ],
      "metadata": {
        "colab": {
          "base_uri": "https://localhost:8080/"
        },
        "id": "EOl5YbXNzM2V",
        "outputId": "747c00fe-2b6b-49d0-f71f-94c0144cf6da"
      },
      "execution_count": 36,
      "outputs": [
        {
          "output_type": "execute_result",
          "data": {
            "text/plain": [
              "2423"
            ]
          },
          "metadata": {},
          "execution_count": 36
        }
      ]
    },
    {
      "cell_type": "markdown",
      "source": [
        "Reshaping the values with an additional dimension for the scaler to work.\n"
      ],
      "metadata": {
        "id": "oSFAxmpX1Fdf"
      }
    },
    {
      "cell_type": "code",
      "source": [
        "from sklearn.preprocessing import MinMaxScaler\n",
        "scaler = MinMaxScaler()\n",
        "close_price = prices.Close.values.reshape(-1, 1)\n",
        "scaled_price = scaler.fit_transform(close_price)"
      ],
      "metadata": {
        "id": "G1UYWlVTzU7a"
      },
      "execution_count": 37,
      "outputs": []
    },
    {
      "cell_type": "markdown",
      "source": [
        "Array reshaped:"
      ],
      "metadata": {
        "id": "XG4ZzXH32OZ-"
      }
    },
    {
      "cell_type": "code",
      "source": [
        "print(close_price)"
      ],
      "metadata": {
        "colab": {
          "base_uri": "https://localhost:8080/"
        },
        "id": "izYPmWWO2GzV",
        "outputId": "b37aa181-ea61-4602-f312-cba0b20371bc"
      },
      "execution_count": 38,
      "outputs": [
        {
          "output_type": "stream",
          "name": "stdout",
          "text": [
            "[[  457.334015]\n",
            " [  424.440002]\n",
            " [  394.79599 ]\n",
            " ...\n",
            " [16602.585938]\n",
            " [16547.496094]\n",
            " [16548.261719]]\n"
          ]
        }
      ]
    },
    {
      "cell_type": "markdown",
      "source": [
        "Removing NaN values from the array (if any):"
      ],
      "metadata": {
        "id": "JpCvxOBi2iUQ"
      }
    },
    {
      "cell_type": "code",
      "source": [
        "import numpy as np\n",
        "scaled_price = scaled_price[~np.isnan(scaled_price)]\n",
        "scaled_price = scaled_price.reshape(-1, 1)"
      ],
      "metadata": {
        "id": "hM1qVEWh2dJc"
      },
      "execution_count": 39,
      "outputs": []
    },
    {
      "cell_type": "markdown",
      "source": [
        "Array scaled with MinMaxScaler:"
      ],
      "metadata": {
        "id": "MvIFaUCw2RsV"
      }
    },
    {
      "cell_type": "code",
      "source": [
        "print(scaled_price)"
      ],
      "metadata": {
        "colab": {
          "base_uri": "https://localhost:8080/"
        },
        "id": "-XDMRIb-2LgH",
        "outputId": "074f5cbc-5587-4d7c-cb30-4af45ed8a067"
      },
      "execution_count": 40,
      "outputs": [
        {
          "output_type": "stream",
          "name": "stdout",
          "text": [
            "[[0.00414359]\n",
            " [0.00365546]\n",
            " [0.00321557]\n",
            " ...\n",
            " [0.24372746]\n",
            " [0.24290997]\n",
            " [0.24292133]]\n"
          ]
        }
      ]
    },
    {
      "cell_type": "markdown",
      "source": [
        "LSTM Preparation:"
      ],
      "metadata": {
        "id": "FYtSYkoK5Z7o"
      }
    },
    {
      "cell_type": "markdown",
      "source": [
        "Splitting the 1st dim of thearray after split_rows_when, because data cannot be randomized for LSTM neural network models to have high accuracy."
      ],
      "metadata": {
        "id": "HE5QWiDq23Jf"
      }
    },
    {
      "cell_type": "code",
      "source": [
        "treningowe = scaled_price[0:split_rows_when, :]"
      ],
      "metadata": {
        "id": "nc_yieYh2Uxj"
      },
      "execution_count": 41,
      "outputs": []
    },
    {
      "cell_type": "code",
      "source": [
        "treningowe.shape"
      ],
      "metadata": {
        "colab": {
          "base_uri": "https://localhost:8080/"
        },
        "id": "R1okrhJK9lnA",
        "outputId": "ecfdf2e3-a292-4b6a-c12d-24ddfa6ba5e9"
      },
      "execution_count": 42,
      "outputs": [
        {
          "output_type": "execute_result",
          "data": {
            "text/plain": [
              "(2423, 1)"
            ]
          },
          "metadata": {},
          "execution_count": 42
        }
      ]
    },
    {
      "cell_type": "code",
      "source": [
        "X_train = []\n",
        "y_train = []"
      ],
      "metadata": {
        "id": "NNgQoUcV5b0d"
      },
      "execution_count": 43,
      "outputs": []
    },
    {
      "cell_type": "markdown",
      "source": [
        "Picking the value of previous days for which the model would take the prices into account when calculating predictions:"
      ],
      "metadata": {
        "id": "TK4dHMut8KoI"
      }
    },
    {
      "cell_type": "code",
      "source": [
        "prev_days=60"
      ],
      "metadata": {
        "id": "H1guVY-88d1n"
      },
      "execution_count": 44,
      "outputs": []
    },
    {
      "cell_type": "code",
      "source": [
        "for i in range(prev_days, len(treningowe)):\n",
        "  X_train.append(treningowe[i-prev_days: i, 0])\n",
        "  y_train.append(treningowe[i, 0])\n",
        "\n",
        "  if i <= prev_days:\n",
        "    print(X_train)\n",
        "    print(y_train)\n",
        "    print()\n"
      ],
      "metadata": {
        "colab": {
          "base_uri": "https://localhost:8080/"
        },
        "id": "jlGOuyYH5kQp",
        "outputId": "599bc1b1-7578-4b5b-dcc6-ca9fa012d0f6"
      },
      "execution_count": 45,
      "outputs": [
        {
          "output_type": "stream",
          "name": "stdout",
          "text": [
            "[array([0.00414359, 0.00365546, 0.00321557, 0.00342492, 0.0032753 ,\n",
            "       0.00332473, 0.0038239 , 0.00363714, 0.00346454, 0.00335845,\n",
            "       0.00328567, 0.00295417, 0.00292874, 0.00309905, 0.00304965,\n",
            "       0.00292288, 0.00269198, 0.00223721, 0.00211322, 0.00225521,\n",
            "       0.00234585, 0.00259445, 0.0027738 , 0.0027224 , 0.00273334,\n",
            "       0.00297447, 0.00315054, 0.0033057 , 0.00321523, 0.00303393,\n",
            "       0.00305177, 0.0031658 , 0.00313766, 0.00303822, 0.00309209,\n",
            "       0.00304287, 0.00267573, 0.00267466, 0.00251033, 0.00262063,\n",
            "       0.00259518, 0.00266387, 0.00233701, 0.00248116, 0.00237752,\n",
            "       0.00219096, 0.00219308, 0.00221774, 0.00226134, 0.00239481,\n",
            "       0.00254029, 0.00243827, 0.00248387, 0.00274766, 0.00280197,\n",
            "       0.00281341, 0.00364242, 0.00360048, 0.00326041, 0.00293862])]\n",
            "[0.0031129686991635463]\n",
            "\n"
          ]
        }
      ]
    },
    {
      "cell_type": "markdown",
      "source": [
        "X_train -> 2363 array with prices for any 60 days from the input dates.\n",
        "\n",
        "y_train -> 2363 values of last price for those 60 days"
      ],
      "metadata": {
        "id": "pF4Oeefs9L6Q"
      }
    },
    {
      "cell_type": "code",
      "source": [
        "len(X_train)"
      ],
      "metadata": {
        "colab": {
          "base_uri": "https://localhost:8080/"
        },
        "id": "IpskCPd788QQ",
        "outputId": "2050507d-2e61-46a6-d70a-4625b22bab73"
      },
      "execution_count": 46,
      "outputs": [
        {
          "output_type": "execute_result",
          "data": {
            "text/plain": [
              "2363"
            ]
          },
          "metadata": {},
          "execution_count": 46
        }
      ]
    },
    {
      "cell_type": "code",
      "source": [
        "len(y_train)"
      ],
      "metadata": {
        "colab": {
          "base_uri": "https://localhost:8080/"
        },
        "id": "-COEen-K9DP_",
        "outputId": "23bd7685-eff6-44fb-e0eb-64eac710612b"
      },
      "execution_count": 47,
      "outputs": [
        {
          "output_type": "execute_result",
          "data": {
            "text/plain": [
              "2363"
            ]
          },
          "metadata": {},
          "execution_count": 47
        }
      ]
    },
    {
      "cell_type": "code",
      "source": [
        "X_train = np.array(X_train)\n",
        "\n",
        "y_train=np.array(y_train)"
      ],
      "metadata": {
        "id": "qMhYLYIB-VdJ"
      },
      "execution_count": 48,
      "outputs": []
    },
    {
      "cell_type": "code",
      "source": [
        "X_train.shape"
      ],
      "metadata": {
        "colab": {
          "base_uri": "https://localhost:8080/"
        },
        "id": "OGbPa7Rn-d9h",
        "outputId": "63c1268c-1caf-42a8-f08e-4aac7ec20170"
      },
      "execution_count": 49,
      "outputs": [
        {
          "output_type": "execute_result",
          "data": {
            "text/plain": [
              "(2363, 60)"
            ]
          },
          "metadata": {},
          "execution_count": 49
        }
      ]
    },
    {
      "cell_type": "code",
      "source": [
        "y_train.shape"
      ],
      "metadata": {
        "colab": {
          "base_uri": "https://localhost:8080/"
        },
        "id": "Q8ncPnCE-g_f",
        "outputId": "2679513d-f1b9-40d1-db50-180e5bc4b9cd"
      },
      "execution_count": 50,
      "outputs": [
        {
          "output_type": "execute_result",
          "data": {
            "text/plain": [
              "(2363,)"
            ]
          },
          "metadata": {},
          "execution_count": 50
        }
      ]
    },
    {
      "cell_type": "markdown",
      "source": [
        "LSTM network needs the input data to be 3-dimensional - adding a dummy dimension"
      ],
      "metadata": {
        "id": "K8jFJ51a-laW"
      }
    },
    {
      "cell_type": "code",
      "source": [
        "X_train = np.reshape(X_train, (X_train.shape[0], X_train.shape[1], 1))\n",
        "X_train.shape"
      ],
      "metadata": {
        "colab": {
          "base_uri": "https://localhost:8080/"
        },
        "id": "AEZQ3RSg-ps_",
        "outputId": "6abf1868-ee2f-435e-e80d-c2e9be86b49a"
      },
      "execution_count": 51,
      "outputs": [
        {
          "output_type": "execute_result",
          "data": {
            "text/plain": [
              "(2363, 60, 1)"
            ]
          },
          "metadata": {},
          "execution_count": 51
        }
      ]
    },
    {
      "cell_type": "markdown",
      "source": [
        "Same workflow for test data"
      ],
      "metadata": {
        "id": "AzEFnZEz-ymZ"
      }
    },
    {
      "cell_type": "markdown",
      "source": [
        "Splitting scaled_price array with the number of days threshold"
      ],
      "metadata": {
        "id": "V4MnGMpJlzEe"
      }
    },
    {
      "cell_type": "code",
      "source": [
        "testowe = scaled_price[split_rows_when-prev_days: , :]"
      ],
      "metadata": {
        "id": "fFujuxxY-tQP"
      },
      "execution_count": 52,
      "outputs": []
    },
    {
      "cell_type": "code",
      "source": [
        "X_test = []\n",
        "y_test = scaled_price[split_rows_when: , :]\n",
        "\n",
        "#appending same kind of values to X_test list -> 60 days prices\n",
        "for i in range(prev_days, len(testowe)):\n",
        "  X_test.append(testowe[i-prev_days : i, 0])"
      ],
      "metadata": {
        "id": "aArw_b79-5dP"
      },
      "execution_count": 53,
      "outputs": []
    },
    {
      "cell_type": "code",
      "source": [
        "#converting datatype to an array\n",
        "\n",
        "X_test = np.array(X_test)"
      ],
      "metadata": {
        "id": "N4XEVBIolw4N"
      },
      "execution_count": 54,
      "outputs": []
    },
    {
      "cell_type": "code",
      "source": [
        "#reshaping to a 3-dimensional array for LSTM to work with dummy dimension 1\n",
        "X_test = np.reshape(X_test, (X_test.shape[0], X_test.shape[1], 1))"
      ],
      "metadata": {
        "id": "cPjY3ZtMmNVz"
      },
      "execution_count": 55,
      "outputs": []
    },
    {
      "cell_type": "markdown",
      "source": [
        "Defining and designing the model"
      ],
      "metadata": {
        "id": "Dtshp2KdmgUD"
      }
    },
    {
      "cell_type": "code",
      "source": [
        "import tensorflow as tf\n",
        "from keras.models import Sequential\n",
        "from keras.layers import Dense, LSTM"
      ],
      "metadata": {
        "id": "ymeDzkASmWs4"
      },
      "execution_count": 56,
      "outputs": []
    },
    {
      "cell_type": "markdown",
      "source": [
        "Setting up the global random seed"
      ],
      "metadata": {
        "id": "jjoXQTvonqEI"
      }
    },
    {
      "cell_type": "code",
      "source": [
        "tf.random.set_seed(23)"
      ],
      "metadata": {
        "id": "NEDNqLHUm1DM"
      },
      "execution_count": 57,
      "outputs": []
    },
    {
      "cell_type": "markdown",
      "source": [
        "The model will consist of 4 layers:\n",
        "\n",
        "\n",
        "*   1st LSTM layer that will receive the input data from the sequence of prices for any 60 days and will return sequential data in the output\n",
        "*   2nd LSTM layer that will receive the 1st output and then return the last output in the output sequence\n",
        "*   3rd layer - Dense with an output of 25 units and bias set to true\n",
        "*   4th layer - Dense with an output of only one unit - one predicted Bitcoin price"
      ],
      "metadata": {
        "id": "0U2CfxsZoGPc"
      }
    },
    {
      "cell_type": "code",
      "source": [
        "input1 = (X_train.shape[1], 1)"
      ],
      "metadata": {
        "id": "waPZxwzABBzi"
      },
      "execution_count": 58,
      "outputs": []
    },
    {
      "cell_type": "code",
      "source": [
        "Imodel = Sequential()\n",
        "Imodel.add(LSTM(50, return_sequences=True, input_shape=input1))\n",
        "Imodel.add(LSTM(50, return_sequences=False))\n",
        "Imodel.add(Dense(25, use_bias=True))\n",
        "Imodel.add(Dense(1, use_bias=True))"
      ],
      "metadata": {
        "id": "2Gb47vsPnsOM"
      },
      "execution_count": 59,
      "outputs": []
    },
    {
      "cell_type": "code",
      "source": [
        "Imodel.summary()"
      ],
      "metadata": {
        "colab": {
          "base_uri": "https://localhost:8080/"
        },
        "id": "to9UnYzMaaVN",
        "outputId": "5a992970-a990-4948-90dd-f45b09e4c05a"
      },
      "execution_count": 74,
      "outputs": [
        {
          "output_type": "stream",
          "name": "stdout",
          "text": [
            "Model: \"sequential\"\n",
            "_________________________________________________________________\n",
            " Layer (type)                Output Shape              Param #   \n",
            "=================================================================\n",
            " lstm (LSTM)                 (None, 60, 50)            10400     \n",
            "                                                                 \n",
            " lstm_1 (LSTM)               (None, 50)                20200     \n",
            "                                                                 \n",
            " dense (Dense)               (None, 25)                1275      \n",
            "                                                                 \n",
            " dense_1 (Dense)             (None, 1)                 26        \n",
            "                                                                 \n",
            "=================================================================\n",
            "Total params: 31,901\n",
            "Trainable params: 31,901\n",
            "Non-trainable params: 0\n",
            "_________________________________________________________________\n"
          ]
        }
      ]
    },
    {
      "cell_type": "markdown",
      "source": [
        "Compiling the Ist model.\n",
        "\n",
        "\n",
        "Optimizing with Adam - stochastic gradient descent (based on adaptive estimation of first-order and second-order moments).\n",
        "\n",
        "Loss as MSE."
      ],
      "metadata": {
        "id": "jcS9X1zJEc5N"
      }
    },
    {
      "cell_type": "code",
      "source": [
        "import keras"
      ],
      "metadata": {
        "id": "nWiCWiqIVP0K"
      },
      "execution_count": 60,
      "outputs": []
    },
    {
      "cell_type": "code",
      "source": [
        "loss_fn = keras.losses.MeanSquaredError()"
      ],
      "metadata": {
        "id": "4e4eFjW6FTkZ"
      },
      "execution_count": 61,
      "outputs": []
    },
    {
      "cell_type": "code",
      "source": [
        "Imodel.compile(loss=loss_fn, optimizer='adam')"
      ],
      "metadata": {
        "id": "undFVXeuELZG"
      },
      "execution_count": 62,
      "outputs": []
    },
    {
      "cell_type": "markdown",
      "source": [
        "Preparing a callback for Early Stopping of the model if loss is increasing (monitor parameter as loss)."
      ],
      "metadata": {
        "id": "88EHa1wLGOXs"
      }
    },
    {
      "cell_type": "code",
      "source": [
        "callback = tf.keras.callbacks.EarlyStopping(monitor='loss', patience=2)\n",
        "epochs = Imodel.fit(X_train, y_train, batch_size=1, shuffle=False, epochs=10)"
      ],
      "metadata": {
        "colab": {
          "base_uri": "https://localhost:8080/"
        },
        "id": "181q7Lh-GCOn",
        "outputId": "45bab462-69aa-4c8c-cd84-99afb8062c89"
      },
      "execution_count": 63,
      "outputs": [
        {
          "output_type": "stream",
          "name": "stdout",
          "text": [
            "Epoch 1/10\n",
            "2363/2363 [==============================] - 75s 30ms/step - loss: 0.0017\n",
            "Epoch 2/10\n",
            "2363/2363 [==============================] - 69s 29ms/step - loss: 6.8387e-04\n",
            "Epoch 3/10\n",
            "2363/2363 [==============================] - 71s 30ms/step - loss: 4.9632e-04\n",
            "Epoch 4/10\n",
            "2363/2363 [==============================] - 69s 29ms/step - loss: 4.2155e-04\n",
            "Epoch 5/10\n",
            "2363/2363 [==============================] - 68s 29ms/step - loss: 2.4003e-04\n",
            "Epoch 6/10\n",
            "2363/2363 [==============================] - 69s 29ms/step - loss: 3.2718e-04\n",
            "Epoch 7/10\n",
            "2363/2363 [==============================] - 68s 29ms/step - loss: 2.1518e-04\n",
            "Epoch 8/10\n",
            "2363/2363 [==============================] - 67s 29ms/step - loss: 3.3853e-04\n",
            "Epoch 9/10\n",
            "2363/2363 [==============================] - 69s 29ms/step - loss: 2.2903e-04\n",
            "Epoch 10/10\n",
            "2363/2363 [==============================] - 68s 29ms/step - loss: 2.0023e-04\n"
          ]
        }
      ]
    },
    {
      "cell_type": "markdown",
      "source": [
        "Making predictions from X_test"
      ],
      "metadata": {
        "id": "eL3vOB2gGtbA"
      }
    },
    {
      "cell_type": "code",
      "source": [
        "pred = Imodel.predict(X_test)\n",
        "\n",
        "#unscalling the predictions\n",
        "pred = scaler.inverse_transform(pred)\n",
        "\n",
        "#number of pred\n",
        "len(pred)"
      ],
      "metadata": {
        "colab": {
          "base_uri": "https://localhost:8080/"
        },
        "id": "pPoOynszGNd1",
        "outputId": "ab361a06-9ab2-4811-ab5d-b1216726206a"
      },
      "execution_count": 64,
      "outputs": [
        {
          "output_type": "stream",
          "name": "stdout",
          "text": [
            "19/19 [==============================] - 1s 19ms/step\n"
          ]
        },
        {
          "output_type": "execute_result",
          "data": {
            "text/plain": [
              "606"
            ]
          },
          "metadata": {},
          "execution_count": 64
        }
      ]
    },
    {
      "cell_type": "markdown",
      "source": [
        "Defining the function for calculating the root mean square error of the model"
      ],
      "metadata": {
        "id": "NSVNmbgoHfjr"
      }
    },
    {
      "cell_type": "code",
      "source": [
        "def rmse(prediction,testing):\n",
        "  return np.sqrt(np.mean(prediction - testing)**2)"
      ],
      "metadata": {
        "id": "jzDqVKbhHNf-"
      },
      "execution_count": 65,
      "outputs": []
    },
    {
      "cell_type": "markdown",
      "source": [
        "RMSE for Imodel"
      ],
      "metadata": {
        "id": "30hCA6uEHxQR"
      }
    },
    {
      "cell_type": "code",
      "source": [
        "rmse(pred,y_test)"
      ],
      "metadata": {
        "colab": {
          "base_uri": "https://localhost:8080/"
        },
        "id": "F4OUIFuJHGmj",
        "outputId": "ff66c2f2-24be-4d54-ca51-93c719073711"
      },
      "execution_count": 66,
      "outputs": [
        {
          "output_type": "execute_result",
          "data": {
            "text/plain": [
              "36122.513193061575"
            ]
          },
          "metadata": {},
          "execution_count": 66
        }
      ]
    },
    {
      "cell_type": "markdown",
      "source": [
        "RMSE is 36122,5."
      ],
      "metadata": {
        "id": "M-1klghNZyA5"
      }
    },
    {
      "cell_type": "markdown",
      "source": [
        "Creating a df from dictionary of the epochs for the Ist model"
      ],
      "metadata": {
        "id": "01axdf_pUu9y"
      }
    },
    {
      "cell_type": "code",
      "source": [
        "from keras.callbacks import History\n",
        "plot_of_epochs = pd.DataFrame(epochs.history)"
      ],
      "metadata": {
        "id": "UaayTysaUsQf"
      },
      "execution_count": 72,
      "outputs": []
    },
    {
      "cell_type": "code",
      "source": [
        "plot_of_epochs.index += 0\n",
        "plot_of_epochs.plot()\n",
        "plt.xlabel(\"epoch\")\n",
        "plt.ylabel(\"loss\")"
      ],
      "metadata": {
        "colab": {
          "base_uri": "https://localhost:8080/",
          "height": 296
        },
        "id": "_TOw5i7UHnzz",
        "outputId": "0cfab9b8-e0f8-4279-b701-aff7c7139023"
      },
      "execution_count": 73,
      "outputs": [
        {
          "output_type": "execute_result",
          "data": {
            "text/plain": [
              "Text(0, 0.5, 'loss')"
            ]
          },
          "metadata": {},
          "execution_count": 73
        },
        {
          "output_type": "display_data",
          "data": {
            "text/plain": [
              "<Figure size 432x288 with 1 Axes>"
            ],
            "image/png": "[encoded data removed]"
          },
          "metadata": {
            "needs_background": "light"
          }
        }
      ]
    },
    {
      "cell_type": "markdown",
      "source": [
        "Best performance of model I is observed in the last epoch (10th), so no need to create it all over again."
      ],
      "metadata": {
        "id": "m-_E78hLZ3qZ"
      }
    },
    {
      "cell_type": "markdown",
      "source": [
        "Model evaluation"
      ],
      "metadata": {
        "id": "DfJIU29Pe1qg"
      }
    },
    {
      "cell_type": "code",
      "source": [
        "import math\n",
        "\n",
        "y_test_eval = scaler.inverse_transform(y_test)\n",
        "#pred is inverted already\n",
        "\n",
        "array_conc_eval_pred = np.concatenate((y_test_eval,pred),axis=1)\n",
        "\n",
        "df_pred = pd.DataFrame(data = array_conc_eval_pred, columns=[\"actual\", \"predicted\"])\n",
        "\n",
        "df_pred"
      ],
      "metadata": {
        "colab": {
          "base_uri": "https://localhost:8080/",
          "height": 424
        },
        "id": "i1gKXHWbaGKA",
        "outputId": "948393e9-7696-4a66-9623-cf196c54d6d9"
      },
      "execution_count": 77,
      "outputs": [
        {
          "output_type": "execute_result",
          "data": {
            "text/plain": [
              "           actual     predicted\n",
              "0    56396.515625  57609.953125\n",
              "1    57356.402344  56344.523438\n",
              "2    58803.777344  57444.332031\n",
              "3    58232.316406  58756.574219\n",
              "4    55859.796875  58160.500000\n",
              "..            ...           ...\n",
              "601  16552.572266  16946.335938\n",
              "602  16642.341797  16782.958984\n",
              "603  16602.585938  16844.162109\n",
              "604  16547.496094  16803.640625\n",
              "605  16548.261719  16751.966797\n",
              "\n",
              "[606 rows x 2 columns]"
            ],
            "text/html": [
              "\n",
              "  <div id=\"df-3ad658f0-5fe6-4c55-a21b-7e674fa20fd0\">\n",
              "    <div class=\"colab-df-container\">\n",
              "      <div>\n",
              "<style scoped>\n",
              "    .dataframe tbody tr th:only-of-type {\n",
              "        vertical-align: middle;\n",
              "    }\n",
              "\n",
              "    .dataframe tbody tr th {\n",
              "        vertical-align: top;\n",
              "    }\n",
              "\n",
              "    .dataframe thead th {\n",
              "        text-align: right;\n",
              "    }\n",
              "</style>\n",
              "<table border=\"1\" class=\"dataframe\">\n",
              "  <thead>\n",
              "    <tr style=\"text-align: right;\">\n",
              "      <th></th>\n",
              "      <th>actual</th>\n",
              "      <th>predicted</th>\n",
              "    </tr>\n",
              "  </thead>\n",
              "  <tbody>\n",
              "    <tr>\n",
              "      <th>0</th>\n",
              "      <td>56396.515625</td>\n",
              "      <td>57609.953125</td>\n",
              "    </tr>\n",
              "    <tr>\n",
              "      <th>1</th>\n",
              "      <td>57356.402344</td>\n",
              "      <td>56344.523438</td>\n",
              "    </tr>\n",
              "    <tr>\n",
              "      <th>2</th>\n",
              "      <td>58803.777344</td>\n",
              "      <td>57444.332031</td>\n",
              "    </tr>\n",
              "    <tr>\n",
              "      <th>3</th>\n",
              "      <td>58232.316406</td>\n",
              "      <td>58756.574219</td>\n",
              "    </tr>\n",
              "    <tr>\n",
              "      <th>4</th>\n",
              "      <td>55859.796875</td>\n",
              "      <td>58160.500000</td>\n",
              "    </tr>\n",
              "    <tr>\n",
              "      <th>...</th>\n",
              "      <td>...</td>\n",
              "      <td>...</td>\n",
              "    </tr>\n",
              "    <tr>\n",
              "      <th>601</th>\n",
              "      <td>16552.572266</td>\n",
              "      <td>16946.335938</td>\n",
              "    </tr>\n",
              "    <tr>\n",
              "      <th>602</th>\n",
              "      <td>16642.341797</td>\n",
              "      <td>16782.958984</td>\n",
              "    </tr>\n",
              "    <tr>\n",
              "      <th>603</th>\n",
              "      <td>16602.585938</td>\n",
              "      <td>16844.162109</td>\n",
              "    </tr>\n",
              "    <tr>\n",
              "      <th>604</th>\n",
              "      <td>16547.496094</td>\n",
              "      <td>16803.640625</td>\n",
              "    </tr>\n",
              "    <tr>\n",
              "      <th>605</th>\n",
              "      <td>16548.261719</td>\n",
              "      <td>16751.966797</td>\n",
              "    </tr>\n",
              "  </tbody>\n",
              "</table>\n",
              "<p>606 rows × 2 columns</p>\n",
              "</div>\n",
              "      <button class=\"colab-df-convert\" onclick=\"convertToInteractive('df-3ad658f0-5fe6-4c55-a21b-7e674fa20fd0')\"\n",
              "              title=\"Convert this dataframe to an interactive table.\"\n",
              "              style=\"display:none;\">\n",
              "        \n",
              "  <svg xmlns=\"http://www.w3.org/2000/svg\" height=\"24px\"viewBox=\"0 0 24 24\"\n",
              "       width=\"24px\">\n",
              "    <path d=\"M0 0h24v24H0V0z\" fill=\"none\"/>\n",
              "    <path d=\"M18.56 5.44l.94 2.06.94-2.06 2.06-.94-2.06-.94-.94-2.06-.94 2.06-2.06.94zm-11 1L8.5 8.5l.94-2.06 2.06-.94-2.06-.94L8.5 2.5l-.94 2.06-2.06.94zm10 10l.94 2.06.94-2.06 2.06-.94-2.06-.94-.94-2.06-.94 2.06-2.06.94z\"/><path d=\"M17.41 7.96l-1.37-1.37c-.4-.4-.92-.59-1.43-.59-.52 0-1.04.2-1.43.59L10.3 9.45l-7.72 7.72c-.78.78-.78 2.05 0 2.83L4 21.41c.39.39.9.59 1.41.59.51 0 1.02-.2 1.41-.59l7.78-7.78 2.81-2.81c.8-.78.8-2.07 0-2.86zM5.41 20L4 18.59l7.72-7.72 1.47 1.35L5.41 20z\"/>\n",
              "  </svg>\n",
              "      </button>\n",
              "      \n",
              "  <style>\n",
              "    .colab-df-container {\n",
              "      display:flex;\n",
              "      flex-wrap:wrap;\n",
              "      gap: 12px;\n",
              "    }\n",
              "\n",
              "    .colab-df-convert {\n",
              "      background-color: #E8F0FE;\n",
              "      border: none;\n",
              "      border-radius: 50%;\n",
              "      cursor: pointer;\n",
              "      display: none;\n",
              "      fill: #1967D2;\n",
              "      height: 32px;\n",
              "      padding: 0 0 0 0;\n",
              "      width: 32px;\n",
              "    }\n",
              "\n",
              "    .colab-df-convert:hover {\n",
              "      background-color: #E2EBFA;\n",
              "      box-shadow: 0px 1px 2px rgba(60, 64, 67, 0.3), 0px 1px 3px 1px rgba(60, 64, 67, 0.15);\n",
              "      fill: #174EA6;\n",
              "    }\n",
              "\n",
              "    [theme=dark] .colab-df-convert {\n",
              "      background-color: #3B4455;\n",
              "      fill: #D2E3FC;\n",
              "    }\n",
              "\n",
              "    [theme=dark] .colab-df-convert:hover {\n",
              "      background-color: #434B5C;\n",
              "      box-shadow: 0px 1px 3px 1px rgba(0, 0, 0, 0.15);\n",
              "      filter: drop-shadow(0px 1px 2px rgba(0, 0, 0, 0.3));\n",
              "      fill: #FFFFFF;\n",
              "    }\n",
              "  </style>\n",
              "\n",
              "      <script>\n",
              "        const buttonEl =\n",
              "          document.querySelector('#df-3ad658f0-5fe6-4c55-a21b-7e674fa20fd0 button.colab-df-convert');\n",
              "        buttonEl.style.display =\n",
              "          google.colab.kernel.accessAllowed ? 'block' : 'none';\n",
              "\n",
              "        async function convertToInteractive(key) {\n",
              "          const element = document.querySelector('#df-3ad658f0-5fe6-4c55-a21b-7e674fa20fd0');\n",
              "          const dataTable =\n",
              "            await google.colab.kernel.invokeFunction('convertToInteractive',\n",
              "                                                     [key], {});\n",
              "          if (!dataTable) return;\n",
              "\n",
              "          const docLinkHtml = 'Like what you see? Visit the ' +\n",
              "            '<a target=\"_blank\" href=https://colab.research.google.com/notebooks/data_table.ipynb>data table notebook</a>'\n",
              "            + ' to learn more about interactive tables.';\n",
              "          element.innerHTML = '';\n",
              "          dataTable['output_type'] = 'display_data';\n",
              "          await google.colab.output.renderOutput(dataTable, element);\n",
              "          const docLink = document.createElement('div');\n",
              "          docLink.innerHTML = docLinkHtml;\n",
              "          element.appendChild(docLink);\n",
              "        }\n",
              "      </script>\n",
              "    </div>\n",
              "  </div>\n",
              "  "
            ]
          },
          "metadata": {},
          "execution_count": 77
        }
      ]
    },
    {
      "cell_type": "code",
      "source": [
        "from sklearn.metrics import accuracy_score\n",
        "from sklearn.metrics import mean_squared_error\n",
        "\n",
        "results = Imodel.evaluate(X_test, y_test)\n",
        "\n",
        "print(\"mse: %s\" % (mean_squared_error(y_test_eval, pred)))\n",
        "print(results)"
      ],
      "metadata": {
        "colab": {
          "base_uri": "https://localhost:8080/"
        },
        "id": "y9fjxLKhfGML",
        "outputId": "cb2912f1-195e-45c5-8220-24a84dbb5b2b"
      },
      "execution_count": 79,
      "outputs": [
        {
          "output_type": "stream",
          "name": "stdout",
          "text": [
            "19/19 [==============================] - 0s 18ms/step - loss: 5.1095e-04\n",
            "mse: 2320339.8493948737\n",
            "0.0005109483026899397\n"
          ]
        }
      ]
    },
    {
      "cell_type": "code",
      "source": [
        "ar_test = np.repeat(1, len(y_test_eval))\n",
        "ar_pred = np.repeat(2, len(pred))\n",
        "\n",
        "df_test = pd.DataFrame(data = np.concatenate((y_test_eval,(np.reshape(ar_test, (-1, 1)))),axis=1), columns=[\"price\",\"act/pred\"])\n",
        "df_pred = pd.DataFrame(data = np.concatenate((pred,(np.reshape(ar_pred, (-1, 1)))),axis=1), columns=[\"price\",\"act/pred\"])\n",
        "\n",
        "df_both = [df_test, df_pred]\n",
        "df_3 = pd.concat(df_both, ignore_index=False)\n",
        "\n",
        "df_3[\"act/pred\"].replace({1: \"act\", 2: \"pred\"}, inplace=True)\n",
        "df_3.head(10)"
      ],
      "metadata": {
        "colab": {
          "base_uri": "https://localhost:8080/",
          "height": 363
        },
        "id": "M9Te38A5f3KJ",
        "outputId": "a8634b3b-717d-4372-9de4-c36ce3c9f19d"
      },
      "execution_count": 83,
      "outputs": [
        {
          "output_type": "execute_result",
          "data": {
            "text/plain": [
              "          price act/pred\n",
              "0  56396.515625      act\n",
              "1  57356.402344      act\n",
              "2  58803.777344      act\n",
              "3  58232.316406      act\n",
              "4  55859.796875      act\n",
              "5  56704.574219      act\n",
              "6  49150.535156      act\n",
              "7  49716.191406      act\n",
              "8  49880.535156      act\n",
              "9  46760.187500      act"
            ],
            "text/html": [
              "\n",
              "  <div id=\"df-ba68c969-0f8f-44ce-8894-faeb420cbfa6\">\n",
              "    <div class=\"colab-df-container\">\n",
              "      <div>\n",
              "<style scoped>\n",
              "    .dataframe tbody tr th:only-of-type {\n",
              "        vertical-align: middle;\n",
              "    }\n",
              "\n",
              "    .dataframe tbody tr th {\n",
              "        vertical-align: top;\n",
              "    }\n",
              "\n",
              "    .dataframe thead th {\n",
              "        text-align: right;\n",
              "    }\n",
              "</style>\n",
              "<table border=\"1\" class=\"dataframe\">\n",
              "  <thead>\n",
              "    <tr style=\"text-align: right;\">\n",
              "      <th></th>\n",
              "      <th>price</th>\n",
              "      <th>act/pred</th>\n",
              "    </tr>\n",
              "  </thead>\n",
              "  <tbody>\n",
              "    <tr>\n",
              "      <th>0</th>\n",
              "      <td>56396.515625</td>\n",
              "      <td>act</td>\n",
              "    </tr>\n",
              "    <tr>\n",
              "      <th>1</th>\n",
              "      <td>57356.402344</td>\n",
              "      <td>act</td>\n",
              "    </tr>\n",
              "    <tr>\n",
              "      <th>2</th>\n",
              "      <td>58803.777344</td>\n",
              "      <td>act</td>\n",
              "    </tr>\n",
              "    <tr>\n",
              "      <th>3</th>\n",
              "      <td>58232.316406</td>\n",
              "      <td>act</td>\n",
              "    </tr>\n",
              "    <tr>\n",
              "      <th>4</th>\n",
              "      <td>55859.796875</td>\n",
              "      <td>act</td>\n",
              "    </tr>\n",
              "    <tr>\n",
              "      <th>5</th>\n",
              "      <td>56704.574219</td>\n",
              "      <td>act</td>\n",
              "    </tr>\n",
              "    <tr>\n",
              "      <th>6</th>\n",
              "      <td>49150.535156</td>\n",
              "      <td>act</td>\n",
              "    </tr>\n",
              "    <tr>\n",
              "      <th>7</th>\n",
              "      <td>49716.191406</td>\n",
              "      <td>act</td>\n",
              "    </tr>\n",
              "    <tr>\n",
              "      <th>8</th>\n",
              "      <td>49880.535156</td>\n",
              "      <td>act</td>\n",
              "    </tr>\n",
              "    <tr>\n",
              "      <th>9</th>\n",
              "      <td>46760.187500</td>\n",
              "      <td>act</td>\n",
              "    </tr>\n",
              "  </tbody>\n",
              "</table>\n",
              "</div>\n",
              "      <button class=\"colab-df-convert\" onclick=\"convertToInteractive('df-ba68c969-0f8f-44ce-8894-faeb420cbfa6')\"\n",
              "              title=\"Convert this dataframe to an interactive table.\"\n",
              "              style=\"display:none;\">\n",
              "        \n",
              "  <svg xmlns=\"http://www.w3.org/2000/svg\" height=\"24px\"viewBox=\"0 0 24 24\"\n",
              "       width=\"24px\">\n",
              "    <path d=\"M0 0h24v24H0V0z\" fill=\"none\"/>\n",
              "    <path d=\"M18.56 5.44l.94 2.06.94-2.06 2.06-.94-2.06-.94-.94-2.06-.94 2.06-2.06.94zm-11 1L8.5 8.5l.94-2.06 2.06-.94-2.06-.94L8.5 2.5l-.94 2.06-2.06.94zm10 10l.94 2.06.94-2.06 2.06-.94-2.06-.94-.94-2.06-.94 2.06-2.06.94z\"/><path d=\"M17.41 7.96l-1.37-1.37c-.4-.4-.92-.59-1.43-.59-.52 0-1.04.2-1.43.59L10.3 9.45l-7.72 7.72c-.78.78-.78 2.05 0 2.83L4 21.41c.39.39.9.59 1.41.59.51 0 1.02-.2 1.41-.59l7.78-7.78 2.81-2.81c.8-.78.8-2.07 0-2.86zM5.41 20L4 18.59l7.72-7.72 1.47 1.35L5.41 20z\"/>\n",
              "  </svg>\n",
              "      </button>\n",
              "      \n",
              "  <style>\n",
              "    .colab-df-container {\n",
              "      display:flex;\n",
              "      flex-wrap:wrap;\n",
              "      gap: 12px;\n",
              "    }\n",
              "\n",
              "    .colab-df-convert {\n",
              "      background-color: #E8F0FE;\n",
              "      border: none;\n",
              "      border-radius: 50%;\n",
              "      cursor: pointer;\n",
              "      display: none;\n",
              "      fill: #1967D2;\n",
              "      height: 32px;\n",
              "      padding: 0 0 0 0;\n",
              "      width: 32px;\n",
              "    }\n",
              "\n",
              "    .colab-df-convert:hover {\n",
              "      background-color: #E2EBFA;\n",
              "      box-shadow: 0px 1px 2px rgba(60, 64, 67, 0.3), 0px 1px 3px 1px rgba(60, 64, 67, 0.15);\n",
              "      fill: #174EA6;\n",
              "    }\n",
              "\n",
              "    [theme=dark] .colab-df-convert {\n",
              "      background-color: #3B4455;\n",
              "      fill: #D2E3FC;\n",
              "    }\n",
              "\n",
              "    [theme=dark] .colab-df-convert:hover {\n",
              "      background-color: #434B5C;\n",
              "      box-shadow: 0px 1px 3px 1px rgba(0, 0, 0, 0.15);\n",
              "      filter: drop-shadow(0px 1px 2px rgba(0, 0, 0, 0.3));\n",
              "      fill: #FFFFFF;\n",
              "    }\n",
              "  </style>\n",
              "\n",
              "      <script>\n",
              "        const buttonEl =\n",
              "          document.querySelector('#df-ba68c969-0f8f-44ce-8894-faeb420cbfa6 button.colab-df-convert');\n",
              "        buttonEl.style.display =\n",
              "          google.colab.kernel.accessAllowed ? 'block' : 'none';\n",
              "\n",
              "        async function convertToInteractive(key) {\n",
              "          const element = document.querySelector('#df-ba68c969-0f8f-44ce-8894-faeb420cbfa6');\n",
              "          const dataTable =\n",
              "            await google.colab.kernel.invokeFunction('convertToInteractive',\n",
              "                                                     [key], {});\n",
              "          if (!dataTable) return;\n",
              "\n",
              "          const docLinkHtml = 'Like what you see? Visit the ' +\n",
              "            '<a target=\"_blank\" href=https://colab.research.google.com/notebooks/data_table.ipynb>data table notebook</a>'\n",
              "            + ' to learn more about interactive tables.';\n",
              "          element.innerHTML = '';\n",
              "          dataTable['output_type'] = 'display_data';\n",
              "          await google.colab.output.renderOutput(dataTable, element);\n",
              "          const docLink = document.createElement('div');\n",
              "          docLink.innerHTML = docLinkHtml;\n",
              "          element.appendChild(docLink);\n",
              "        }\n",
              "      </script>\n",
              "    </div>\n",
              "  </div>\n",
              "  "
            ]
          },
          "metadata": {},
          "execution_count": 83
        }
      ]
    },
    {
      "cell_type": "code",
      "source": [
        "len(df_3)"
      ],
      "metadata": {
        "colab": {
          "base_uri": "https://localhost:8080/"
        },
        "id": "UOC1ZvPbhpXO",
        "outputId": "bf191199-41e5-496e-cbd3-f5c432e14e2a"
      },
      "execution_count": 86,
      "outputs": [
        {
          "output_type": "execute_result",
          "data": {
            "text/plain": [
              "1212"
            ]
          },
          "metadata": {},
          "execution_count": 86
        }
      ]
    },
    {
      "cell_type": "markdown",
      "source": [
        "Visualization of the predicted and actual BTC prices from **May 07, 2021** to **Dec 31, 2022**"
      ],
      "metadata": {
        "id": "Eg7E5zKiiQoK"
      }
    },
    {
      "cell_type": "code",
      "source": [
        "import plotly.express as px\n",
        "fig = px.line(df_3, x=df_3.index.values, y=\"price\", color='act/pred', title='BTC Price from May 2021 to Jan 2023')\n",
        "fig.show()"
      ],
      "metadata": {
        "colab": {
          "base_uri": "https://localhost:8080/",
          "height": 542
        },
        "id": "iJ_ADGupe-Fb",
        "outputId": "db652089-2442-4527-9638-0bd2cb060df9"
      },
      "execution_count": 90,
      "outputs": [
        {
          "output_type": "display_data",
          "data": {
            "text/html": [
              "<html>\n",
              "<head><meta charset=\"utf-8\" /></head>\n",
              "<body>\n",
              "    <div>            <script src=\"https://cdnjs.cloudflare.com/ajax/libs/mathjax/2.7.5/MathJax.js?config=TeX-AMS-MML_SVG\"></script><script type=\"text/javascript\">if (window.MathJax) {MathJax.Hub.Config({SVG: {font: \"STIX-Web\"}});}</script>                <script type=\"text/javascript\">window.PlotlyConfig = {MathJaxConfig: 'local'};</script>\n",
              "        <script src=\"https://cdn.plot.ly/plotly-2.8.3.min.js\"></script>                <div id=\"efe1a316-6f6e-4c3d-b2dd-7fbb1a6219ce\" class=\"plotly-graph-div\" style=\"height:525px; width:100%;\"></div>            <script type=\"text/javascript\">                                    window.PLOTLYENV=window.PLOTLYENV || {};                                    if (document.getElementById(\"efe1a316-6f6e-4c3d-b2dd-7fbb1a6219ce\")) {                    Plotly.newPlot(                        \"efe1a316-6f6e-4c3d-b2dd-7fbb1a6219ce\",                        [{\"hovertemplate\":\"act/pred=act<br>x=%{x}<br>price=%{y}<extra></extra>\",\"legendgroup\":\"act\",\"line\":{\"color\":\"#636efa\",\"dash\":\"solid\"},\"marker\":{\"symbol\":\"circle\"},\"mode\":\"lines\",\"name\":\"act\",\"showlegend\":true,\"x\":[0,1,2,3,4,5,6,7,8,9,10,11,12,13,14,15,16,17,18,19,20,21,22,23,24,25,26,27,28,29,30,31,32,33,34,35,36,37,38,39,40,41,42,43,44,45,46,47,48,49,50,51,52,53,54,55,56,57,58,59,60,61,62,63,64,65,66,67,68,69,70,71,72,73,74,75,76,77,78,79,80,81,82,83,84,85,86,87,88,89,90,91,92,93,94,95,96,97,98,99,100,101,102,103,104,105,106,107,108,109,110,111,112,113,114,115,116,117,118,119,120,121,122,123,124,125,126,127,128,129,130,131,132,133,134,135,136,137,138,139,140,141,142,143,144,145,146,147,148,149,150,151,152,153,154,155,156,157,158,159,160,161,162,163,164,165,166,167,168,169,170,171,172,173,174,175,176,177,178,179,180,181,182,183,184,185,186,187,188,189,190,191,192,193,194,195,196,197,198,199,200,201,202,203,204,205,206,207,208,209,210,211,212,213,214,215,216,217,218,219,220,221,222,223,224,225,226,227,228,229,230,231,232,233,234,235,236,237,238,239,240,241,242,243,244,245,246,247,248,249,250,251,252,253,254,255,256,257,258,259,260,261,262,263,264,265,266,267,268,269,270,271,272,273,274,275,276,277,278,279,280,281,282,283,284,285,286,287,288,289,290,291,292,293,294,295,296,297,298,299,300,301,302,303,304,305,306,307,308,309,310,311,312,313,314,315,316,317,318,319,320,321,322,323,324,325,326,327,328,329,330,331,332,333,334,335,336,337,338,339,340,341,342,343,344,345,346,347,348,349,350,351,352,353,354,355,356,357,358,359,360,361,362,363,364,365,366,367,368,369,370,371,372,373,374,375,376,377,378,379,380,381,382,383,384,385,386,387,388,389,390,391,392,393,394,395,396,397,398,399,400,401,402,403,404,405,406,407,408,409,410,411,412,413,414,415,416,417,418,419,420,421,422,423,424,425,426,427,428,429,430,431,432,433,434,435,436,437,438,439,440,441,442,443,444,445,446,447,448,449,450,451,452,453,454,455,456,457,458,459,460,461,462,463,464,465,466,467,468,469,470,471,472,473,474,475,476,477,478,479,480,481,482,483,484,485,486,487,488,489,490,491,492,493,494,495,496,497,498,499,500,501,502,503,504,505,506,507,508,509,510,511,512,513,514,515,516,517,518,519,520,521,522,523,524,525,526,527,528,529,530,531,532,533,534,535,536,537,538,539,540,541,542,543,544,545,546,547,548,549,550,551,552,553,554,555,556,557,558,559,560,561,562,563,564,565,566,567,568,569,570,571,572,573,574,575,576,577,578,579,580,581,582,583,584,585,586,587,588,589,590,591,592,593,594,595,596,597,598,599,600,601,602,603,604,605],\"xaxis\":\"x\",\"y\":[56396.515625,57356.402344,58803.777344,58232.316406,55859.796875,56704.574219,49150.535156,49716.191406,49880.535156,46760.1875,46456.058594,43537.511719,42909.402344,37002.441406,40782.738281,37304.691406,37536.632813,34770.582031,38705.980469,38402.222656,39294.199219,38436.96875,35697.605469,34616.066406,35678.128906,37332.855469,36684.925781,37575.179688,39208.765625,36894.40625,35551.957031,35862.378906,33560.707031,33472.632813,37345.121094,36702.597656,37334.398438,35552.515625,39097.859375,40218.476563,40406.269531,38347.0625,38053.503906,35787.246094,35615.871094,35698.296875,31676.693359,32505.660156,33723.027344,34662.4375,31637.779297,32186.277344,34649.644531,34434.335938,35867.777344,35040.835938,33572.117188,33897.046875,34668.54687500001,35287.78125,33746.003906,34235.19531299999,33855.328125,32877.371094,33798.011719,33520.519531,34240.1875,33155.847656,32702.025391,32822.347656,31780.730469,31421.539063,31533.068359,31796.810547,30817.832031,29807.347656,32110.693359,32313.105469,33581.550781,34292.445313,35350.1875,37337.535156,39406.941406,39995.90625,40008.421875,42235.546875,41626.195313,39974.894531,39201.945313,38152.980469,39747.503906,40869.554688,42816.5,44555.800781,43798.117188,46365.402344,45585.03125,45593.636719,44428.289063,47793.320313,47096.945313,47047.003906,46004.484375,44695.359375,44801.1875,46717.578125,49339.175781,48905.492188,49321.652344,49546.148438,47706.117188,48960.789063,46942.21875000001,49058.667969,48902.402344,48829.832031,47054.984375,47166.6875,48847.027344,49327.722656,50025.37499999999,49944.625,51753.410156,52633.535156,46811.128906,46091.390625,46391.421875,44883.910156,45201.457031,46063.269531,44963.074219,47092.492188,48176.347656,47783.359375,47267.519531,48278.363281,47260.21875,42843.800781,40693.675781,43574.507813,44895.097656,42839.75,42716.59375,43208.539063,42235.730469,41034.542969,41564.363281,43790.894531,48116.941406,47711.488281,48199.953125,49112.902344,51514.8125,55361.449219,53805.984375,53967.847656,54968.222656,54771.578125,57484.789063,56041.058594,57401.097656,57321.523438,61593.949219,60892.179688,61553.617188,62026.078125,64261.992188,65992.835938,62210.171875,60692.265625,61393.617188,60930.835938,63039.824219,60363.792969,58482.386719,60622.136719,62227.964844,61888.832031,61318.957031,61004.40625,63226.402344,62970.046875,61452.230469,61125.675781,61527.480469,63326.988281,67566.828125,66971.828125,64995.230469,64949.960938,64155.94140599999,64469.527344,65466.839844,63557.871094,60161.246094,60368.011719,56942.136719,58119.578125,59697.195313,58730.476563,56289.289063,57569.074219,56280.425781,57274.679688,53569.765625,54815.078125,57248.457031,57806.566406,57005.425781,57229.828125,56477.816406,53598.246094,49200.703125,49368.847656,50582.625,50700.085938,50504.796875,47672.121094,47243.304688,49362.507813,50098.335938,46737.480469,46612.632813,48896.722656,47665.425781,46202.144531,46848.777344,46707.015625,46880.277344,48936.613281,48628.511718999995,50784.539063,50822.195313,50429.859375,50809.515625,50640.417969,47588.855469,46444.710938,47178.125,46306.445313,47686.8125,47345.21875,46458.117188,45897.574219,43569.003906,43160.929688,41557.902344,41733.941406,41911.601563,41821.261719,42735.855469,43949.101563,42591.570313,43099.699219,43177.398438,43113.878906,42250.550781,42375.632813,41744.328125,40680.417969,36457.316406,35030.25,36276.804688000004,36654.328125,36954.003906,36852.121094,37138.234375,37784.332031,38138.179688,37917.601563,38483.12499999999,38743.273438,36952.984375,37154.601563,41500.875,41441.164063,42412.433594,43840.285156,44118.445313,44338.796875,43565.113281,42407.9375,42244.46875,42197.515625,42586.917969,44575.203125,43961.859375,40538.011719,40030.976563,40122.15625,38431.378906,37075.28125,38286.027344,37296.570313,38332.609375,39214.21875,39105.148438,37709.785156,43193.234375,44354.636719,43924.117188,42451.789063,39137.605469,39400.585938,38419.984375,38062.039063,38737.269531,41982.925781,39437.460938,38794.972656,38904.011719,37849.664063,39666.753906,39338.785156,41143.929688,40951.378906,41801.15625,42190.652344,41247.824219,41077.996094,42358.808594,42892.957031,43960.933594,44348.730469,44500.828125,46820.492188,47128.003906,47465.730469,47062.664063,45538.675781,46281.644531,45868.949219,46453.566406,46622.675781,45555.992188,43206.738281000005,43503.847656,42287.664063,42782.136719,42207.671875,39521.902344,40127.183594,41166.730469,39935.515625,40553.464844,40424.484375,39716.953125,40826.214844,41502.75,41374.378906,40527.363281,39740.320313,39486.730469,39469.292969,40458.308594,38117.460938,39241.121094,39773.828125,38609.824219,37714.875,38469.09375,38529.328125,37750.453125,39698.371094,36575.140625,36040.921875,35501.953125,34059.265625,30296.953125,31022.90625,28936.355469,29047.751953,29283.103516,30101.265625,31305.113281,29862.917969,30425.857422,28720.271484,30314.333984,29200.740234,29432.226563,30323.722656,29098.910156,29655.585938,29562.361328,29267.224609,28627.574219,28814.900391,29445.957031,31726.390625,31792.310547,29799.080077999995,30467.488281,29704.390625,29832.914063,29906.662109,31370.671875,31155.478516,30214.355469,30111.998047,29083.804688,28360.810547,26762.648438,22487.388672,22206.792969,22572.839844,20381.650391,20471.482422,19017.642578,20553.271484,20599.537109,20710.597656,19987.029297,21085.876953,21231.65625,21502.337891,21027.294922000005,20735.478516,20280.634766,20104.023438,19784.726563,19269.367188,19242.255859,19297.076172,20231.261719,20190.115234,20548.246094,21637.587891,21731.117188,21592.207031,20860.449219,19970.556641,19323.914063,20212.074219,20569.919922,20836.328125,21190.316406,20779.34375,22485.689453,23389.433594,23231.732422,23164.628906,22714.978516,22465.478516,22609.164063,21361.701172,21239.753906,22930.548828,23843.886719,23804.632813,23656.207030999998,23336.896484,23314.199219,22978.117188,22846.507813,22630.957031,23289.314453,22961.279297,23175.890625,23809.486328,23164.318359,23947.642578,23957.529297,24402.818359,24424.068359,24319.333984,24136.972656,23883.291016,23335.998047,23212.738281,20877.552734,21166.060547,21534.121094,21398.908203,21528.087891,21395.019531,21600.904297,20260.019531,20041.738281,19616.814452999995,20297.994141,19796.808594,20049.763672,20127.140625,19969.771484,19832.087891,19986.712891,19812.371094,18837.667969,19290.324219,19329.833984,21381.152344,21680.539063,21769.255859,22370.449219,20296.707031,20241.089844,19701.210937999997,19772.583984,20127.576172,19419.505859,19544.128906,18890.789063,18547.400391,19413.550781,19297.638672,18937.011719,18802.097656,19222.671875,19110.546875,19426.720703,19573.050781,19431.789063,19312.095703,19044.107422,19623.580078,20336.84375,20160.716797,19955.443359,19546.849609,19416.568359,19446.425781,19141.484375,19051.417969,19157.445313,19382.904297,19185.65625,19067.634766,19268.09375,19550.757813,19334.416016,19139.535156,19053.740234,19172.46875,19208.189453,19567.007813,19345.572265999996,20095.857422,20770.441406,20285.835938,20595.351563,20818.476563,20635.603516,20495.773438,20485.273438,20159.503906,20209.988281,21147.230469,21282.691406,20926.486328,20602.816406,18541.271484,15880.780273,17586.771484,17034.292969,16799.185547,16353.365234,16618.199219,16884.613281,16669.439453,16687.517578,16697.777344,16711.546875,16291.832031,15787.28418,16189.769531,16610.707031,16604.464844,16521.841797,16464.28125,16444.626953,16217.322266,16444.982422,17168.566406,16967.132812999997,17088.660156,16908.236328,17130.486328,16974.826172,17089.503906,16848.126953,17233.474609,17133.152344,17128.724609,17104.193359,17206.4375,17781.318359,17815.650391,17364.865234,16647.484375,16795.091797,16757.976563,16439.679688,16906.304688,16817.535156,16830.341797,16796.953125,16847.755859,16841.986328,16919.804688,16717.173828,16552.572266,16642.341797,16602.585938,16547.496094,16548.261719],\"yaxis\":\"y\",\"type\":\"scattergl\"},{\"hovertemplate\":\"act/pred=pred<br>x=%{x}<br>price=%{y}<extra></extra>\",\"legendgroup\":\"pred\",\"line\":{\"color\":\"#EF553B\",\"dash\":\"solid\"},\"marker\":{\"symbol\":\"circle\"},\"mode\":\"lines\",\"name\":\"pred\",\"showlegend\":true,\"x\":[0,1,2,3,4,5,6,7,8,9,10,11,12,13,14,15,16,17,18,19,20,21,22,23,24,25,26,27,28,29,30,31,32,33,34,35,36,37,38,39,40,41,42,43,44,45,46,47,48,49,50,51,52,53,54,55,56,57,58,59,60,61,62,63,64,65,66,67,68,69,70,71,72,73,74,75,76,77,78,79,80,81,82,83,84,85,86,87,88,89,90,91,92,93,94,95,96,97,98,99,100,101,102,103,104,105,106,107,108,109,110,111,112,113,114,115,116,117,118,119,120,121,122,123,124,125,126,127,128,129,130,131,132,133,134,135,136,137,138,139,140,141,142,143,144,145,146,147,148,149,150,151,152,153,154,155,156,157,158,159,160,161,162,163,164,165,166,167,168,169,170,171,172,173,174,175,176,177,178,179,180,181,182,183,184,185,186,187,188,189,190,191,192,193,194,195,196,197,198,199,200,201,202,203,204,205,206,207,208,209,210,211,212,213,214,215,216,217,218,219,220,221,222,223,224,225,226,227,228,229,230,231,232,233,234,235,236,237,238,239,240,241,242,243,244,245,246,247,248,249,250,251,252,253,254,255,256,257,258,259,260,261,262,263,264,265,266,267,268,269,270,271,272,273,274,275,276,277,278,279,280,281,282,283,284,285,286,287,288,289,290,291,292,293,294,295,296,297,298,299,300,301,302,303,304,305,306,307,308,309,310,311,312,313,314,315,316,317,318,319,320,321,322,323,324,325,326,327,328,329,330,331,332,333,334,335,336,337,338,339,340,341,342,343,344,345,346,347,348,349,350,351,352,353,354,355,356,357,358,359,360,361,362,363,364,365,366,367,368,369,370,371,372,373,374,375,376,377,378,379,380,381,382,383,384,385,386,387,388,389,390,391,392,393,394,395,396,397,398,399,400,401,402,403,404,405,406,407,408,409,410,411,412,413,414,415,416,417,418,419,420,421,422,423,424,425,426,427,428,429,430,431,432,433,434,435,436,437,438,439,440,441,442,443,444,445,446,447,448,449,450,451,452,453,454,455,456,457,458,459,460,461,462,463,464,465,466,467,468,469,470,471,472,473,474,475,476,477,478,479,480,481,482,483,484,485,486,487,488,489,490,491,492,493,494,495,496,497,498,499,500,501,502,503,504,505,506,507,508,509,510,511,512,513,514,515,516,517,518,519,520,521,522,523,524,525,526,527,528,529,530,531,532,533,534,535,536,537,538,539,540,541,542,543,544,545,546,547,548,549,550,551,552,553,554,555,556,557,558,559,560,561,562,563,564,565,566,567,568,569,570,571,572,573,574,575,576,577,578,579,580,581,582,583,584,585,586,587,588,589,590,591,592,593,594,595,596,597,598,599,600,601,602,603,604,605],\"xaxis\":\"x\",\"y\":[57609.953125,56344.5234375,57444.33203125,58756.57421875,58160.5,55922.6015625,56816.5,49503.3046875,50288.3515625,50277.7734375,47378.9453125,47193.05078125,44375.3515625,43834.58984375,38173.12890625,41734.23046875,38306.1796875,38634.640625,35916.52734375,39652.42578125,39329.41796875,40306.8828125,39462.39453125,36836.39453125,35694.26171875,36558.64453125,38104.21484375,37534.71875,38432.21484375,39987.30859375,37797.0390625,36518.97265625,36695.93359375,34448.60546875,34312.8984375,37949.08203125,37410.46484375,38149.48828125,36438.734375,39827.8984375,40871.16796875,41152.671875,39189.8515625,38876.27734375,36622.2421875,36399.3359375,36405.203125,32601.0625,33303.55859375,34380.47265625,35361.4375,32577.7578125,33071.15625,35340.8515625,35204.42578125,36652.59375,35874.11328125,34488.421875,34714.55859375,35387.40234375,35992.25390625,34556.1171875,35010.32421875,34607.22265625,33680.8828125,34522.2734375,34251.8046875,34967.8984375,33948.87890625,33518.109375,33584.09375,32578.91796875,32211.205078125,32273.427734375,32518.279296875,31606.59765625,30634.384765625,32758.576171875,32986.6640625,34284.26171875,35006.3125,36071.21875,38008.26953125,40042.37109375,40662.15234375,40710.109375,42843.2734375,42220.73046875,40675.375,39890.52734375,38825.9765625,40330.47265625,41416.55859375,43382.23046875,45121.02734375,44443.671875,46978.0546875,46146.5078125,46217.53125,45044.578125,48301.015625,47539.16796875,47601.1171875,46569.82421875,45329.0859375,45419.9921875,47250.8671875,49795.125,49389.5859375,49872.72265625,50049.421875,48264.765625,49501.12890625,47474.33203125,49594.9609375,49354.36328125,49364.1171875,47652.73046875,47797.46484375,49378.203125,49829.07421875,50545.30859375,50457.53125,52221.015625,53000.30859375,47402.16796875,46828.421875,46962.609375,45523.15625,45881.90234375,46707.8671875,45686.46875,47801.89453125,48799.44140625,48458.40234375,47975.80078125,48925.7109375,47887.140625,43679.59375,41608.2578125,44246.10546875,45487.60546875,43620.859375,43575.1953125,44001.4765625,43066.59765625,41927.31640625,42402.08203125,44514.3125,48720.73828125,48311.21484375,48886.2734375,49694.73046875,51972.0703125,55621.09765625,53964.14453125,54224.484375,55087.54296875,54839.05859375,57484.06640625,55945.14453125,57392.859375,57202.04296875,61398.453125,60453.890625,61224.81640625,61576.66015625,63714.92578125,65220.6015625,61474.16015625,60273.69921875,60941.5546875,60468.640625,62586.5703125,59898.16015625,58325.98046875,60436.1796875,61875.7109375,61526.734375,61025.81640625,60736.1953125,62883.6953125,62481.00390625,61074.95703125,60821.33984375,61192.30078125,62910.38671875,66914.390625,66033.265625,64225.16796875,64247.4921875,63426.92578125,63785.31640625,64711.85546875,62830.73046875,59737.1015625,60101.96484375,56780.265625,58138.71875,59578.88671875,58660.04296875,56419.7734375,57750.484375,56408.74609375,57475.10546875,53833.77734375,55210.8515625,57429.359375,57917.0234375,57159.62890625,57399.71875,56618.93359375,53871.86328125,49737.0703125,49937.9296875,51032.53125,51183.9375,51068.1875,48379.3359375,48031.52734375,50014.78515625,50687.3515625,47492.06640625,47439.40234375,49544.1015625,48312.50390625,46982.3125,47580.27734375,47392.9921875,47579.7265625,49558.703125,49220.82421875,51361.08203125,51305.08984375,50956.83984375,51297.42578125,51088.078125,48148.0390625,47094.3203125,47741.1171875,46891.62109375,48287.984375,47942.0234375,47155.7578125,46626.54296875,44378.58984375,43990.21484375,42396.64453125,42569.890625,42714.0546875,42656.74609375,43559.21875,44733.88671875,43443.91015625,43960.26171875,43971.54296875,43906.640625,43059.66796875,43166.984375,42526.11328125,41506.44921875,37456.95703125,36014.15625,37051.23828125,37414.2890625,37781.3828125,37734.0546875,38034.578125,38655.671875,39001.3984375,38796.40625,39326.62890625,39552.37109375,37837.1796875,37997.57421875,42118.578125,42082.16015625,43148.62109375,44506.79296875,44772.48828125,44992.82421875,44222.26171875,43097.84765625,42908.453125,42831.95703125,43217.03515625,45156.2578125,44585.3046875,41377.00390625,40873.77734375,40862.578125,39244.5078125,37955.8046875,39068.73828125,38121.86328125,39163.93359375,40009.93359375,39954.9765625,38641.75390625,43906.33203125,44971.2421875,44687.29296875,43263.5390625,40042.4140625,40196.78515625,39145.30078125,38808.15625,39445.453125,42603.48046875,40216.375,39707.3984375,39727.8125,38695.18359375,40425.671875,40094.49609375,41890.5390625,41699.14453125,42567.45703125,42921.07421875,42022.16796875,41851.08203125,43041.66796875,43544.31640625,44609.2578125,44989.21875,45158.0703125,47401.19140625,47657.078125,48027.87109375,47616.91015625,46147.90625,46860.5390625,46412.55859375,47016.109375,47174.44140625,46178.8046875,43952.16796875,44232.85546875,43015.50390625,43525.9921875,42962.58203125,40431.75390625,40997.61328125,41936.2890625,40793.84375,41424.49609375,41271.21484375,40609.91015625,41660.84375,42286.80859375,42188.26953125,41381.08984375,40604.5625,40316.81640625,40265.55859375,41207.00390625,38973.24609375,40065.3984375,40518.4296875,39445.42578125,38596.69140625,39273.875,39312.328125,38592.22265625,40459.2578125,37463.1953125,36972.46875,36345.0625,34941.42578125,31333.087890625,31860.6640625,29797.603515625,29861.1796875,30040.291015625,30848.3203125,32048.666015625,30757.978515625,31285.322265625,29623.205078125,31063.779296875,29980.53515625,30195.33984375,31000.349609375,29867.236328125,30375.083984375,30257.55859375,29984.294921875,29360.5234375,29498.375,30075.552734375,32271.966796875,32431.302734375,30624.9609375,31194.759765625,30409.14453125,30509.087890625,30551.70703125,31950.39453125,31801.259765625,30960.431640625,30830.693359375,29817.64453125,29086.939453125,27515.47265625,23428.03125,22883.48046875,23045.984375,21016.4296875,21008.646484375,19612.009765625,20956.150390625,21047.853515625,21218.44921875,20566.6875,21543.3671875,21697.80078125,21979.279296875,21544.943359375,21238.7890625,20760.576171875,20535.6484375,20193.6171875,19677.908203125,19602.48828125,19628.08203125,20496.115234375,20521.90234375,20896.4921875,21938.857421875,22101.4453125,22018.162109375,21331.060546875,20445.998046875,19749.302734375,20481.376953125,20833.744140625,21142.00390625,21519.10546875,21180.919921875,22768.6796875,23694.451171875,23658.98046875,23629.42578125,23196.6015625,22923.740234375,23014.123046875,21840.947265625,21660.248046875,23185.9921875,24131.8125,24222.443359375,24139.7578125,23841.859375,23793.576171875,23456.5859375,23306.958984375,23082.83984375,23681.27734375,23405.08984375,23619.91796875,24221.005859375,23661.328125,24389.1015625,24416.42578125,24860.927734375,24905.111328125,24823.59375,24646.935546875,24392.373046875,23856.28125,23699.92578125,21497.443359375,21625.896484375,21895.369140625,21797.783203125,21940.05078125,21835.900390625,22034.6953125,20799.2578125,20523.14453125,20056.748046875,20639.146484375,20193.900390625,20425.10546875,20498.3515625,20365.326171875,20230.623046875,20356.0546875,20192.056640625,19279.40625,19625.439453125,19644.490234375,21564.294921875,21970.90625,22160.001953125,22750.849609375,20853.548828125,20691.86328125,20091.392578125,20097.765625,20405.57421875,19778.1328125,19875.732421875,19262.369140625,18911.228515625,19668.20703125,19601.22265625,19298.40625,19155.5,19521.146484375,19433.130859375,19732.833984375,19884.4609375,19773.15625,19658.3671875,19393.79296875,19902.9375,20585.494140625,20486.69140625,20319.677734375,19925.357421875,19766.12109375,19762.078125,19470.583984375,19368.673828125,19451.435546875,19665.140625,19504.849609375,19397.60546875,19571.685546875,19840.78125,19665.435546875,19484.478515625,19384.646484375,19477.251953125,19510.548828125,19848.90234375,19669.1484375,20367.564453125,21034.095703125,20653.697265625,20943.7421875,21150.623046875,20998.015625,20862.73828125,20835.05078125,20522.771484375,20547.8359375,21410.470703125,21595.900390625,21316.60546875,21010.91796875,19070.8359375,16475.927734375,17763.578125,17244.693359375,17051.203125,16632.755859375,16851.75,17106.25390625,16941.810546875,16959.865234375,16962.1953125,16969.388671875,16577.447265625,16077.6689453125,16384.541015625,16767.197265625,16799.853515625,16743.7265625,16687.912109375,16659.62890625,16441.7109375,16628.876953125,17297.068359375,17167.95703125,17299.10546875,17138.08984375,17331.9296875,17192.88671875,17292.833984375,17071.47265625,17412.599609375,17336.8671875,17341.73046875,17318.62109375,17411.40625,17947.59765625,18022.943359375,17636.513671875,16952.45703125,17017.802734375,16955.98828125,16660.095703125,17068.48828125,17010.17578125,17038.62109375,17012.560546875,17059.455078125,17056.271484375,17128.48046875,16946.3359375,16782.958984375,16844.162109375,16803.640625,16751.966796875],\"yaxis\":\"y\",\"type\":\"scattergl\"}],                        {\"template\":{\"data\":{\"bar\":[{\"error_x\":{\"color\":\"#2a3f5f\"},\"error_y\":{\"color\":\"#2a3f5f\"},\"marker\":{\"line\":{\"color\":\"#E5ECF6\",\"width\":0.5},\"pattern\":{\"fillmode\":\"overlay\",\"size\":10,\"solidity\":0.2}},\"type\":\"bar\"}],\"barpolar\":[{\"marker\":{\"line\":{\"color\":\"#E5ECF6\",\"width\":0.5},\"pattern\":{\"fillmode\":\"overlay\",\"size\":10,\"solidity\":0.2}},\"type\":\"barpolar\"}],\"carpet\":[{\"aaxis\":{\"endlinecolor\":\"#2a3f5f\",\"gridcolor\":\"white\",\"linecolor\":\"white\",\"minorgridcolor\":\"white\",\"startlinecolor\":\"#2a3f5f\"},\"baxis\":{\"endlinecolor\":\"#2a3f5f\",\"gridcolor\":\"white\",\"linecolor\":\"white\",\"minorgridcolor\":\"white\",\"startlinecolor\":\"#2a3f5f\"},\"type\":\"carpet\"}],\"choropleth\":[{\"colorbar\":{\"outlinewidth\":0,\"ticks\":\"\"},\"type\":\"choropleth\"}],\"contour\":[{\"colorbar\":{\"outlinewidth\":0,\"ticks\":\"\"},\"colorscale\":[[0.0,\"#0d0887\"],[0.1111111111111111,\"#46039f\"],[0.2222222222222222,\"#7201a8\"],[0.3333333333333333,\"#9c179e\"],[0.4444444444444444,\"#bd3786\"],[0.5555555555555556,\"#d8576b\"],[0.6666666666666666,\"#ed7953\"],[0.7777777777777778,\"#fb9f3a\"],[0.8888888888888888,\"#fdca26\"],[1.0,\"#f0f921\"]],\"type\":\"contour\"}],\"contourcarpet\":[{\"colorbar\":{\"outlinewidth\":0,\"ticks\":\"\"},\"type\":\"contourcarpet\"}],\"heatmap\":[{\"colorbar\":{\"outlinewidth\":0,\"ticks\":\"\"},\"colorscale\":[[0.0,\"#0d0887\"],[0.1111111111111111,\"#46039f\"],[0.2222222222222222,\"#7201a8\"],[0.3333333333333333,\"#9c179e\"],[0.4444444444444444,\"#bd3786\"],[0.5555555555555556,\"#d8576b\"],[0.6666666666666666,\"#ed7953\"],[0.7777777777777778,\"#fb9f3a\"],[0.8888888888888888,\"#fdca26\"],[1.0,\"#f0f921\"]],\"type\":\"heatmap\"}],\"heatmapgl\":[{\"colorbar\":{\"outlinewidth\":0,\"ticks\":\"\"},\"colorscale\":[[0.0,\"#0d0887\"],[0.1111111111111111,\"#46039f\"],[0.2222222222222222,\"#7201a8\"],[0.3333333333333333,\"#9c179e\"],[0.4444444444444444,\"#bd3786\"],[0.5555555555555556,\"#d8576b\"],[0.6666666666666666,\"#ed7953\"],[0.7777777777777778,\"#fb9f3a\"],[0.8888888888888888,\"#fdca26\"],[1.0,\"#f0f921\"]],\"type\":\"heatmapgl\"}],\"histogram\":[{\"marker\":{\"pattern\":{\"fillmode\":\"overlay\",\"size\":10,\"solidity\":0.2}},\"type\":\"histogram\"}],\"histogram2d\":[{\"colorbar\":{\"outlinewidth\":0,\"ticks\":\"\"},\"colorscale\":[[0.0,\"#0d0887\"],[0.1111111111111111,\"#46039f\"],[0.2222222222222222,\"#7201a8\"],[0.3333333333333333,\"#9c179e\"],[0.4444444444444444,\"#bd3786\"],[0.5555555555555556,\"#d8576b\"],[0.6666666666666666,\"#ed7953\"],[0.7777777777777778,\"#fb9f3a\"],[0.8888888888888888,\"#fdca26\"],[1.0,\"#f0f921\"]],\"type\":\"histogram2d\"}],\"histogram2dcontour\":[{\"colorbar\":{\"outlinewidth\":0,\"ticks\":\"\"},\"colorscale\":[[0.0,\"#0d0887\"],[0.1111111111111111,\"#46039f\"],[0.2222222222222222,\"#7201a8\"],[0.3333333333333333,\"#9c179e\"],[0.4444444444444444,\"#bd3786\"],[0.5555555555555556,\"#d8576b\"],[0.6666666666666666,\"#ed7953\"],[0.7777777777777778,\"#fb9f3a\"],[0.8888888888888888,\"#fdca26\"],[1.0,\"#f0f921\"]],\"type\":\"histogram2dcontour\"}],\"mesh3d\":[{\"colorbar\":{\"outlinewidth\":0,\"ticks\":\"\"},\"type\":\"mesh3d\"}],\"parcoords\":[{\"line\":{\"colorbar\":{\"outlinewidth\":0,\"ticks\":\"\"}},\"type\":\"parcoords\"}],\"pie\":[{\"automargin\":true,\"type\":\"pie\"}],\"scatter\":[{\"marker\":{\"colorbar\":{\"outlinewidth\":0,\"ticks\":\"\"}},\"type\":\"scatter\"}],\"scatter3d\":[{\"line\":{\"colorbar\":{\"outlinewidth\":0,\"ticks\":\"\"}},\"marker\":{\"colorbar\":{\"outlinewidth\":0,\"ticks\":\"\"}},\"type\":\"scatter3d\"}],\"scattercarpet\":[{\"marker\":{\"colorbar\":{\"outlinewidth\":0,\"ticks\":\"\"}},\"type\":\"scattercarpet\"}],\"scattergeo\":[{\"marker\":{\"colorbar\":{\"outlinewidth\":0,\"ticks\":\"\"}},\"type\":\"scattergeo\"}],\"scattergl\":[{\"marker\":{\"colorbar\":{\"outlinewidth\":0,\"ticks\":\"\"}},\"type\":\"scattergl\"}],\"scattermapbox\":[{\"marker\":{\"colorbar\":{\"outlinewidth\":0,\"ticks\":\"\"}},\"type\":\"scattermapbox\"}],\"scatterpolar\":[{\"marker\":{\"colorbar\":{\"outlinewidth\":0,\"ticks\":\"\"}},\"type\":\"scatterpolar\"}],\"scatterpolargl\":[{\"marker\":{\"colorbar\":{\"outlinewidth\":0,\"ticks\":\"\"}},\"type\":\"scatterpolargl\"}],\"scatterternary\":[{\"marker\":{\"colorbar\":{\"outlinewidth\":0,\"ticks\":\"\"}},\"type\":\"scatterternary\"}],\"surface\":[{\"colorbar\":{\"outlinewidth\":0,\"ticks\":\"\"},\"colorscale\":[[0.0,\"#0d0887\"],[0.1111111111111111,\"#46039f\"],[0.2222222222222222,\"#7201a8\"],[0.3333333333333333,\"#9c179e\"],[0.4444444444444444,\"#bd3786\"],[0.5555555555555556,\"#d8576b\"],[0.6666666666666666,\"#ed7953\"],[0.7777777777777778,\"#fb9f3a\"],[0.8888888888888888,\"#fdca26\"],[1.0,\"#f0f921\"]],\"type\":\"surface\"}],\"table\":[{\"cells\":{\"fill\":{\"color\":\"#EBF0F8\"},\"line\":{\"color\":\"white\"}},\"header\":{\"fill\":{\"color\":\"#C8D4E3\"},\"line\":{\"color\":\"white\"}},\"type\":\"table\"}]},\"layout\":{\"annotationdefaults\":{\"arrowcolor\":\"#2a3f5f\",\"arrowhead\":0,\"arrowwidth\":1},\"autotypenumbers\":\"strict\",\"coloraxis\":{\"colorbar\":{\"outlinewidth\":0,\"ticks\":\"\"}},\"colorscale\":{\"diverging\":[[0,\"#8e0152\"],[0.1,\"#c51b7d\"],[0.2,\"#de77ae\"],[0.3,\"#f1b6da\"],[0.4,\"#fde0ef\"],[0.5,\"#f7f7f7\"],[0.6,\"#e6f5d0\"],[0.7,\"#b8e186\"],[0.8,\"#7fbc41\"],[0.9,\"#4d9221\"],[1,\"#276419\"]],\"sequential\":[[0.0,\"#0d0887\"],[0.1111111111111111,\"#46039f\"],[0.2222222222222222,\"#7201a8\"],[0.3333333333333333,\"#9c179e\"],[0.4444444444444444,\"#bd3786\"],[0.5555555555555556,\"#d8576b\"],[0.6666666666666666,\"#ed7953\"],[0.7777777777777778,\"#fb9f3a\"],[0.8888888888888888,\"#fdca26\"],[1.0,\"#f0f921\"]],\"sequentialminus\":[[0.0,\"#0d0887\"],[0.1111111111111111,\"#46039f\"],[0.2222222222222222,\"#7201a8\"],[0.3333333333333333,\"#9c179e\"],[0.4444444444444444,\"#bd3786\"],[0.5555555555555556,\"#d8576b\"],[0.6666666666666666,\"#ed7953\"],[0.7777777777777778,\"#fb9f3a\"],[0.8888888888888888,\"#fdca26\"],[1.0,\"#f0f921\"]]},\"colorway\":[\"#636efa\",\"#EF553B\",\"#00cc96\",\"#ab63fa\",\"#FFA15A\",\"#19d3f3\",\"#FF6692\",\"#B6E880\",\"#FF97FF\",\"#FECB52\"],\"font\":{\"color\":\"#2a3f5f\"},\"geo\":{\"bgcolor\":\"white\",\"lakecolor\":\"white\",\"landcolor\":\"#E5ECF6\",\"showlakes\":true,\"showland\":true,\"subunitcolor\":\"white\"},\"hoverlabel\":{\"align\":\"left\"},\"hovermode\":\"closest\",\"mapbox\":{\"style\":\"light\"},\"paper_bgcolor\":\"white\",\"plot_bgcolor\":\"#E5ECF6\",\"polar\":{\"angularaxis\":{\"gridcolor\":\"white\",\"linecolor\":\"white\",\"ticks\":\"\"},\"bgcolor\":\"#E5ECF6\",\"radialaxis\":{\"gridcolor\":\"white\",\"linecolor\":\"white\",\"ticks\":\"\"}},\"scene\":{\"xaxis\":{\"backgroundcolor\":\"#E5ECF6\",\"gridcolor\":\"white\",\"gridwidth\":2,\"linecolor\":\"white\",\"showbackground\":true,\"ticks\":\"\",\"zerolinecolor\":\"white\"},\"yaxis\":{\"backgroundcolor\":\"#E5ECF6\",\"gridcolor\":\"white\",\"gridwidth\":2,\"linecolor\":\"white\",\"showbackground\":true,\"ticks\":\"\",\"zerolinecolor\":\"white\"},\"zaxis\":{\"backgroundcolor\":\"#E5ECF6\",\"gridcolor\":\"white\",\"gridwidth\":2,\"linecolor\":\"white\",\"showbackground\":true,\"ticks\":\"\",\"zerolinecolor\":\"white\"}},\"shapedefaults\":{\"line\":{\"color\":\"#2a3f5f\"}},\"ternary\":{\"aaxis\":{\"gridcolor\":\"white\",\"linecolor\":\"white\",\"ticks\":\"\"},\"baxis\":{\"gridcolor\":\"white\",\"linecolor\":\"white\",\"ticks\":\"\"},\"bgcolor\":\"#E5ECF6\",\"caxis\":{\"gridcolor\":\"white\",\"linecolor\":\"white\",\"ticks\":\"\"}},\"title\":{\"x\":0.05},\"xaxis\":{\"automargin\":true,\"gridcolor\":\"white\",\"linecolor\":\"white\",\"ticks\":\"\",\"title\":{\"standoff\":15},\"zerolinecolor\":\"white\",\"zerolinewidth\":2},\"yaxis\":{\"automargin\":true,\"gridcolor\":\"white\",\"linecolor\":\"white\",\"ticks\":\"\",\"title\":{\"standoff\":15},\"zerolinecolor\":\"white\",\"zerolinewidth\":2}}},\"xaxis\":{\"anchor\":\"y\",\"domain\":[0.0,1.0],\"title\":{\"text\":\"x\"}},\"yaxis\":{\"anchor\":\"x\",\"domain\":[0.0,1.0],\"title\":{\"text\":\"price\"}},\"legend\":{\"title\":{\"text\":\"act/pred\"},\"tracegroupgap\":0},\"title\":{\"text\":\"BTC Price from May 2021 to Jan 2023\"}},                        {\"responsive\": true}                    ).then(function(){\n",
              "                            \n",
              "var gd = document.getElementById('efe1a316-6f6e-4c3d-b2dd-7fbb1a6219ce');\n",
              "var x = new MutationObserver(function (mutations, observer) {{\n",
              "        var display = window.getComputedStyle(gd).display;\n",
              "        if (!display || display === 'none') {{\n",
              "            console.log([gd, 'removed!']);\n",
              "            Plotly.purge(gd);\n",
              "            observer.disconnect();\n",
              "        }}\n",
              "}});\n",
              "\n",
              "// Listen for the removal of the full notebook cells\n",
              "var notebookContainer = gd.closest('#notebook-container');\n",
              "if (notebookContainer) {{\n",
              "    x.observe(notebookContainer, {childList: true});\n",
              "}}\n",
              "\n",
              "// Listen for the clearing of the current output cell\n",
              "var outputEl = gd.closest('.output');\n",
              "if (outputEl) {{\n",
              "    x.observe(outputEl, {childList: true});\n",
              "}}\n",
              "\n",
              "                        })                };                            </script>        </div>\n",
              "</body>\n",
              "</html>"
            ]
          },
          "metadata": {}
        }
      ]
    }
  ]
}