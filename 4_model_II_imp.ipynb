{
  "nbformat": 4,
  "nbformat_minor": 0,
  "metadata": {
    "colab": {
      "provenance": []
    },
    "kernelspec": {
      "name": "python3",
      "display_name": "Python 3"
    },
    "language_info": {
      "name": "python"
    }
  },
  "cells": [
    {
      "cell_type": "code",
      "execution_count": 1,
      "metadata": {
        "colab": {
          "base_uri": "https://localhost:8080/"
        },
        "id": "KsIZ2CbYDvO5",
        "outputId": "44deb8f7-a166-4575-daa7-9819dd3212a2"
      },
      "outputs": [
        {
          "output_type": "stream",
          "name": "stdout",
          "text": [
            "Mounted at /content/drive\n"
          ]
        }
      ],
      "source": [
        "from google.colab import drive\n",
        "drive.mount('/content/drive')"
      ]
    },
    {
      "cell_type": "markdown",
      "source": [
        "Data import - csv with prices and sentiments"
      ],
      "metadata": {
        "id": "-8Y_8yqeDy5d"
      }
    },
    {
      "cell_type": "code",
      "source": [
        "import pandas as pd\n",
        "csv3=pd.read_csv(\"/content/drive/MyDrive/Colab Notebooks/DATA_1/final_data_master.csv\")"
      ],
      "metadata": {
        "id": "pCNu4WB1DxaQ"
      },
      "execution_count": 2,
      "outputs": []
    },
    {
      "cell_type": "code",
      "source": [
        "csv3.dtypes"
      ],
      "metadata": {
        "colab": {
          "base_uri": "https://localhost:8080/"
        },
        "id": "VJu3jU0yD4YB",
        "outputId": "c90b5939-e14e-45f8-dc42-57d6fcbfb8fa"
      },
      "execution_count": 3,
      "outputs": [
        {
          "output_type": "execute_result",
          "data": {
            "text/plain": [
              "Unnamed: 0      int64\n",
              "dates          object\n",
              "prices        float64\n",
              "sentiment     float64\n",
              "dtype: object"
            ]
          },
          "metadata": {},
          "execution_count": 3
        }
      ]
    },
    {
      "cell_type": "code",
      "source": [
        "csv3['dates'] =  pd.to_datetime(csv3['dates'], format='%Y-%m-%d')"
      ],
      "metadata": {
        "id": "_4pKqLC5D7He"
      },
      "execution_count": 4,
      "outputs": []
    },
    {
      "cell_type": "code",
      "source": [
        "csv3.dtypes"
      ],
      "metadata": {
        "colab": {
          "base_uri": "https://localhost:8080/"
        },
        "id": "nxEwWH5JEASK",
        "outputId": "88ebbf79-4aed-4401-c2ce-2c26d2c197c1"
      },
      "execution_count": 5,
      "outputs": [
        {
          "output_type": "execute_result",
          "data": {
            "text/plain": [
              "Unnamed: 0             int64\n",
              "dates         datetime64[ns]\n",
              "prices               float64\n",
              "sentiment            float64\n",
              "dtype: object"
            ]
          },
          "metadata": {},
          "execution_count": 5
        }
      ]
    },
    {
      "cell_type": "markdown",
      "source": [
        "Sorting values by datetime -> newest on the bottom"
      ],
      "metadata": {
        "id": "PdgvJ8I3EIzR"
      }
    },
    {
      "cell_type": "code",
      "source": [
        "csv3.sort_values(by=['dates'], ascending=True, inplace=True)"
      ],
      "metadata": {
        "id": "iwcMUcjbECDT"
      },
      "execution_count": 6,
      "outputs": []
    },
    {
      "cell_type": "code",
      "source": [
        "csv3.reset_index(inplace=True)"
      ],
      "metadata": {
        "id": "goEBPS9FEEMr"
      },
      "execution_count": 7,
      "outputs": []
    },
    {
      "cell_type": "code",
      "source": [
        "csv3.pop(\"Unnamed: 0\")"
      ],
      "metadata": {
        "colab": {
          "base_uri": "https://localhost:8080/"
        },
        "id": "accNHPfXEGAz",
        "outputId": "87f2dc1c-eaae-4dd7-d8c9-0c025b00036f"
      },
      "execution_count": 8,
      "outputs": [
        {
          "output_type": "execute_result",
          "data": {
            "text/plain": [
              "0          0\n",
              "1          1\n",
              "2          2\n",
              "3          3\n",
              "4          4\n",
              "        ... \n",
              "2103    2103\n",
              "2104    2104\n",
              "2105    2105\n",
              "2106    2106\n",
              "2107    2107\n",
              "Name: Unnamed: 0, Length: 2108, dtype: int64"
            ]
          },
          "metadata": {},
          "execution_count": 8
        }
      ]
    },
    {
      "cell_type": "code",
      "source": [
        "csv3.pop(\"index\")"
      ],
      "metadata": {
        "colab": {
          "base_uri": "https://localhost:8080/"
        },
        "id": "jggn1MgqEL7A",
        "outputId": "ef2f84bf-329d-440c-ae79-aa0255990b9d"
      },
      "execution_count": 9,
      "outputs": [
        {
          "output_type": "execute_result",
          "data": {
            "text/plain": [
              "0          0\n",
              "1          1\n",
              "2          2\n",
              "3          3\n",
              "4          4\n",
              "        ... \n",
              "2103    2103\n",
              "2104    2104\n",
              "2105    2105\n",
              "2106    2106\n",
              "2107    2107\n",
              "Name: index, Length: 2108, dtype: int64"
            ]
          },
          "metadata": {},
          "execution_count": 9
        }
      ]
    },
    {
      "cell_type": "code",
      "source": [
        "csv3"
      ],
      "metadata": {
        "colab": {
          "base_uri": "https://localhost:8080/",
          "height": 424
        },
        "id": "b64ZTxqKEOXN",
        "outputId": "8df336db-928c-4df8-8b5a-e37341aa1912"
      },
      "execution_count": 10,
      "outputs": [
        {
          "output_type": "execute_result",
          "data": {
            "text/plain": [
              "          dates        prices  sentiment\n",
              "0    2014-09-17    457.334015   0.011888\n",
              "1    2014-09-18    424.440002   0.010501\n",
              "2    2014-09-19    394.795990   0.004012\n",
              "3    2014-09-20    408.903992   0.011305\n",
              "4    2014-09-21    398.821014   0.003570\n",
              "...         ...           ...        ...\n",
              "2103 2022-11-14  16618.199219   0.114216\n",
              "2104 2022-11-15  16884.613281   0.105882\n",
              "2105 2022-11-16  16669.439453   0.097629\n",
              "2106 2022-11-20  16291.832031   0.073256\n",
              "2107 2022-11-21  15787.284180   0.095388\n",
              "\n",
              "[2108 rows x 3 columns]"
            ],
            "text/html": [
              "\n",
              "  <div id=\"df-27e2b554-ad2f-4e15-a93e-16b8ef4f41d4\">\n",
              "    <div class=\"colab-df-container\">\n",
              "      <div>\n",
              "<style scoped>\n",
              "    .dataframe tbody tr th:only-of-type {\n",
              "        vertical-align: middle;\n",
              "    }\n",
              "\n",
              "    .dataframe tbody tr th {\n",
              "        vertical-align: top;\n",
              "    }\n",
              "\n",
              "    .dataframe thead th {\n",
              "        text-align: right;\n",
              "    }\n",
              "</style>\n",
              "<table border=\"1\" class=\"dataframe\">\n",
              "  <thead>\n",
              "    <tr style=\"text-align: right;\">\n",
              "      <th></th>\n",
              "      <th>dates</th>\n",
              "      <th>prices</th>\n",
              "      <th>sentiment</th>\n",
              "    </tr>\n",
              "  </thead>\n",
              "  <tbody>\n",
              "    <tr>\n",
              "      <th>0</th>\n",
              "      <td>2014-09-17</td>\n",
              "      <td>457.334015</td>\n",
              "      <td>0.011888</td>\n",
              "    </tr>\n",
              "    <tr>\n",
              "      <th>1</th>\n",
              "      <td>2014-09-18</td>\n",
              "      <td>424.440002</td>\n",
              "      <td>0.010501</td>\n",
              "    </tr>\n",
              "    <tr>\n",
              "      <th>2</th>\n",
              "      <td>2014-09-19</td>\n",
              "      <td>394.795990</td>\n",
              "      <td>0.004012</td>\n",
              "    </tr>\n",
              "    <tr>\n",
              "      <th>3</th>\n",
              "      <td>2014-09-20</td>\n",
              "      <td>408.903992</td>\n",
              "      <td>0.011305</td>\n",
              "    </tr>\n",
              "    <tr>\n",
              "      <th>4</th>\n",
              "      <td>2014-09-21</td>\n",
              "      <td>398.821014</td>\n",
              "      <td>0.003570</td>\n",
              "    </tr>\n",
              "    <tr>\n",
              "      <th>...</th>\n",
              "      <td>...</td>\n",
              "      <td>...</td>\n",
              "      <td>...</td>\n",
              "    </tr>\n",
              "    <tr>\n",
              "      <th>2103</th>\n",
              "      <td>2022-11-14</td>\n",
              "      <td>16618.199219</td>\n",
              "      <td>0.114216</td>\n",
              "    </tr>\n",
              "    <tr>\n",
              "      <th>2104</th>\n",
              "      <td>2022-11-15</td>\n",
              "      <td>16884.613281</td>\n",
              "      <td>0.105882</td>\n",
              "    </tr>\n",
              "    <tr>\n",
              "      <th>2105</th>\n",
              "      <td>2022-11-16</td>\n",
              "      <td>16669.439453</td>\n",
              "      <td>0.097629</td>\n",
              "    </tr>\n",
              "    <tr>\n",
              "      <th>2106</th>\n",
              "      <td>2022-11-20</td>\n",
              "      <td>16291.832031</td>\n",
              "      <td>0.073256</td>\n",
              "    </tr>\n",
              "    <tr>\n",
              "      <th>2107</th>\n",
              "      <td>2022-11-21</td>\n",
              "      <td>15787.284180</td>\n",
              "      <td>0.095388</td>\n",
              "    </tr>\n",
              "  </tbody>\n",
              "</table>\n",
              "<p>2108 rows × 3 columns</p>\n",
              "</div>\n",
              "      <button class=\"colab-df-convert\" onclick=\"convertToInteractive('df-27e2b554-ad2f-4e15-a93e-16b8ef4f41d4')\"\n",
              "              title=\"Convert this dataframe to an interactive table.\"\n",
              "              style=\"display:none;\">\n",
              "        \n",
              "  <svg xmlns=\"http://www.w3.org/2000/svg\" height=\"24px\"viewBox=\"0 0 24 24\"\n",
              "       width=\"24px\">\n",
              "    <path d=\"M0 0h24v24H0V0z\" fill=\"none\"/>\n",
              "    <path d=\"M18.56 5.44l.94 2.06.94-2.06 2.06-.94-2.06-.94-.94-2.06-.94 2.06-2.06.94zm-11 1L8.5 8.5l.94-2.06 2.06-.94-2.06-.94L8.5 2.5l-.94 2.06-2.06.94zm10 10l.94 2.06.94-2.06 2.06-.94-2.06-.94-.94-2.06-.94 2.06-2.06.94z\"/><path d=\"M17.41 7.96l-1.37-1.37c-.4-.4-.92-.59-1.43-.59-.52 0-1.04.2-1.43.59L10.3 9.45l-7.72 7.72c-.78.78-.78 2.05 0 2.83L4 21.41c.39.39.9.59 1.41.59.51 0 1.02-.2 1.41-.59l7.78-7.78 2.81-2.81c.8-.78.8-2.07 0-2.86zM5.41 20L4 18.59l7.72-7.72 1.47 1.35L5.41 20z\"/>\n",
              "  </svg>\n",
              "      </button>\n",
              "      \n",
              "  <style>\n",
              "    .colab-df-container {\n",
              "      display:flex;\n",
              "      flex-wrap:wrap;\n",
              "      gap: 12px;\n",
              "    }\n",
              "\n",
              "    .colab-df-convert {\n",
              "      background-color: #E8F0FE;\n",
              "      border: none;\n",
              "      border-radius: 50%;\n",
              "      cursor: pointer;\n",
              "      display: none;\n",
              "      fill: #1967D2;\n",
              "      height: 32px;\n",
              "      padding: 0 0 0 0;\n",
              "      width: 32px;\n",
              "    }\n",
              "\n",
              "    .colab-df-convert:hover {\n",
              "      background-color: #E2EBFA;\n",
              "      box-shadow: 0px 1px 2px rgba(60, 64, 67, 0.3), 0px 1px 3px 1px rgba(60, 64, 67, 0.15);\n",
              "      fill: #174EA6;\n",
              "    }\n",
              "\n",
              "    [theme=dark] .colab-df-convert {\n",
              "      background-color: #3B4455;\n",
              "      fill: #D2E3FC;\n",
              "    }\n",
              "\n",
              "    [theme=dark] .colab-df-convert:hover {\n",
              "      background-color: #434B5C;\n",
              "      box-shadow: 0px 1px 3px 1px rgba(0, 0, 0, 0.15);\n",
              "      filter: drop-shadow(0px 1px 2px rgba(0, 0, 0, 0.3));\n",
              "      fill: #FFFFFF;\n",
              "    }\n",
              "  </style>\n",
              "\n",
              "      <script>\n",
              "        const buttonEl =\n",
              "          document.querySelector('#df-27e2b554-ad2f-4e15-a93e-16b8ef4f41d4 button.colab-df-convert');\n",
              "        buttonEl.style.display =\n",
              "          google.colab.kernel.accessAllowed ? 'block' : 'none';\n",
              "\n",
              "        async function convertToInteractive(key) {\n",
              "          const element = document.querySelector('#df-27e2b554-ad2f-4e15-a93e-16b8ef4f41d4');\n",
              "          const dataTable =\n",
              "            await google.colab.kernel.invokeFunction('convertToInteractive',\n",
              "                                                     [key], {});\n",
              "          if (!dataTable) return;\n",
              "\n",
              "          const docLinkHtml = 'Like what you see? Visit the ' +\n",
              "            '<a target=\"_blank\" href=https://colab.research.google.com/notebooks/data_table.ipynb>data table notebook</a>'\n",
              "            + ' to learn more about interactive tables.';\n",
              "          element.innerHTML = '';\n",
              "          dataTable['output_type'] = 'display_data';\n",
              "          await google.colab.output.renderOutput(dataTable, element);\n",
              "          const docLink = document.createElement('div');\n",
              "          docLink.innerHTML = docLinkHtml;\n",
              "          element.appendChild(docLink);\n",
              "        }\n",
              "      </script>\n",
              "    </div>\n",
              "  </div>\n",
              "  "
            ]
          },
          "metadata": {},
          "execution_count": 10
        }
      ]
    },
    {
      "cell_type": "markdown",
      "source": [
        "Data exploration."
      ],
      "metadata": {
        "id": "xgnW-2MOEUyf"
      }
    },
    {
      "cell_type": "code",
      "source": [
        "csv3.describe()"
      ],
      "metadata": {
        "colab": {
          "base_uri": "https://localhost:8080/",
          "height": 300
        },
        "id": "LoIsjpsVEQlu",
        "outputId": "695d344e-71df-4aed-9b55-50215507242f"
      },
      "execution_count": 11,
      "outputs": [
        {
          "output_type": "execute_result",
          "data": {
            "text/plain": [
              "             prices    sentiment\n",
              "count   2108.000000  2108.000000\n",
              "mean    7212.931322     0.048334\n",
              "std    11915.777855     0.043241\n",
              "min      178.102997    -0.044501\n",
              "25%      424.180741     0.021111\n",
              "50%     3184.444946     0.036511\n",
              "75%     8201.771728     0.064705\n",
              "max    65992.835938     0.417764"
            ],
            "text/html": [
              "\n",
              "  <div id=\"df-6b3300f2-761b-48b2-855b-5b893ecdc214\">\n",
              "    <div class=\"colab-df-container\">\n",
              "      <div>\n",
              "<style scoped>\n",
              "    .dataframe tbody tr th:only-of-type {\n",
              "        vertical-align: middle;\n",
              "    }\n",
              "\n",
              "    .dataframe tbody tr th {\n",
              "        vertical-align: top;\n",
              "    }\n",
              "\n",
              "    .dataframe thead th {\n",
              "        text-align: right;\n",
              "    }\n",
              "</style>\n",
              "<table border=\"1\" class=\"dataframe\">\n",
              "  <thead>\n",
              "    <tr style=\"text-align: right;\">\n",
              "      <th></th>\n",
              "      <th>prices</th>\n",
              "      <th>sentiment</th>\n",
              "    </tr>\n",
              "  </thead>\n",
              "  <tbody>\n",
              "    <tr>\n",
              "      <th>count</th>\n",
              "      <td>2108.000000</td>\n",
              "      <td>2108.000000</td>\n",
              "    </tr>\n",
              "    <tr>\n",
              "      <th>mean</th>\n",
              "      <td>7212.931322</td>\n",
              "      <td>0.048334</td>\n",
              "    </tr>\n",
              "    <tr>\n",
              "      <th>std</th>\n",
              "      <td>11915.777855</td>\n",
              "      <td>0.043241</td>\n",
              "    </tr>\n",
              "    <tr>\n",
              "      <th>min</th>\n",
              "      <td>178.102997</td>\n",
              "      <td>-0.044501</td>\n",
              "    </tr>\n",
              "    <tr>\n",
              "      <th>25%</th>\n",
              "      <td>424.180741</td>\n",
              "      <td>0.021111</td>\n",
              "    </tr>\n",
              "    <tr>\n",
              "      <th>50%</th>\n",
              "      <td>3184.444946</td>\n",
              "      <td>0.036511</td>\n",
              "    </tr>\n",
              "    <tr>\n",
              "      <th>75%</th>\n",
              "      <td>8201.771728</td>\n",
              "      <td>0.064705</td>\n",
              "    </tr>\n",
              "    <tr>\n",
              "      <th>max</th>\n",
              "      <td>65992.835938</td>\n",
              "      <td>0.417764</td>\n",
              "    </tr>\n",
              "  </tbody>\n",
              "</table>\n",
              "</div>\n",
              "      <button class=\"colab-df-convert\" onclick=\"convertToInteractive('df-6b3300f2-761b-48b2-855b-5b893ecdc214')\"\n",
              "              title=\"Convert this dataframe to an interactive table.\"\n",
              "              style=\"display:none;\">\n",
              "        \n",
              "  <svg xmlns=\"http://www.w3.org/2000/svg\" height=\"24px\"viewBox=\"0 0 24 24\"\n",
              "       width=\"24px\">\n",
              "    <path d=\"M0 0h24v24H0V0z\" fill=\"none\"/>\n",
              "    <path d=\"M18.56 5.44l.94 2.06.94-2.06 2.06-.94-2.06-.94-.94-2.06-.94 2.06-2.06.94zm-11 1L8.5 8.5l.94-2.06 2.06-.94-2.06-.94L8.5 2.5l-.94 2.06-2.06.94zm10 10l.94 2.06.94-2.06 2.06-.94-2.06-.94-.94-2.06-.94 2.06-2.06.94z\"/><path d=\"M17.41 7.96l-1.37-1.37c-.4-.4-.92-.59-1.43-.59-.52 0-1.04.2-1.43.59L10.3 9.45l-7.72 7.72c-.78.78-.78 2.05 0 2.83L4 21.41c.39.39.9.59 1.41.59.51 0 1.02-.2 1.41-.59l7.78-7.78 2.81-2.81c.8-.78.8-2.07 0-2.86zM5.41 20L4 18.59l7.72-7.72 1.47 1.35L5.41 20z\"/>\n",
              "  </svg>\n",
              "      </button>\n",
              "      \n",
              "  <style>\n",
              "    .colab-df-container {\n",
              "      display:flex;\n",
              "      flex-wrap:wrap;\n",
              "      gap: 12px;\n",
              "    }\n",
              "\n",
              "    .colab-df-convert {\n",
              "      background-color: #E8F0FE;\n",
              "      border: none;\n",
              "      border-radius: 50%;\n",
              "      cursor: pointer;\n",
              "      display: none;\n",
              "      fill: #1967D2;\n",
              "      height: 32px;\n",
              "      padding: 0 0 0 0;\n",
              "      width: 32px;\n",
              "    }\n",
              "\n",
              "    .colab-df-convert:hover {\n",
              "      background-color: #E2EBFA;\n",
              "      box-shadow: 0px 1px 2px rgba(60, 64, 67, 0.3), 0px 1px 3px 1px rgba(60, 64, 67, 0.15);\n",
              "      fill: #174EA6;\n",
              "    }\n",
              "\n",
              "    [theme=dark] .colab-df-convert {\n",
              "      background-color: #3B4455;\n",
              "      fill: #D2E3FC;\n",
              "    }\n",
              "\n",
              "    [theme=dark] .colab-df-convert:hover {\n",
              "      background-color: #434B5C;\n",
              "      box-shadow: 0px 1px 3px 1px rgba(0, 0, 0, 0.15);\n",
              "      filter: drop-shadow(0px 1px 2px rgba(0, 0, 0, 0.3));\n",
              "      fill: #FFFFFF;\n",
              "    }\n",
              "  </style>\n",
              "\n",
              "      <script>\n",
              "        const buttonEl =\n",
              "          document.querySelector('#df-6b3300f2-761b-48b2-855b-5b893ecdc214 button.colab-df-convert');\n",
              "        buttonEl.style.display =\n",
              "          google.colab.kernel.accessAllowed ? 'block' : 'none';\n",
              "\n",
              "        async function convertToInteractive(key) {\n",
              "          const element = document.querySelector('#df-6b3300f2-761b-48b2-855b-5b893ecdc214');\n",
              "          const dataTable =\n",
              "            await google.colab.kernel.invokeFunction('convertToInteractive',\n",
              "                                                     [key], {});\n",
              "          if (!dataTable) return;\n",
              "\n",
              "          const docLinkHtml = 'Like what you see? Visit the ' +\n",
              "            '<a target=\"_blank\" href=https://colab.research.google.com/notebooks/data_table.ipynb>data table notebook</a>'\n",
              "            + ' to learn more about interactive tables.';\n",
              "          element.innerHTML = '';\n",
              "          dataTable['output_type'] = 'display_data';\n",
              "          await google.colab.output.renderOutput(dataTable, element);\n",
              "          const docLink = document.createElement('div');\n",
              "          docLink.innerHTML = docLinkHtml;\n",
              "          element.appendChild(docLink);\n",
              "        }\n",
              "      </script>\n",
              "    </div>\n",
              "  </div>\n",
              "  "
            ]
          },
          "metadata": {},
          "execution_count": 11
        }
      ]
    },
    {
      "cell_type": "markdown",
      "source": [
        "Correlation score between Twitter sentiments and BTC prices: 0,77!"
      ],
      "metadata": {
        "id": "3RqWkRiEEo2I"
      }
    },
    {
      "cell_type": "code",
      "source": [
        "import seaborn as sn\n",
        "corr_matrix = csv3.corr()\n",
        "sn.heatmap(corr_matrix, annot=True)"
      ],
      "metadata": {
        "colab": {
          "base_uri": "https://localhost:8080/",
          "height": 286
        },
        "id": "NQiU8xjJEm5G",
        "outputId": "7f890335-3e80-495f-e4f0-cd35099f8ddc"
      },
      "execution_count": 12,
      "outputs": [
        {
          "output_type": "execute_result",
          "data": {
            "text/plain": [
              "<matplotlib.axes._subplots.AxesSubplot at 0x7f53b9888be0>"
            ]
          },
          "metadata": {},
          "execution_count": 12
        },
        {
          "output_type": "display_data",
          "data": {
            "text/plain": [
              "<Figure size 432x288 with 2 Axes>"
            ],
            "image/png": "[encoded data removed]"
          },
          "metadata": {
            "needs_background": "light"
          }
        }
      ]
    },
    {
      "cell_type": "markdown",
      "source": [
        "Data visualization - sentiment and prices"
      ],
      "metadata": {
        "id": "1h-gthzYEbo2"
      }
    },
    {
      "cell_type": "code",
      "source": [
        "from matplotlib import pyplot\n",
        "values = csv3.values\n",
        "groups = [1,2]\n",
        "i =1  \n",
        "pyplot.figure()\n",
        "for group in groups:\n",
        "    pyplot.subplot(len(groups), 1,i)\n",
        "    pyplot.plot(values[:,group])\n",
        "    pyplot.title(csv3.columns[group], y=.5, loc='right')\n",
        "    i += 1\n",
        "pyplot.show()"
      ],
      "metadata": {
        "colab": {
          "base_uri": "https://localhost:8080/",
          "height": 265
        },
        "id": "DkHg8AOxEXaD",
        "outputId": "c7d1a44e-b2c1-45b8-ec6a-a0c512d18a85"
      },
      "execution_count": 13,
      "outputs": [
        {
          "output_type": "display_data",
          "data": {
            "text/plain": [
              "<Figure size 432x288 with 2 Axes>"
            ],
            "image/png": "[encoded data removed]"
          },
          "metadata": {
            "needs_background": "light"
          }
        }
      ]
    },
    {
      "cell_type": "markdown",
      "source": [],
      "metadata": {
        "id": "CUxogOx4EfK3"
      }
    },
    {
      "cell_type": "markdown",
      "source": [
        "Data Preparation"
      ],
      "metadata": {
        "id": "I04X0g6EE0t5"
      }
    },
    {
      "cell_type": "code",
      "source": [
        "values = csv3.values\n",
        "cols = csv3.columns.tolist()\n",
        "cols = cols[-1:] + cols[:-1]\n",
        "cols"
      ],
      "metadata": {
        "colab": {
          "base_uri": "https://localhost:8080/"
        },
        "id": "5IUcLJDKE_RB",
        "outputId": "55b579b9-6059-42f8-9594-2c72605b365b"
      },
      "execution_count": 14,
      "outputs": [
        {
          "output_type": "execute_result",
          "data": {
            "text/plain": [
              "['sentiment', 'dates', 'prices']"
            ]
          },
          "metadata": {},
          "execution_count": 14
        }
      ]
    },
    {
      "cell_type": "markdown",
      "source": [
        "Building a new csv for ML purposes - we need to drop the datetime values"
      ],
      "metadata": {
        "id": "fa7fQ_wLFB9K"
      }
    },
    {
      "cell_type": "code",
      "source": [
        "csv3 = csv3[cols]\n",
        "csv3 = csv3[['prices', 'sentiment']]\n",
        "csv3.head()"
      ],
      "metadata": {
        "colab": {
          "base_uri": "https://localhost:8080/",
          "height": 206
        },
        "id": "PzAFuT2hFATM",
        "outputId": "78a483e0-5852-4315-a1b9-bc8eeab7d768"
      },
      "execution_count": 15,
      "outputs": [
        {
          "output_type": "execute_result",
          "data": {
            "text/plain": [
              "       prices  sentiment\n",
              "0  457.334015   0.011888\n",
              "1  424.440002   0.010501\n",
              "2  394.795990   0.004012\n",
              "3  408.903992   0.011305\n",
              "4  398.821014   0.003570"
            ],
            "text/html": [
              "\n",
              "  <div id=\"df-a93febc0-e918-4d64-8b73-aad97ec2c218\">\n",
              "    <div class=\"colab-df-container\">\n",
              "      <div>\n",
              "<style scoped>\n",
              "    .dataframe tbody tr th:only-of-type {\n",
              "        vertical-align: middle;\n",
              "    }\n",
              "\n",
              "    .dataframe tbody tr th {\n",
              "        vertical-align: top;\n",
              "    }\n",
              "\n",
              "    .dataframe thead th {\n",
              "        text-align: right;\n",
              "    }\n",
              "</style>\n",
              "<table border=\"1\" class=\"dataframe\">\n",
              "  <thead>\n",
              "    <tr style=\"text-align: right;\">\n",
              "      <th></th>\n",
              "      <th>prices</th>\n",
              "      <th>sentiment</th>\n",
              "    </tr>\n",
              "  </thead>\n",
              "  <tbody>\n",
              "    <tr>\n",
              "      <th>0</th>\n",
              "      <td>457.334015</td>\n",
              "      <td>0.011888</td>\n",
              "    </tr>\n",
              "    <tr>\n",
              "      <th>1</th>\n",
              "      <td>424.440002</td>\n",
              "      <td>0.010501</td>\n",
              "    </tr>\n",
              "    <tr>\n",
              "      <th>2</th>\n",
              "      <td>394.795990</td>\n",
              "      <td>0.004012</td>\n",
              "    </tr>\n",
              "    <tr>\n",
              "      <th>3</th>\n",
              "      <td>408.903992</td>\n",
              "      <td>0.011305</td>\n",
              "    </tr>\n",
              "    <tr>\n",
              "      <th>4</th>\n",
              "      <td>398.821014</td>\n",
              "      <td>0.003570</td>\n",
              "    </tr>\n",
              "  </tbody>\n",
              "</table>\n",
              "</div>\n",
              "      <button class=\"colab-df-convert\" onclick=\"convertToInteractive('df-a93febc0-e918-4d64-8b73-aad97ec2c218')\"\n",
              "              title=\"Convert this dataframe to an interactive table.\"\n",
              "              style=\"display:none;\">\n",
              "        \n",
              "  <svg xmlns=\"http://www.w3.org/2000/svg\" height=\"24px\"viewBox=\"0 0 24 24\"\n",
              "       width=\"24px\">\n",
              "    <path d=\"M0 0h24v24H0V0z\" fill=\"none\"/>\n",
              "    <path d=\"M18.56 5.44l.94 2.06.94-2.06 2.06-.94-2.06-.94-.94-2.06-.94 2.06-2.06.94zm-11 1L8.5 8.5l.94-2.06 2.06-.94-2.06-.94L8.5 2.5l-.94 2.06-2.06.94zm10 10l.94 2.06.94-2.06 2.06-.94-2.06-.94-.94-2.06-.94 2.06-2.06.94z\"/><path d=\"M17.41 7.96l-1.37-1.37c-.4-.4-.92-.59-1.43-.59-.52 0-1.04.2-1.43.59L10.3 9.45l-7.72 7.72c-.78.78-.78 2.05 0 2.83L4 21.41c.39.39.9.59 1.41.59.51 0 1.02-.2 1.41-.59l7.78-7.78 2.81-2.81c.8-.78.8-2.07 0-2.86zM5.41 20L4 18.59l7.72-7.72 1.47 1.35L5.41 20z\"/>\n",
              "  </svg>\n",
              "      </button>\n",
              "      \n",
              "  <style>\n",
              "    .colab-df-container {\n",
              "      display:flex;\n",
              "      flex-wrap:wrap;\n",
              "      gap: 12px;\n",
              "    }\n",
              "\n",
              "    .colab-df-convert {\n",
              "      background-color: #E8F0FE;\n",
              "      border: none;\n",
              "      border-radius: 50%;\n",
              "      cursor: pointer;\n",
              "      display: none;\n",
              "      fill: #1967D2;\n",
              "      height: 32px;\n",
              "      padding: 0 0 0 0;\n",
              "      width: 32px;\n",
              "    }\n",
              "\n",
              "    .colab-df-convert:hover {\n",
              "      background-color: #E2EBFA;\n",
              "      box-shadow: 0px 1px 2px rgba(60, 64, 67, 0.3), 0px 1px 3px 1px rgba(60, 64, 67, 0.15);\n",
              "      fill: #174EA6;\n",
              "    }\n",
              "\n",
              "    [theme=dark] .colab-df-convert {\n",
              "      background-color: #3B4455;\n",
              "      fill: #D2E3FC;\n",
              "    }\n",
              "\n",
              "    [theme=dark] .colab-df-convert:hover {\n",
              "      background-color: #434B5C;\n",
              "      box-shadow: 0px 1px 3px 1px rgba(0, 0, 0, 0.15);\n",
              "      filter: drop-shadow(0px 1px 2px rgba(0, 0, 0, 0.3));\n",
              "      fill: #FFFFFF;\n",
              "    }\n",
              "  </style>\n",
              "\n",
              "      <script>\n",
              "        const buttonEl =\n",
              "          document.querySelector('#df-a93febc0-e918-4d64-8b73-aad97ec2c218 button.colab-df-convert');\n",
              "        buttonEl.style.display =\n",
              "          google.colab.kernel.accessAllowed ? 'block' : 'none';\n",
              "\n",
              "        async function convertToInteractive(key) {\n",
              "          const element = document.querySelector('#df-a93febc0-e918-4d64-8b73-aad97ec2c218');\n",
              "          const dataTable =\n",
              "            await google.colab.kernel.invokeFunction('convertToInteractive',\n",
              "                                                     [key], {});\n",
              "          if (!dataTable) return;\n",
              "\n",
              "          const docLinkHtml = 'Like what you see? Visit the ' +\n",
              "            '<a target=\"_blank\" href=https://colab.research.google.com/notebooks/data_table.ipynb>data table notebook</a>'\n",
              "            + ' to learn more about interactive tables.';\n",
              "          element.innerHTML = '';\n",
              "          dataTable['output_type'] = 'display_data';\n",
              "          await google.colab.output.renderOutput(dataTable, element);\n",
              "          const docLink = document.createElement('div');\n",
              "          docLink.innerHTML = docLinkHtml;\n",
              "          element.appendChild(docLink);\n",
              "        }\n",
              "      </script>\n",
              "    </div>\n",
              "  </div>\n",
              "  "
            ]
          },
          "metadata": {},
          "execution_count": 15
        }
      ]
    },
    {
      "cell_type": "markdown",
      "source": [
        "We're building the model on two variables - price and sentiment.\n",
        "Our array will look like that:"
      ],
      "metadata": {
        "id": "9RhNqeidFOdt"
      }
    },
    {
      "cell_type": "code",
      "source": [
        "csv3.values"
      ],
      "metadata": {
        "colab": {
          "base_uri": "https://localhost:8080/"
        },
        "id": "LWZ-bEAGFUqa",
        "outputId": "dd12e22a-3237-4903-ae34-fe6ffed97b3c"
      },
      "execution_count": 16,
      "outputs": [
        {
          "output_type": "execute_result",
          "data": {
            "text/plain": [
              "array([[4.57334015e+02, 1.18876342e-02],\n",
              "       [4.24440002e+02, 1.05007360e-02],\n",
              "       [3.94795990e+02, 4.01234314e-03],\n",
              "       ...,\n",
              "       [1.66694395e+04, 9.76292044e-02],\n",
              "       [1.62918320e+04, 7.32564884e-02],\n",
              "       [1.57872842e+04, 9.53884513e-02]])"
            ]
          },
          "metadata": {},
          "execution_count": 16
        }
      ]
    },
    {
      "cell_type": "markdown",
      "source": [
        "Preparing a scaler with a desired range of transformed features as (0,1)"
      ],
      "metadata": {
        "id": "szEJOn_PFYBW"
      }
    },
    {
      "cell_type": "code",
      "source": [
        "from sklearn.preprocessing import MinMaxScaler\n",
        "scaler = MinMaxScaler(feature_range=(0, 1))\n",
        "scaled = scaler.fit_transform(csv3.values)"
      ],
      "metadata": {
        "id": "W9YjGUfTFV8F"
      },
      "execution_count": 17,
      "outputs": []
    },
    {
      "cell_type": "markdown",
      "source": [
        "Our array scaled with values between 0 and 1"
      ],
      "metadata": {
        "id": "spudvoAYFgqn"
      }
    },
    {
      "cell_type": "code",
      "source": [
        "scaled"
      ],
      "metadata": {
        "colab": {
          "base_uri": "https://localhost:8080/"
        },
        "id": "zfo_My9IFaAh",
        "outputId": "8c142d85-e308-4da0-ac4f-5c11ff198d67"
      },
      "execution_count": 18,
      "outputs": [
        {
          "output_type": "execute_result",
          "data": {
            "text/plain": [
              "array([[0.00424268, 0.1219836 ],\n",
              "       [0.00374289, 0.11898337],\n",
              "       [0.00329247, 0.10494727],\n",
              "       ...,\n",
              "       [0.25057211, 0.30746514],\n",
              "       [0.24483468, 0.25474055],\n",
              "       [0.2371685 , 0.30261781]])"
            ]
          },
          "metadata": {},
          "execution_count": 18
        }
      ]
    },
    {
      "cell_type": "markdown",
      "source": [
        "LSTM preparation"
      ],
      "metadata": {
        "id": "Iu8tWj6lFoSf"
      }
    },
    {
      "cell_type": "markdown",
      "source": [
        "Importing needed libraries"
      ],
      "metadata": {
        "id": "Se0gEZCCEKCb"
      }
    },
    {
      "cell_type": "code",
      "source": [
        "from math import sqrt\n",
        "from numpy import concatenate\n",
        "from matplotlib import pyplot\n",
        "\n",
        "\n",
        "from sklearn.preprocessing import LabelEncoder\n",
        "from sklearn.metrics import mean_squared_error\n",
        "\n",
        "\n",
        "from keras.models import Sequential\n",
        "from keras.layers import Dense\n",
        "from keras.layers import LSTM"
      ],
      "metadata": {
        "id": "8B3YO2GeEzEJ"
      },
      "execution_count": 19,
      "outputs": []
    },
    {
      "cell_type": "markdown",
      "source": [
        "Defining a function that will convert imput data to a dataframe for supervised learning"
      ],
      "metadata": {
        "id": "Btnnww_xEM8U"
      }
    },
    {
      "cell_type": "markdown",
      "source": [
        "Explanation via https://ruslanmv.com/blog/Multivariable-Time-Series-Forecasting-with-Neural-Networks"
      ],
      "metadata": {
        "id": "q8fIT7WIEosy"
      }
    },
    {
      "cell_type": "markdown",
      "source": [
        "Technically, in time series forecasting terminology the current time (t) and future times (t+1, t+n) are forecast times and past observations (t-1, t-n) are used to make forecasts."
      ],
      "metadata": {
        "id": "nSOaZsO8EdTz"
      }
    },
    {
      "cell_type": "markdown",
      "source": [
        "Positive and negative shifts can be used to create a new DataFrame from a time series with sequences of input and output patterns for a supervised learning problem. Further, the shift function also works on so-called multivariate time series problems. All variates in the time series can be shifted forward or backward to create multivariate input and output sequences."
      ],
      "metadata": {
        "id": "hi2wTVArEn9X"
      }
    },
    {
      "cell_type": "code",
      "source": [
        "# convert series to supervised learning\n",
        "def series_to_supervised(data, n_in=1, n_out=1, dropnan=True):\n",
        "\tn_vars = 1 if type(data) is list else data.shape[1]\n",
        "\tdf = pd.DataFrame(data)\n",
        "\tcols, names = list(), list()\n",
        "\t# input sequence (t-n, ... t-1)\n",
        "\tfor i in range(n_in, 0, -1):\n",
        "\t\tcols.append(df.shift(i))\n",
        "\t\tnames += [('var%d(t-%d)' % (j+1, i)) for j in range(n_vars)]\n",
        "\t# forecast sequence (t, t+1, ... t+n)\n",
        "\tfor i in range(0, n_out):\n",
        "\t\tcols.append(df.shift(-i))\n",
        "\t\tif i == 0:\n",
        "\t\t\tnames += [('var%d(t)' % (j+1)) for j in range(n_vars)]\n",
        "\t\telse:\n",
        "\t\t\tnames += [('var%d(t+%d)' % (j+1, i)) for j in range(n_vars)]\n",
        "\t# put it all together\n",
        "\tagg = pd.concat(cols, axis=1)\n",
        "\tagg.columns = names\n",
        "\t# drop rows with NaN values\n",
        "\tif dropnan:\n",
        "\t\tagg.dropna(inplace=True)\n",
        "\treturn agg"
      ],
      "metadata": {
        "id": "PlZCso8KE4da"
      },
      "execution_count": 20,
      "outputs": []
    },
    {
      "cell_type": "markdown",
      "source": [
        "Defining params"
      ],
      "metadata": {
        "id": "D4h0cUgWFJi-"
      }
    },
    {
      "cell_type": "code",
      "source": [
        "n_days = 60 #timeshift for the supervised dataframe\n",
        "n_features = 2 #we have 2 variables in our array\n",
        "n_obs = n_days*n_features #output count of all observations in the supervised df"
      ],
      "metadata": {
        "id": "tirhzL0tE5p2"
      },
      "execution_count": 21,
      "outputs": []
    },
    {
      "cell_type": "markdown",
      "source": [
        "Calling the function"
      ],
      "metadata": {
        "id": "vsrCjK8gFi54"
      }
    },
    {
      "cell_type": "code",
      "source": [
        "reframed = series_to_supervised(scaled, n_days, 1)\n",
        "reframed.head()"
      ],
      "metadata": {
        "colab": {
          "base_uri": "https://localhost:8080/",
          "height": 280
        },
        "id": "xbxDD0oHFKnJ",
        "outputId": "f1f688d5-d107-4369-c6b0-18d2a4c20052"
      },
      "execution_count": 22,
      "outputs": [
        {
          "output_type": "execute_result",
          "data": {
            "text/plain": [
              "    var1(t-60)  var2(t-60)  var1(t-59)  var2(t-59)  var1(t-58)  var2(t-58)  \\\n",
              "60    0.004243    0.121984    0.003743    0.118983    0.003292    0.104947   \n",
              "61    0.003743    0.118983    0.003292    0.104947    0.003507    0.120723   \n",
              "62    0.003292    0.104947    0.003507    0.120723    0.003354    0.103991   \n",
              "63    0.003507    0.120723    0.003354    0.103991    0.003404    0.132904   \n",
              "64    0.003354    0.103991    0.003404    0.132904    0.003915    0.119527   \n",
              "\n",
              "    var1(t-57)  var2(t-57)  var1(t-56)  var2(t-56)  ...  var1(t-4)  var2(t-4)  \\\n",
              "60    0.003507    0.120723    0.003354    0.103991  ...   0.003730   0.238220   \n",
              "61    0.003354    0.103991    0.003404    0.132904  ...   0.003687   0.204093   \n",
              "62    0.003404    0.132904    0.003915    0.119527  ...   0.003338   0.236340   \n",
              "63    0.003915    0.119527    0.003724    0.140501  ...   0.003009   0.212194   \n",
              "64    0.003724    0.140501    0.003547    0.151466  ...   0.003187   0.199299   \n",
              "\n",
              "    var1(t-3)  var2(t-3)  var1(t-2)  var2(t-2)  var1(t-1)  var2(t-1)  \\\n",
              "60   0.003687   0.204093   0.003338   0.236340   0.003009   0.212194   \n",
              "61   0.003338   0.236340   0.003009   0.212194   0.003187   0.199299   \n",
              "62   0.003009   0.212194   0.003187   0.199299   0.003180   0.170221   \n",
              "63   0.003187   0.199299   0.003180   0.170221   0.002995   0.275026   \n",
              "64   0.003180   0.170221   0.002995   0.275026   0.003076   0.194834   \n",
              "\n",
              "     var1(t)   var2(t)  \n",
              "60  0.003187  0.199299  \n",
              "61  0.003180  0.170221  \n",
              "62  0.002995  0.275026  \n",
              "63  0.003076  0.194834  \n",
              "64  0.002731  0.202770  \n",
              "\n",
              "[5 rows x 122 columns]"
            ],
            "text/html": [
              "\n",
              "  <div id=\"df-312c7174-1a72-4b84-aa93-285702fc1089\">\n",
              "    <div class=\"colab-df-container\">\n",
              "      <div>\n",
              "<style scoped>\n",
              "    .dataframe tbody tr th:only-of-type {\n",
              "        vertical-align: middle;\n",
              "    }\n",
              "\n",
              "    .dataframe tbody tr th {\n",
              "        vertical-align: top;\n",
              "    }\n",
              "\n",
              "    .dataframe thead th {\n",
              "        text-align: right;\n",
              "    }\n",
              "</style>\n",
              "<table border=\"1\" class=\"dataframe\">\n",
              "  <thead>\n",
              "    <tr style=\"text-align: right;\">\n",
              "      <th></th>\n",
              "      <th>var1(t-60)</th>\n",
              "      <th>var2(t-60)</th>\n",
              "      <th>var1(t-59)</th>\n",
              "      <th>var2(t-59)</th>\n",
              "      <th>var1(t-58)</th>\n",
              "      <th>var2(t-58)</th>\n",
              "      <th>var1(t-57)</th>\n",
              "      <th>var2(t-57)</th>\n",
              "      <th>var1(t-56)</th>\n",
              "      <th>var2(t-56)</th>\n",
              "      <th>...</th>\n",
              "      <th>var1(t-4)</th>\n",
              "      <th>var2(t-4)</th>\n",
              "      <th>var1(t-3)</th>\n",
              "      <th>var2(t-3)</th>\n",
              "      <th>var1(t-2)</th>\n",
              "      <th>var2(t-2)</th>\n",
              "      <th>var1(t-1)</th>\n",
              "      <th>var2(t-1)</th>\n",
              "      <th>var1(t)</th>\n",
              "      <th>var2(t)</th>\n",
              "    </tr>\n",
              "  </thead>\n",
              "  <tbody>\n",
              "    <tr>\n",
              "      <th>60</th>\n",
              "      <td>0.004243</td>\n",
              "      <td>0.121984</td>\n",
              "      <td>0.003743</td>\n",
              "      <td>0.118983</td>\n",
              "      <td>0.003292</td>\n",
              "      <td>0.104947</td>\n",
              "      <td>0.003507</td>\n",
              "      <td>0.120723</td>\n",
              "      <td>0.003354</td>\n",
              "      <td>0.103991</td>\n",
              "      <td>...</td>\n",
              "      <td>0.003730</td>\n",
              "      <td>0.238220</td>\n",
              "      <td>0.003687</td>\n",
              "      <td>0.204093</td>\n",
              "      <td>0.003338</td>\n",
              "      <td>0.236340</td>\n",
              "      <td>0.003009</td>\n",
              "      <td>0.212194</td>\n",
              "      <td>0.003187</td>\n",
              "      <td>0.199299</td>\n",
              "    </tr>\n",
              "    <tr>\n",
              "      <th>61</th>\n",
              "      <td>0.003743</td>\n",
              "      <td>0.118983</td>\n",
              "      <td>0.003292</td>\n",
              "      <td>0.104947</td>\n",
              "      <td>0.003507</td>\n",
              "      <td>0.120723</td>\n",
              "      <td>0.003354</td>\n",
              "      <td>0.103991</td>\n",
              "      <td>0.003404</td>\n",
              "      <td>0.132904</td>\n",
              "      <td>...</td>\n",
              "      <td>0.003687</td>\n",
              "      <td>0.204093</td>\n",
              "      <td>0.003338</td>\n",
              "      <td>0.236340</td>\n",
              "      <td>0.003009</td>\n",
              "      <td>0.212194</td>\n",
              "      <td>0.003187</td>\n",
              "      <td>0.199299</td>\n",
              "      <td>0.003180</td>\n",
              "      <td>0.170221</td>\n",
              "    </tr>\n",
              "    <tr>\n",
              "      <th>62</th>\n",
              "      <td>0.003292</td>\n",
              "      <td>0.104947</td>\n",
              "      <td>0.003507</td>\n",
              "      <td>0.120723</td>\n",
              "      <td>0.003354</td>\n",
              "      <td>0.103991</td>\n",
              "      <td>0.003404</td>\n",
              "      <td>0.132904</td>\n",
              "      <td>0.003915</td>\n",
              "      <td>0.119527</td>\n",
              "      <td>...</td>\n",
              "      <td>0.003338</td>\n",
              "      <td>0.236340</td>\n",
              "      <td>0.003009</td>\n",
              "      <td>0.212194</td>\n",
              "      <td>0.003187</td>\n",
              "      <td>0.199299</td>\n",
              "      <td>0.003180</td>\n",
              "      <td>0.170221</td>\n",
              "      <td>0.002995</td>\n",
              "      <td>0.275026</td>\n",
              "    </tr>\n",
              "    <tr>\n",
              "      <th>63</th>\n",
              "      <td>0.003507</td>\n",
              "      <td>0.120723</td>\n",
              "      <td>0.003354</td>\n",
              "      <td>0.103991</td>\n",
              "      <td>0.003404</td>\n",
              "      <td>0.132904</td>\n",
              "      <td>0.003915</td>\n",
              "      <td>0.119527</td>\n",
              "      <td>0.003724</td>\n",
              "      <td>0.140501</td>\n",
              "      <td>...</td>\n",
              "      <td>0.003009</td>\n",
              "      <td>0.212194</td>\n",
              "      <td>0.003187</td>\n",
              "      <td>0.199299</td>\n",
              "      <td>0.003180</td>\n",
              "      <td>0.170221</td>\n",
              "      <td>0.002995</td>\n",
              "      <td>0.275026</td>\n",
              "      <td>0.003076</td>\n",
              "      <td>0.194834</td>\n",
              "    </tr>\n",
              "    <tr>\n",
              "      <th>64</th>\n",
              "      <td>0.003354</td>\n",
              "      <td>0.103991</td>\n",
              "      <td>0.003404</td>\n",
              "      <td>0.132904</td>\n",
              "      <td>0.003915</td>\n",
              "      <td>0.119527</td>\n",
              "      <td>0.003724</td>\n",
              "      <td>0.140501</td>\n",
              "      <td>0.003547</td>\n",
              "      <td>0.151466</td>\n",
              "      <td>...</td>\n",
              "      <td>0.003187</td>\n",
              "      <td>0.199299</td>\n",
              "      <td>0.003180</td>\n",
              "      <td>0.170221</td>\n",
              "      <td>0.002995</td>\n",
              "      <td>0.275026</td>\n",
              "      <td>0.003076</td>\n",
              "      <td>0.194834</td>\n",
              "      <td>0.002731</td>\n",
              "      <td>0.202770</td>\n",
              "    </tr>\n",
              "  </tbody>\n",
              "</table>\n",
              "<p>5 rows × 122 columns</p>\n",
              "</div>\n",
              "      <button class=\"colab-df-convert\" onclick=\"convertToInteractive('df-312c7174-1a72-4b84-aa93-285702fc1089')\"\n",
              "              title=\"Convert this dataframe to an interactive table.\"\n",
              "              style=\"display:none;\">\n",
              "        \n",
              "  <svg xmlns=\"http://www.w3.org/2000/svg\" height=\"24px\"viewBox=\"0 0 24 24\"\n",
              "       width=\"24px\">\n",
              "    <path d=\"M0 0h24v24H0V0z\" fill=\"none\"/>\n",
              "    <path d=\"M18.56 5.44l.94 2.06.94-2.06 2.06-.94-2.06-.94-.94-2.06-.94 2.06-2.06.94zm-11 1L8.5 8.5l.94-2.06 2.06-.94-2.06-.94L8.5 2.5l-.94 2.06-2.06.94zm10 10l.94 2.06.94-2.06 2.06-.94-2.06-.94-.94-2.06-.94 2.06-2.06.94z\"/><path d=\"M17.41 7.96l-1.37-1.37c-.4-.4-.92-.59-1.43-.59-.52 0-1.04.2-1.43.59L10.3 9.45l-7.72 7.72c-.78.78-.78 2.05 0 2.83L4 21.41c.39.39.9.59 1.41.59.51 0 1.02-.2 1.41-.59l7.78-7.78 2.81-2.81c.8-.78.8-2.07 0-2.86zM5.41 20L4 18.59l7.72-7.72 1.47 1.35L5.41 20z\"/>\n",
              "  </svg>\n",
              "      </button>\n",
              "      \n",
              "  <style>\n",
              "    .colab-df-container {\n",
              "      display:flex;\n",
              "      flex-wrap:wrap;\n",
              "      gap: 12px;\n",
              "    }\n",
              "\n",
              "    .colab-df-convert {\n",
              "      background-color: #E8F0FE;\n",
              "      border: none;\n",
              "      border-radius: 50%;\n",
              "      cursor: pointer;\n",
              "      display: none;\n",
              "      fill: #1967D2;\n",
              "      height: 32px;\n",
              "      padding: 0 0 0 0;\n",
              "      width: 32px;\n",
              "    }\n",
              "\n",
              "    .colab-df-convert:hover {\n",
              "      background-color: #E2EBFA;\n",
              "      box-shadow: 0px 1px 2px rgba(60, 64, 67, 0.3), 0px 1px 3px 1px rgba(60, 64, 67, 0.15);\n",
              "      fill: #174EA6;\n",
              "    }\n",
              "\n",
              "    [theme=dark] .colab-df-convert {\n",
              "      background-color: #3B4455;\n",
              "      fill: #D2E3FC;\n",
              "    }\n",
              "\n",
              "    [theme=dark] .colab-df-convert:hover {\n",
              "      background-color: #434B5C;\n",
              "      box-shadow: 0px 1px 3px 1px rgba(0, 0, 0, 0.15);\n",
              "      filter: drop-shadow(0px 1px 2px rgba(0, 0, 0, 0.3));\n",
              "      fill: #FFFFFF;\n",
              "    }\n",
              "  </style>\n",
              "\n",
              "      <script>\n",
              "        const buttonEl =\n",
              "          document.querySelector('#df-312c7174-1a72-4b84-aa93-285702fc1089 button.colab-df-convert');\n",
              "        buttonEl.style.display =\n",
              "          google.colab.kernel.accessAllowed ? 'block' : 'none';\n",
              "\n",
              "        async function convertToInteractive(key) {\n",
              "          const element = document.querySelector('#df-312c7174-1a72-4b84-aa93-285702fc1089');\n",
              "          const dataTable =\n",
              "            await google.colab.kernel.invokeFunction('convertToInteractive',\n",
              "                                                     [key], {});\n",
              "          if (!dataTable) return;\n",
              "\n",
              "          const docLinkHtml = 'Like what you see? Visit the ' +\n",
              "            '<a target=\"_blank\" href=https://colab.research.google.com/notebooks/data_table.ipynb>data table notebook</a>'\n",
              "            + ' to learn more about interactive tables.';\n",
              "          element.innerHTML = '';\n",
              "          dataTable['output_type'] = 'display_data';\n",
              "          await google.colab.output.renderOutput(dataTable, element);\n",
              "          const docLink = document.createElement('div');\n",
              "          docLink.innerHTML = docLinkHtml;\n",
              "          element.appendChild(docLink);\n",
              "        }\n",
              "      </script>\n",
              "    </div>\n",
              "  </div>\n",
              "  "
            ]
          },
          "metadata": {},
          "execution_count": 22
        }
      ]
    },
    {
      "cell_type": "markdown",
      "source": [
        "Our model will predict the actual price (last from the obs columns), so we need to drop both actual price and actual sentiment from the dataframe"
      ],
      "metadata": {
        "id": "yu82yApsFo1C"
      }
    },
    {
      "cell_type": "code",
      "source": [
        "reframed.drop(reframed.columns[[121,120]], axis=1, inplace=True)\n",
        "reframed.head()"
      ],
      "metadata": {
        "colab": {
          "base_uri": "https://localhost:8080/",
          "height": 297
        },
        "id": "kacVU6OYFNTQ",
        "outputId": "07bd4e6e-a25e-480d-b03c-d71a37320eec"
      },
      "execution_count": 23,
      "outputs": [
        {
          "output_type": "execute_result",
          "data": {
            "text/plain": [
              "    var1(t-60)  var2(t-60)  var1(t-59)  var2(t-59)  var1(t-58)  var2(t-58)  \\\n",
              "60    0.004243    0.121984    0.003743    0.118983    0.003292    0.104947   \n",
              "61    0.003743    0.118983    0.003292    0.104947    0.003507    0.120723   \n",
              "62    0.003292    0.104947    0.003507    0.120723    0.003354    0.103991   \n",
              "63    0.003507    0.120723    0.003354    0.103991    0.003404    0.132904   \n",
              "64    0.003354    0.103991    0.003404    0.132904    0.003915    0.119527   \n",
              "\n",
              "    var1(t-57)  var2(t-57)  var1(t-56)  var2(t-56)  ...  var1(t-5)  var2(t-5)  \\\n",
              "60    0.003507    0.120723    0.003354    0.103991  ...   0.002881   0.265879   \n",
              "61    0.003354    0.103991    0.003404    0.132904  ...   0.003730   0.238220   \n",
              "62    0.003404    0.132904    0.003915    0.119527  ...   0.003687   0.204093   \n",
              "63    0.003915    0.119527    0.003724    0.140501  ...   0.003338   0.236340   \n",
              "64    0.003724    0.140501    0.003547    0.151466  ...   0.003009   0.212194   \n",
              "\n",
              "    var1(t-4)  var2(t-4)  var1(t-3)  var2(t-3)  var1(t-2)  var2(t-2)  \\\n",
              "60   0.003730   0.238220   0.003687   0.204093   0.003338   0.236340   \n",
              "61   0.003687   0.204093   0.003338   0.236340   0.003009   0.212194   \n",
              "62   0.003338   0.236340   0.003009   0.212194   0.003187   0.199299   \n",
              "63   0.003009   0.212194   0.003187   0.199299   0.003180   0.170221   \n",
              "64   0.003187   0.199299   0.003180   0.170221   0.002995   0.275026   \n",
              "\n",
              "    var1(t-1)  var2(t-1)  \n",
              "60   0.003009   0.212194  \n",
              "61   0.003187   0.199299  \n",
              "62   0.003180   0.170221  \n",
              "63   0.002995   0.275026  \n",
              "64   0.003076   0.194834  \n",
              "\n",
              "[5 rows x 120 columns]"
            ],
            "text/html": [
              "\n",
              "  <div id=\"df-fb9c2709-5bcf-4c5a-9ab8-d0e24ec839a1\">\n",
              "    <div class=\"colab-df-container\">\n",
              "      <div>\n",
              "<style scoped>\n",
              "    .dataframe tbody tr th:only-of-type {\n",
              "        vertical-align: middle;\n",
              "    }\n",
              "\n",
              "    .dataframe tbody tr th {\n",
              "        vertical-align: top;\n",
              "    }\n",
              "\n",
              "    .dataframe thead th {\n",
              "        text-align: right;\n",
              "    }\n",
              "</style>\n",
              "<table border=\"1\" class=\"dataframe\">\n",
              "  <thead>\n",
              "    <tr style=\"text-align: right;\">\n",
              "      <th></th>\n",
              "      <th>var1(t-60)</th>\n",
              "      <th>var2(t-60)</th>\n",
              "      <th>var1(t-59)</th>\n",
              "      <th>var2(t-59)</th>\n",
              "      <th>var1(t-58)</th>\n",
              "      <th>var2(t-58)</th>\n",
              "      <th>var1(t-57)</th>\n",
              "      <th>var2(t-57)</th>\n",
              "      <th>var1(t-56)</th>\n",
              "      <th>var2(t-56)</th>\n",
              "      <th>...</th>\n",
              "      <th>var1(t-5)</th>\n",
              "      <th>var2(t-5)</th>\n",
              "      <th>var1(t-4)</th>\n",
              "      <th>var2(t-4)</th>\n",
              "      <th>var1(t-3)</th>\n",
              "      <th>var2(t-3)</th>\n",
              "      <th>var1(t-2)</th>\n",
              "      <th>var2(t-2)</th>\n",
              "      <th>var1(t-1)</th>\n",
              "      <th>var2(t-1)</th>\n",
              "    </tr>\n",
              "  </thead>\n",
              "  <tbody>\n",
              "    <tr>\n",
              "      <th>60</th>\n",
              "      <td>0.004243</td>\n",
              "      <td>0.121984</td>\n",
              "      <td>0.003743</td>\n",
              "      <td>0.118983</td>\n",
              "      <td>0.003292</td>\n",
              "      <td>0.104947</td>\n",
              "      <td>0.003507</td>\n",
              "      <td>0.120723</td>\n",
              "      <td>0.003354</td>\n",
              "      <td>0.103991</td>\n",
              "      <td>...</td>\n",
              "      <td>0.002881</td>\n",
              "      <td>0.265879</td>\n",
              "      <td>0.003730</td>\n",
              "      <td>0.238220</td>\n",
              "      <td>0.003687</td>\n",
              "      <td>0.204093</td>\n",
              "      <td>0.003338</td>\n",
              "      <td>0.236340</td>\n",
              "      <td>0.003009</td>\n",
              "      <td>0.212194</td>\n",
              "    </tr>\n",
              "    <tr>\n",
              "      <th>61</th>\n",
              "      <td>0.003743</td>\n",
              "      <td>0.118983</td>\n",
              "      <td>0.003292</td>\n",
              "      <td>0.104947</td>\n",
              "      <td>0.003507</td>\n",
              "      <td>0.120723</td>\n",
              "      <td>0.003354</td>\n",
              "      <td>0.103991</td>\n",
              "      <td>0.003404</td>\n",
              "      <td>0.132904</td>\n",
              "      <td>...</td>\n",
              "      <td>0.003730</td>\n",
              "      <td>0.238220</td>\n",
              "      <td>0.003687</td>\n",
              "      <td>0.204093</td>\n",
              "      <td>0.003338</td>\n",
              "      <td>0.236340</td>\n",
              "      <td>0.003009</td>\n",
              "      <td>0.212194</td>\n",
              "      <td>0.003187</td>\n",
              "      <td>0.199299</td>\n",
              "    </tr>\n",
              "    <tr>\n",
              "      <th>62</th>\n",
              "      <td>0.003292</td>\n",
              "      <td>0.104947</td>\n",
              "      <td>0.003507</td>\n",
              "      <td>0.120723</td>\n",
              "      <td>0.003354</td>\n",
              "      <td>0.103991</td>\n",
              "      <td>0.003404</td>\n",
              "      <td>0.132904</td>\n",
              "      <td>0.003915</td>\n",
              "      <td>0.119527</td>\n",
              "      <td>...</td>\n",
              "      <td>0.003687</td>\n",
              "      <td>0.204093</td>\n",
              "      <td>0.003338</td>\n",
              "      <td>0.236340</td>\n",
              "      <td>0.003009</td>\n",
              "      <td>0.212194</td>\n",
              "      <td>0.003187</td>\n",
              "      <td>0.199299</td>\n",
              "      <td>0.003180</td>\n",
              "      <td>0.170221</td>\n",
              "    </tr>\n",
              "    <tr>\n",
              "      <th>63</th>\n",
              "      <td>0.003507</td>\n",
              "      <td>0.120723</td>\n",
              "      <td>0.003354</td>\n",
              "      <td>0.103991</td>\n",
              "      <td>0.003404</td>\n",
              "      <td>0.132904</td>\n",
              "      <td>0.003915</td>\n",
              "      <td>0.119527</td>\n",
              "      <td>0.003724</td>\n",
              "      <td>0.140501</td>\n",
              "      <td>...</td>\n",
              "      <td>0.003338</td>\n",
              "      <td>0.236340</td>\n",
              "      <td>0.003009</td>\n",
              "      <td>0.212194</td>\n",
              "      <td>0.003187</td>\n",
              "      <td>0.199299</td>\n",
              "      <td>0.003180</td>\n",
              "      <td>0.170221</td>\n",
              "      <td>0.002995</td>\n",
              "      <td>0.275026</td>\n",
              "    </tr>\n",
              "    <tr>\n",
              "      <th>64</th>\n",
              "      <td>0.003354</td>\n",
              "      <td>0.103991</td>\n",
              "      <td>0.003404</td>\n",
              "      <td>0.132904</td>\n",
              "      <td>0.003915</td>\n",
              "      <td>0.119527</td>\n",
              "      <td>0.003724</td>\n",
              "      <td>0.140501</td>\n",
              "      <td>0.003547</td>\n",
              "      <td>0.151466</td>\n",
              "      <td>...</td>\n",
              "      <td>0.003009</td>\n",
              "      <td>0.212194</td>\n",
              "      <td>0.003187</td>\n",
              "      <td>0.199299</td>\n",
              "      <td>0.003180</td>\n",
              "      <td>0.170221</td>\n",
              "      <td>0.002995</td>\n",
              "      <td>0.275026</td>\n",
              "      <td>0.003076</td>\n",
              "      <td>0.194834</td>\n",
              "    </tr>\n",
              "  </tbody>\n",
              "</table>\n",
              "<p>5 rows × 120 columns</p>\n",
              "</div>\n",
              "      <button class=\"colab-df-convert\" onclick=\"convertToInteractive('df-fb9c2709-5bcf-4c5a-9ab8-d0e24ec839a1')\"\n",
              "              title=\"Convert this dataframe to an interactive table.\"\n",
              "              style=\"display:none;\">\n",
              "        \n",
              "  <svg xmlns=\"http://www.w3.org/2000/svg\" height=\"24px\"viewBox=\"0 0 24 24\"\n",
              "       width=\"24px\">\n",
              "    <path d=\"M0 0h24v24H0V0z\" fill=\"none\"/>\n",
              "    <path d=\"M18.56 5.44l.94 2.06.94-2.06 2.06-.94-2.06-.94-.94-2.06-.94 2.06-2.06.94zm-11 1L8.5 8.5l.94-2.06 2.06-.94-2.06-.94L8.5 2.5l-.94 2.06-2.06.94zm10 10l.94 2.06.94-2.06 2.06-.94-2.06-.94-.94-2.06-.94 2.06-2.06.94z\"/><path d=\"M17.41 7.96l-1.37-1.37c-.4-.4-.92-.59-1.43-.59-.52 0-1.04.2-1.43.59L10.3 9.45l-7.72 7.72c-.78.78-.78 2.05 0 2.83L4 21.41c.39.39.9.59 1.41.59.51 0 1.02-.2 1.41-.59l7.78-7.78 2.81-2.81c.8-.78.8-2.07 0-2.86zM5.41 20L4 18.59l7.72-7.72 1.47 1.35L5.41 20z\"/>\n",
              "  </svg>\n",
              "      </button>\n",
              "      \n",
              "  <style>\n",
              "    .colab-df-container {\n",
              "      display:flex;\n",
              "      flex-wrap:wrap;\n",
              "      gap: 12px;\n",
              "    }\n",
              "\n",
              "    .colab-df-convert {\n",
              "      background-color: #E8F0FE;\n",
              "      border: none;\n",
              "      border-radius: 50%;\n",
              "      cursor: pointer;\n",
              "      display: none;\n",
              "      fill: #1967D2;\n",
              "      height: 32px;\n",
              "      padding: 0 0 0 0;\n",
              "      width: 32px;\n",
              "    }\n",
              "\n",
              "    .colab-df-convert:hover {\n",
              "      background-color: #E2EBFA;\n",
              "      box-shadow: 0px 1px 2px rgba(60, 64, 67, 0.3), 0px 1px 3px 1px rgba(60, 64, 67, 0.15);\n",
              "      fill: #174EA6;\n",
              "    }\n",
              "\n",
              "    [theme=dark] .colab-df-convert {\n",
              "      background-color: #3B4455;\n",
              "      fill: #D2E3FC;\n",
              "    }\n",
              "\n",
              "    [theme=dark] .colab-df-convert:hover {\n",
              "      background-color: #434B5C;\n",
              "      box-shadow: 0px 1px 3px 1px rgba(0, 0, 0, 0.15);\n",
              "      filter: drop-shadow(0px 1px 2px rgba(0, 0, 0, 0.3));\n",
              "      fill: #FFFFFF;\n",
              "    }\n",
              "  </style>\n",
              "\n",
              "      <script>\n",
              "        const buttonEl =\n",
              "          document.querySelector('#df-fb9c2709-5bcf-4c5a-9ab8-d0e24ec839a1 button.colab-df-convert');\n",
              "        buttonEl.style.display =\n",
              "          google.colab.kernel.accessAllowed ? 'block' : 'none';\n",
              "\n",
              "        async function convertToInteractive(key) {\n",
              "          const element = document.querySelector('#df-fb9c2709-5bcf-4c5a-9ab8-d0e24ec839a1');\n",
              "          const dataTable =\n",
              "            await google.colab.kernel.invokeFunction('convertToInteractive',\n",
              "                                                     [key], {});\n",
              "          if (!dataTable) return;\n",
              "\n",
              "          const docLinkHtml = 'Like what you see? Visit the ' +\n",
              "            '<a target=\"_blank\" href=https://colab.research.google.com/notebooks/data_table.ipynb>data table notebook</a>'\n",
              "            + ' to learn more about interactive tables.';\n",
              "          element.innerHTML = '';\n",
              "          dataTable['output_type'] = 'display_data';\n",
              "          await google.colab.output.renderOutput(dataTable, element);\n",
              "          const docLink = document.createElement('div');\n",
              "          docLink.innerHTML = docLinkHtml;\n",
              "          element.appendChild(docLink);\n",
              "        }\n",
              "      </script>\n",
              "    </div>\n",
              "  </div>\n",
              "  "
            ]
          },
          "metadata": {},
          "execution_count": 23
        }
      ]
    },
    {
      "cell_type": "markdown",
      "source": [
        "Training data preparation 20-80"
      ],
      "metadata": {
        "id": "Ql0gDGINGBZu"
      }
    },
    {
      "cell_type": "code",
      "source": [
        "split_rows_when=int(round(len(csv3[\"prices\"])*(0.8),0))"
      ],
      "metadata": {
        "id": "Em46gWBcGCzi"
      },
      "execution_count": 24,
      "outputs": []
    },
    {
      "cell_type": "markdown",
      "source": [
        "Number of last considered day in training dataset"
      ],
      "metadata": {
        "id": "AbyveuiDGL81"
      }
    },
    {
      "cell_type": "code",
      "source": [
        "split_rows_when"
      ],
      "metadata": {
        "colab": {
          "base_uri": "https://localhost:8080/"
        },
        "id": "EMd_uGpBGKYN",
        "outputId": "c320d395-ee95-4e46-fd5e-1c1049f77eee"
      },
      "execution_count": 25,
      "outputs": [
        {
          "output_type": "execute_result",
          "data": {
            "text/plain": [
              "1686"
            ]
          },
          "metadata": {},
          "execution_count": 25
        }
      ]
    },
    {
      "cell_type": "code",
      "source": [
        "values = reframed.values\n",
        "train = values[:split_rows_when, :]"
      ],
      "metadata": {
        "id": "Je1nFV3QF_OW"
      },
      "execution_count": 26,
      "outputs": []
    },
    {
      "cell_type": "code",
      "source": [
        "train = values[:split_rows_when, :]\n",
        "test = values[split_rows_when:, :]\n",
        "train.shape"
      ],
      "metadata": {
        "colab": {
          "base_uri": "https://localhost:8080/"
        },
        "id": "BAWKRoSlGIm9",
        "outputId": "91b94c16-f161-47c4-e5ac-9fa6311b7fa8"
      },
      "execution_count": 27,
      "outputs": [
        {
          "output_type": "execute_result",
          "data": {
            "text/plain": [
              "(1686, 120)"
            ]
          },
          "metadata": {},
          "execution_count": 27
        }
      ]
    },
    {
      "cell_type": "code",
      "source": [
        "#defining the training x,y and test x,y\n",
        "train_X, train_y = train[:, :n_obs], train[:, -n_features]\n",
        "test_X, test_y = test[:, :n_obs], test[:, -n_features]"
      ],
      "metadata": {
        "id": "EMjbKn-zGRdq"
      },
      "execution_count": 28,
      "outputs": []
    },
    {
      "cell_type": "markdown",
      "source": [
        "Reshaping - as LSTM needs the data to be 3-dimensional, we will consider given dimensions:\n",
        "\n",
        "\n",
        "*   Samples (actual data)\n",
        "*   Sequence count - sequence of days to calculate the actual price from (60)\n",
        "*   Number of variables (2)\n",
        "\n",
        "\n",
        "\n",
        "\n"
      ],
      "metadata": {
        "id": "dNM-m0SzGeSc"
      }
    },
    {
      "cell_type": "code",
      "source": [
        "train_X = train_X.reshape((train_X.shape[0], n_days, n_features))\n",
        "test_X = test_X.reshape((test_X.shape[0], n_days, n_features))\n",
        "print(train_X.shape, train_y.shape, test_X.shape, test_y.shape)"
      ],
      "metadata": {
        "colab": {
          "base_uri": "https://localhost:8080/"
        },
        "id": "7M3VyeqyGcMB",
        "outputId": "18db0cb8-91b7-42d7-e769-70eedd3bc666"
      },
      "execution_count": 29,
      "outputs": [
        {
          "output_type": "stream",
          "name": "stdout",
          "text": [
            "(1686, 60, 2) (1686,) (362, 60, 2) (362,)\n"
          ]
        }
      ]
    },
    {
      "cell_type": "markdown",
      "source": [
        "Implementing LSTM neural network"
      ],
      "metadata": {
        "id": "KTbQwt8IHAxH"
      }
    },
    {
      "cell_type": "code",
      "source": [
        "model = Sequential()\n",
        "model.add(LSTM(50, input_shape=(train_X.shape[1], train_X.shape[2]),return_sequences=True))\n",
        "model.add(LSTM(50,return_sequences=False))\n",
        "model.add(Dense(25))\n",
        "model.add(Dense(1))\n",
        "model.compile(loss='mae', optimizer='adam')\n",
        "\n",
        "#overview of the model\n",
        "model.summary()"
      ],
      "metadata": {
        "colab": {
          "base_uri": "https://localhost:8080/"
        },
        "id": "6kwBO6czG-IN",
        "outputId": "bf51110c-235f-4401-8af7-ca73509d8016"
      },
      "execution_count": 30,
      "outputs": [
        {
          "output_type": "stream",
          "name": "stdout",
          "text": [
            "Model: \"sequential\"\n",
            "_________________________________________________________________\n",
            " Layer (type)                Output Shape              Param #   \n",
            "=================================================================\n",
            " lstm (LSTM)                 (None, 60, 50)            10600     \n",
            "                                                                 \n",
            " lstm_1 (LSTM)               (None, 50)                20200     \n",
            "                                                                 \n",
            " dense (Dense)               (None, 25)                1275      \n",
            "                                                                 \n",
            " dense_1 (Dense)             (None, 1)                 26        \n",
            "                                                                 \n",
            "=================================================================\n",
            "Total params: 32,101\n",
            "Trainable params: 32,101\n",
            "Non-trainable params: 0\n",
            "_________________________________________________________________\n"
          ]
        }
      ]
    },
    {
      "cell_type": "code",
      "source": [
        "#defining a history variable to see which epochs had minimal loss\n",
        "history = model.fit(train_X, train_y, epochs=50, batch_size=6, validation_data=(test_X, test_y), verbose=2, shuffle=False,validation_split=0.2)"
      ],
      "metadata": {
        "colab": {
          "base_uri": "https://localhost:8080/"
        },
        "id": "y9hu8NJYHRMq",
        "outputId": "bb57850b-a8e8-41c5-9aa6-0c25a1d9d88b"
      },
      "execution_count": 31,
      "outputs": [
        {
          "output_type": "stream",
          "name": "stdout",
          "text": [
            "Epoch 1/50\n",
            "281/281 - 10s - loss: 0.0098 - val_loss: 0.2714 - 10s/epoch - 34ms/step\n",
            "Epoch 2/50\n",
            "281/281 - 6s - loss: 0.0169 - val_loss: 0.2669 - 6s/epoch - 21ms/step\n",
            "Epoch 3/50\n",
            "281/281 - 6s - loss: 0.0197 - val_loss: 0.2710 - 6s/epoch - 20ms/step\n",
            "Epoch 4/50\n",
            "281/281 - 5s - loss: 0.0221 - val_loss: 0.3021 - 5s/epoch - 19ms/step\n",
            "Epoch 5/50\n",
            "281/281 - 6s - loss: 0.0191 - val_loss: 0.3019 - 6s/epoch - 20ms/step\n",
            "Epoch 6/50\n",
            "281/281 - 6s - loss: 0.0197 - val_loss: 0.3136 - 6s/epoch - 20ms/step\n",
            "Epoch 7/50\n",
            "281/281 - 6s - loss: 0.0191 - val_loss: 0.3170 - 6s/epoch - 20ms/step\n",
            "Epoch 8/50\n",
            "281/281 - 6s - loss: 0.0189 - val_loss: 0.3194 - 6s/epoch - 20ms/step\n",
            "Epoch 9/50\n",
            "281/281 - 6s - loss: 0.0191 - val_loss: 0.3202 - 6s/epoch - 20ms/step\n",
            "Epoch 10/50\n",
            "281/281 - 6s - loss: 0.0194 - val_loss: 0.3222 - 6s/epoch - 21ms/step\n",
            "Epoch 11/50\n",
            "281/281 - 8s - loss: 0.0186 - val_loss: 0.3108 - 8s/epoch - 27ms/step\n",
            "Epoch 12/50\n",
            "281/281 - 6s - loss: 0.0193 - val_loss: 0.3038 - 6s/epoch - 21ms/step\n",
            "Epoch 13/50\n",
            "281/281 - 5s - loss: 0.0188 - val_loss: 0.2859 - 5s/epoch - 19ms/step\n",
            "Epoch 14/50\n",
            "281/281 - 6s - loss: 0.0179 - val_loss: 0.2635 - 6s/epoch - 20ms/step\n",
            "Epoch 15/50\n",
            "281/281 - 6s - loss: 0.0160 - val_loss: 0.2282 - 6s/epoch - 20ms/step\n",
            "Epoch 16/50\n",
            "281/281 - 6s - loss: 0.0146 - val_loss: 0.2324 - 6s/epoch - 21ms/step\n",
            "Epoch 17/50\n",
            "281/281 - 5s - loss: 0.0126 - val_loss: 0.2207 - 5s/epoch - 19ms/step\n",
            "Epoch 18/50\n",
            "281/281 - 6s - loss: 0.0119 - val_loss: 0.2214 - 6s/epoch - 20ms/step\n",
            "Epoch 19/50\n",
            "281/281 - 5s - loss: 0.0115 - val_loss: 0.1954 - 5s/epoch - 19ms/step\n",
            "Epoch 20/50\n",
            "281/281 - 6s - loss: 0.0108 - val_loss: 0.1903 - 6s/epoch - 20ms/step\n",
            "Epoch 21/50\n",
            "281/281 - 6s - loss: 0.0104 - val_loss: 0.1801 - 6s/epoch - 20ms/step\n",
            "Epoch 22/50\n",
            "281/281 - 5s - loss: 0.0103 - val_loss: 0.1717 - 5s/epoch - 19ms/step\n",
            "Epoch 23/50\n",
            "281/281 - 5s - loss: 0.0102 - val_loss: 0.1734 - 5s/epoch - 19ms/step\n",
            "Epoch 24/50\n",
            "281/281 - 6s - loss: 0.0096 - val_loss: 0.1766 - 6s/epoch - 20ms/step\n",
            "Epoch 25/50\n",
            "281/281 - 6s - loss: 0.0096 - val_loss: 0.1641 - 6s/epoch - 21ms/step\n",
            "Epoch 26/50\n",
            "281/281 - 6s - loss: 0.0089 - val_loss: 0.1726 - 6s/epoch - 20ms/step\n",
            "Epoch 27/50\n",
            "281/281 - 6s - loss: 0.0090 - val_loss: 0.1627 - 6s/epoch - 20ms/step\n",
            "Epoch 28/50\n",
            "281/281 - 6s - loss: 0.0090 - val_loss: 0.1572 - 6s/epoch - 21ms/step\n",
            "Epoch 29/50\n",
            "281/281 - 6s - loss: 0.0088 - val_loss: 0.1541 - 6s/epoch - 20ms/step\n",
            "Epoch 30/50\n",
            "281/281 - 5s - loss: 0.0082 - val_loss: 0.1522 - 5s/epoch - 19ms/step\n",
            "Epoch 31/50\n",
            "281/281 - 6s - loss: 0.0083 - val_loss: 0.1477 - 6s/epoch - 21ms/step\n",
            "Epoch 32/50\n",
            "281/281 - 6s - loss: 0.0081 - val_loss: 0.1393 - 6s/epoch - 20ms/step\n",
            "Epoch 33/50\n",
            "281/281 - 6s - loss: 0.0084 - val_loss: 0.1419 - 6s/epoch - 20ms/step\n",
            "Epoch 34/50\n",
            "281/281 - 6s - loss: 0.0078 - val_loss: 0.1267 - 6s/epoch - 21ms/step\n",
            "Epoch 35/50\n",
            "281/281 - 6s - loss: 0.0072 - val_loss: 0.1402 - 6s/epoch - 20ms/step\n",
            "Epoch 36/50\n",
            "281/281 - 6s - loss: 0.0081 - val_loss: 0.1186 - 6s/epoch - 20ms/step\n",
            "Epoch 37/50\n",
            "281/281 - 6s - loss: 0.0070 - val_loss: 0.1184 - 6s/epoch - 20ms/step\n",
            "Epoch 38/50\n",
            "281/281 - 6s - loss: 0.0072 - val_loss: 0.1220 - 6s/epoch - 21ms/step\n",
            "Epoch 39/50\n",
            "281/281 - 6s - loss: 0.0067 - val_loss: 0.1057 - 6s/epoch - 20ms/step\n",
            "Epoch 40/50\n",
            "281/281 - 6s - loss: 0.0058 - val_loss: 0.1311 - 6s/epoch - 21ms/step\n",
            "Epoch 41/50\n",
            "281/281 - 6s - loss: 0.0061 - val_loss: 0.1210 - 6s/epoch - 21ms/step\n",
            "Epoch 42/50\n",
            "281/281 - 6s - loss: 0.0064 - val_loss: 0.1145 - 6s/epoch - 21ms/step\n",
            "Epoch 43/50\n",
            "281/281 - 6s - loss: 0.0062 - val_loss: 0.1204 - 6s/epoch - 21ms/step\n",
            "Epoch 44/50\n",
            "281/281 - 6s - loss: 0.0066 - val_loss: 0.0904 - 6s/epoch - 20ms/step\n",
            "Epoch 45/50\n",
            "281/281 - 6s - loss: 0.0056 - val_loss: 0.1205 - 6s/epoch - 20ms/step\n",
            "Epoch 46/50\n",
            "281/281 - 6s - loss: 0.0057 - val_loss: 0.1193 - 6s/epoch - 20ms/step\n",
            "Epoch 47/50\n",
            "281/281 - 6s - loss: 0.0065 - val_loss: 0.1065 - 6s/epoch - 21ms/step\n",
            "Epoch 48/50\n",
            "281/281 - 6s - loss: 0.0059 - val_loss: 0.1090 - 6s/epoch - 21ms/step\n",
            "Epoch 49/50\n",
            "281/281 - 6s - loss: 0.0061 - val_loss: 0.1053 - 6s/epoch - 21ms/step\n",
            "Epoch 50/50\n",
            "281/281 - 6s - loss: 0.0064 - val_loss: 0.0881 - 6s/epoch - 22ms/step\n"
          ]
        }
      ]
    },
    {
      "cell_type": "markdown",
      "source": [],
      "metadata": {
        "id": "TPyAzXPPHPkP"
      }
    },
    {
      "cell_type": "code",
      "source": [
        "from matplotlib import pyplot as plt\n",
        "plt.plot(history.history['loss'], label='train')\n",
        "plt.plot(history.history['val_loss'], label='test')\n",
        "plt.legend()\n",
        "plt.show()"
      ],
      "metadata": {
        "colab": {
          "base_uri": "https://localhost:8080/",
          "height": 265
        },
        "id": "Vq3Dat1CHIIt",
        "outputId": "8e7df979-d562-47e8-bac2-b2a9a955d524"
      },
      "execution_count": 32,
      "outputs": [
        {
          "output_type": "display_data",
          "data": {
            "text/plain": [
              "<Figure size 432x288 with 1 Axes>"
            ],
            "image/png": "[encoded data removed]"
          },
          "metadata": {
            "needs_background": "light"
          }
        }
      ]
    },
    {
      "cell_type": "markdown",
      "source": [
        "Let's see how we have to reshape some of the variables to make and evaluate predictions"
      ],
      "metadata": {
        "id": "EObRC_sbHf2j"
      }
    },
    {
      "cell_type": "code",
      "source": [
        "print(train_X.shape, train_y.shape, test_X.shape, test_y.shape)"
      ],
      "metadata": {
        "colab": {
          "base_uri": "https://localhost:8080/"
        },
        "id": "mfjkKaWYHc1K",
        "outputId": "798acc32-4df7-4aba-99ba-7a5941672793"
      },
      "execution_count": 33,
      "outputs": [
        {
          "output_type": "stream",
          "name": "stdout",
          "text": [
            "(1686, 60, 2) (1686,) (362, 60, 2) (362,)\n"
          ]
        }
      ]
    },
    {
      "cell_type": "markdown",
      "source": [
        "Making predictions with the model"
      ],
      "metadata": {
        "id": "_xpSr5iGHo0G"
      }
    },
    {
      "cell_type": "code",
      "source": [
        "import numpy as np\n",
        "yhat = model.predict(test_X)\n",
        "#reshaping test_X for predicting the actual prices\n",
        "test_X = test_X.reshape((test_X.shape[0], n_days * n_features, ))"
      ],
      "metadata": {
        "colab": {
          "base_uri": "https://localhost:8080/"
        },
        "id": "nNciOpl0Hls0",
        "outputId": "1df784fe-adf9-4b6b-d1ee-124c49da588e"
      },
      "execution_count": 34,
      "outputs": [
        {
          "output_type": "stream",
          "name": "stdout",
          "text": [
            "12/12 [==============================] - 1s 12ms/step\n"
          ]
        }
      ]
    },
    {
      "cell_type": "markdown",
      "source": [
        "Inverse scaling predictions of our model"
      ],
      "metadata": {
        "id": "dB3scMCiH2B_"
      }
    },
    {
      "cell_type": "code",
      "source": [
        "# -1 because we are considering all rows but only last value of them - as it is the actual predicted price, not the sentiment value for a given day\n",
        "inv_yhat = concatenate((yhat, test_X[:, -1:]), axis=1)\n",
        "inv_yhat = scaler.inverse_transform(inv_yhat)"
      ],
      "metadata": {
        "id": "Ln_aWWTBHspl"
      },
      "execution_count": 35,
      "outputs": []
    },
    {
      "cell_type": "markdown",
      "source": [
        "Inverse scaling actual data "
      ],
      "metadata": {
        "id": "SHSxGPEmH_TB"
      }
    },
    {
      "cell_type": "code",
      "source": [
        "test_y = test_y.reshape((len(test_y), 1))\n",
        "#again we are considering only the last variable as it is the actual price, not the sentiment (note that we had both sentiments and prices in the input data)\n",
        "inv_y = concatenate((test_y, test_X[:, -1:]), axis=1)\n",
        "inv_y = scaler.inverse_transform(inv_y)"
      ],
      "metadata": {
        "id": "tYO3-DQXH9ZI"
      },
      "execution_count": 36,
      "outputs": []
    },
    {
      "cell_type": "markdown",
      "source": [
        "MODEL EVALUATION"
      ],
      "metadata": {
        "id": "HQmv6o0tIoiv"
      }
    },
    {
      "cell_type": "code",
      "source": [
        "mse = (mean_squared_error(inv_y, inv_yhat))\n",
        "print('Model MSE: %.3f' % mse)\n",
        "rmse = sqrt(mean_squared_error(inv_y, inv_yhat))\n",
        "print('Model RMSE: %.3f' % rmse)"
      ],
      "metadata": {
        "colab": {
          "base_uri": "https://localhost:8080/"
        },
        "id": "5gyuyWI-IFof",
        "outputId": "b0586953-24ca-424e-be33-e6b55fa4bfc1"
      },
      "execution_count": 37,
      "outputs": [
        {
          "output_type": "stream",
          "name": "stdout",
          "text": [
            "Model MSE: 46274967.098\n",
            "Model RMSE: 6802.571\n"
          ]
        }
      ]
    },
    {
      "cell_type": "markdown",
      "source": [
        "Reshaping the actual data for visualization:\n",
        "Again we are considering only the actual prices, not the actual sentiments"
      ],
      "metadata": {
        "id": "dIRBIpSQI2JN"
      }
    },
    {
      "cell_type": "code",
      "source": [
        "inv_y1 = inv_y[:,0]"
      ],
      "metadata": {
        "id": "qi_wHbT-Iur_"
      },
      "execution_count": 38,
      "outputs": []
    },
    {
      "cell_type": "markdown",
      "source": [
        "Reshaping the predicted data for vis - only actual prices so that's why there's a 0"
      ],
      "metadata": {
        "id": "8T3oSguRJBA6"
      }
    },
    {
      "cell_type": "code",
      "source": [
        "inv_yhat1 = inv_yhat[:,0]"
      ],
      "metadata": {
        "id": "RZKmf3owI8oQ"
      },
      "execution_count": 39,
      "outputs": []
    },
    {
      "cell_type": "markdown",
      "source": [
        "Plotting the model"
      ],
      "metadata": {
        "id": "p-S0U2JPJKax"
      }
    },
    {
      "cell_type": "code",
      "source": [
        "plt.plot(inv_yhat1, label='Predicted')\n",
        "plt.plot(inv_y1, label='Actual')"
      ],
      "metadata": {
        "colab": {
          "base_uri": "https://localhost:8080/",
          "height": 282
        },
        "id": "GbDv2FfIJGJe",
        "outputId": "28119b74-d16b-40b9-e6bd-74a257dba80d"
      },
      "execution_count": 40,
      "outputs": [
        {
          "output_type": "execute_result",
          "data": {
            "text/plain": [
              "[<matplotlib.lines.Line2D at 0x7f535b208b50>]"
            ]
          },
          "metadata": {},
          "execution_count": 40
        },
        {
          "output_type": "display_data",
          "data": {
            "text/plain": [
              "<Figure size 432x288 with 1 Axes>"
            ],
            "image/png": "[encoded data removed]"
          },
          "metadata": {
            "needs_background": "light"
          }
        }
      ]
    },
    {
      "cell_type": "markdown",
      "source": [
        "Reshaping again as our pred and act are now in the shape of (x,) and we need them to be like (x,1)..."
      ],
      "metadata": {
        "id": "DJ78a6SGJQA1"
      }
    },
    {
      "cell_type": "code",
      "source": [
        "inv_yhat2=inv_yhat1.reshape(362,1)\n",
        "inv_y2=inv_y1.reshape(362,1)"
      ],
      "metadata": {
        "id": "IoNQua4-JI_b"
      },
      "execution_count": 41,
      "outputs": []
    },
    {
      "cell_type": "markdown",
      "source": [
        "...For the act and pred dataframe to be built"
      ],
      "metadata": {
        "id": "wnib4J3GJbUm"
      }
    },
    {
      "cell_type": "code",
      "source": [
        "import math\n",
        "array_conc_eval_pred = np.concatenate((inv_y2,inv_yhat2),axis=1)\n",
        "\n",
        "df_pred = pd.DataFrame(data = array_conc_eval_pred, columns=[\"actual\", \"predicted\"])\n",
        "\n",
        "df_pred"
      ],
      "metadata": {
        "colab": {
          "base_uri": "https://localhost:8080/",
          "height": 424
        },
        "id": "7cyOfvKIJecH",
        "outputId": "4c232696-8355-4098-a55e-26dacc79a467"
      },
      "execution_count": 42,
      "outputs": [
        {
          "output_type": "execute_result",
          "data": {
            "text/plain": [
              "           actual     predicted\n",
              "0    12407.332031  11547.978379\n",
              "1    11959.371094  11762.473706\n",
              "2    10817.155273  11426.278396\n",
              "3    10583.134766  10992.779392\n",
              "4    10801.677734  10881.552474\n",
              "..            ...           ...\n",
              "357  16353.365234  15852.128825\n",
              "358  16618.199219  15724.278772\n",
              "359  16884.613281  15805.332983\n",
              "360  16669.439453  15728.597845\n",
              "361  16291.832031  15260.851259\n",
              "\n",
              "[362 rows x 2 columns]"
            ],
            "text/html": [
              "\n",
              "  <div id=\"df-2735ac90-7386-423e-9c36-abe43bdc3f34\">\n",
              "    <div class=\"colab-df-container\">\n",
              "      <div>\n",
              "<style scoped>\n",
              "    .dataframe tbody tr th:only-of-type {\n",
              "        vertical-align: middle;\n",
              "    }\n",
              "\n",
              "    .dataframe tbody tr th {\n",
              "        vertical-align: top;\n",
              "    }\n",
              "\n",
              "    .dataframe thead th {\n",
              "        text-align: right;\n",
              "    }\n",
              "</style>\n",
              "<table border=\"1\" class=\"dataframe\">\n",
              "  <thead>\n",
              "    <tr style=\"text-align: right;\">\n",
              "      <th></th>\n",
              "      <th>actual</th>\n",
              "      <th>predicted</th>\n",
              "    </tr>\n",
              "  </thead>\n",
              "  <tbody>\n",
              "    <tr>\n",
              "      <th>0</th>\n",
              "      <td>12407.332031</td>\n",
              "      <td>11547.978379</td>\n",
              "    </tr>\n",
              "    <tr>\n",
              "      <th>1</th>\n",
              "      <td>11959.371094</td>\n",
              "      <td>11762.473706</td>\n",
              "    </tr>\n",
              "    <tr>\n",
              "      <th>2</th>\n",
              "      <td>10817.155273</td>\n",
              "      <td>11426.278396</td>\n",
              "    </tr>\n",
              "    <tr>\n",
              "      <th>3</th>\n",
              "      <td>10583.134766</td>\n",
              "      <td>10992.779392</td>\n",
              "    </tr>\n",
              "    <tr>\n",
              "      <th>4</th>\n",
              "      <td>10801.677734</td>\n",
              "      <td>10881.552474</td>\n",
              "    </tr>\n",
              "    <tr>\n",
              "      <th>...</th>\n",
              "      <td>...</td>\n",
              "      <td>...</td>\n",
              "    </tr>\n",
              "    <tr>\n",
              "      <th>357</th>\n",
              "      <td>16353.365234</td>\n",
              "      <td>15852.128825</td>\n",
              "    </tr>\n",
              "    <tr>\n",
              "      <th>358</th>\n",
              "      <td>16618.199219</td>\n",
              "      <td>15724.278772</td>\n",
              "    </tr>\n",
              "    <tr>\n",
              "      <th>359</th>\n",
              "      <td>16884.613281</td>\n",
              "      <td>15805.332983</td>\n",
              "    </tr>\n",
              "    <tr>\n",
              "      <th>360</th>\n",
              "      <td>16669.439453</td>\n",
              "      <td>15728.597845</td>\n",
              "    </tr>\n",
              "    <tr>\n",
              "      <th>361</th>\n",
              "      <td>16291.832031</td>\n",
              "      <td>15260.851259</td>\n",
              "    </tr>\n",
              "  </tbody>\n",
              "</table>\n",
              "<p>362 rows × 2 columns</p>\n",
              "</div>\n",
              "      <button class=\"colab-df-convert\" onclick=\"convertToInteractive('df-2735ac90-7386-423e-9c36-abe43bdc3f34')\"\n",
              "              title=\"Convert this dataframe to an interactive table.\"\n",
              "              style=\"display:none;\">\n",
              "        \n",
              "  <svg xmlns=\"http://www.w3.org/2000/svg\" height=\"24px\"viewBox=\"0 0 24 24\"\n",
              "       width=\"24px\">\n",
              "    <path d=\"M0 0h24v24H0V0z\" fill=\"none\"/>\n",
              "    <path d=\"M18.56 5.44l.94 2.06.94-2.06 2.06-.94-2.06-.94-.94-2.06-.94 2.06-2.06.94zm-11 1L8.5 8.5l.94-2.06 2.06-.94-2.06-.94L8.5 2.5l-.94 2.06-2.06.94zm10 10l.94 2.06.94-2.06 2.06-.94-2.06-.94-.94-2.06-.94 2.06-2.06.94z\"/><path d=\"M17.41 7.96l-1.37-1.37c-.4-.4-.92-.59-1.43-.59-.52 0-1.04.2-1.43.59L10.3 9.45l-7.72 7.72c-.78.78-.78 2.05 0 2.83L4 21.41c.39.39.9.59 1.41.59.51 0 1.02-.2 1.41-.59l7.78-7.78 2.81-2.81c.8-.78.8-2.07 0-2.86zM5.41 20L4 18.59l7.72-7.72 1.47 1.35L5.41 20z\"/>\n",
              "  </svg>\n",
              "      </button>\n",
              "      \n",
              "  <style>\n",
              "    .colab-df-container {\n",
              "      display:flex;\n",
              "      flex-wrap:wrap;\n",
              "      gap: 12px;\n",
              "    }\n",
              "\n",
              "    .colab-df-convert {\n",
              "      background-color: #E8F0FE;\n",
              "      border: none;\n",
              "      border-radius: 50%;\n",
              "      cursor: pointer;\n",
              "      display: none;\n",
              "      fill: #1967D2;\n",
              "      height: 32px;\n",
              "      padding: 0 0 0 0;\n",
              "      width: 32px;\n",
              "    }\n",
              "\n",
              "    .colab-df-convert:hover {\n",
              "      background-color: #E2EBFA;\n",
              "      box-shadow: 0px 1px 2px rgba(60, 64, 67, 0.3), 0px 1px 3px 1px rgba(60, 64, 67, 0.15);\n",
              "      fill: #174EA6;\n",
              "    }\n",
              "\n",
              "    [theme=dark] .colab-df-convert {\n",
              "      background-color: #3B4455;\n",
              "      fill: #D2E3FC;\n",
              "    }\n",
              "\n",
              "    [theme=dark] .colab-df-convert:hover {\n",
              "      background-color: #434B5C;\n",
              "      box-shadow: 0px 1px 3px 1px rgba(0, 0, 0, 0.15);\n",
              "      filter: drop-shadow(0px 1px 2px rgba(0, 0, 0, 0.3));\n",
              "      fill: #FFFFFF;\n",
              "    }\n",
              "  </style>\n",
              "\n",
              "      <script>\n",
              "        const buttonEl =\n",
              "          document.querySelector('#df-2735ac90-7386-423e-9c36-abe43bdc3f34 button.colab-df-convert');\n",
              "        buttonEl.style.display =\n",
              "          google.colab.kernel.accessAllowed ? 'block' : 'none';\n",
              "\n",
              "        async function convertToInteractive(key) {\n",
              "          const element = document.querySelector('#df-2735ac90-7386-423e-9c36-abe43bdc3f34');\n",
              "          const dataTable =\n",
              "            await google.colab.kernel.invokeFunction('convertToInteractive',\n",
              "                                                     [key], {});\n",
              "          if (!dataTable) return;\n",
              "\n",
              "          const docLinkHtml = 'Like what you see? Visit the ' +\n",
              "            '<a target=\"_blank\" href=https://colab.research.google.com/notebooks/data_table.ipynb>data table notebook</a>'\n",
              "            + ' to learn more about interactive tables.';\n",
              "          element.innerHTML = '';\n",
              "          dataTable['output_type'] = 'display_data';\n",
              "          await google.colab.output.renderOutput(dataTable, element);\n",
              "          const docLink = document.createElement('div');\n",
              "          docLink.innerHTML = docLinkHtml;\n",
              "          element.appendChild(docLink);\n",
              "        }\n",
              "      </script>\n",
              "    </div>\n",
              "  </div>\n",
              "  "
            ]
          },
          "metadata": {},
          "execution_count": 42
        }
      ]
    },
    {
      "cell_type": "markdown",
      "source": [
        "Creating the df as we did in previous part (3_model_I)"
      ],
      "metadata": {
        "id": "K29ZNaWqJle_"
      }
    },
    {
      "cell_type": "code",
      "source": [
        "ar_test = np.repeat(1, len(inv_y2))\n",
        "ar_pred = np.repeat(2, len(inv_yhat2))\n",
        "\n",
        "df_test = pd.DataFrame(data = np.concatenate((inv_y2,(np.reshape(ar_test, (-1, 1)))),axis=1), columns=[\"price\",\"act/pred\"])\n",
        "df_pred = pd.DataFrame(data = np.concatenate((inv_yhat2,(np.reshape(ar_pred, (-1, 1)))),axis=1), columns=[\"price\",\"act/pred\"])\n",
        "\n",
        "df_both = [df_test, df_pred]\n",
        "df_3 = pd.concat(df_both, ignore_index=False)\n",
        "\n",
        "df_3[\"act/pred\"].replace({1: \"act\", 2: \"pred\"}, inplace=True)\n",
        "df_3.head(10)"
      ],
      "metadata": {
        "colab": {
          "base_uri": "https://localhost:8080/",
          "height": 363
        },
        "id": "830dbCugJgYM",
        "outputId": "74f39772-7402-4cb6-80ef-04d7b54b2c3c"
      },
      "execution_count": 43,
      "outputs": [
        {
          "output_type": "execute_result",
          "data": {
            "text/plain": [
              "          price act/pred\n",
              "0  12407.332031      act\n",
              "1  11959.371094      act\n",
              "2  10817.155273      act\n",
              "3  10583.134766      act\n",
              "4  10801.677734      act\n",
              "5  11961.269531      act\n",
              "6  11215.437500      act\n",
              "7  10978.459961      act\n",
              "8  11208.550781      act\n",
              "9  11450.846680      act"
            ],
            "text/html": [
              "\n",
              "  <div id=\"df-6ebf7597-9a99-4c86-ba3c-4b8c4b6f6e10\">\n",
              "    <div class=\"colab-df-container\">\n",
              "      <div>\n",
              "<style scoped>\n",
              "    .dataframe tbody tr th:only-of-type {\n",
              "        vertical-align: middle;\n",
              "    }\n",
              "\n",
              "    .dataframe tbody tr th {\n",
              "        vertical-align: top;\n",
              "    }\n",
              "\n",
              "    .dataframe thead th {\n",
              "        text-align: right;\n",
              "    }\n",
              "</style>\n",
              "<table border=\"1\" class=\"dataframe\">\n",
              "  <thead>\n",
              "    <tr style=\"text-align: right;\">\n",
              "      <th></th>\n",
              "      <th>price</th>\n",
              "      <th>act/pred</th>\n",
              "    </tr>\n",
              "  </thead>\n",
              "  <tbody>\n",
              "    <tr>\n",
              "      <th>0</th>\n",
              "      <td>12407.332031</td>\n",
              "      <td>act</td>\n",
              "    </tr>\n",
              "    <tr>\n",
              "      <th>1</th>\n",
              "      <td>11959.371094</td>\n",
              "      <td>act</td>\n",
              "    </tr>\n",
              "    <tr>\n",
              "      <th>2</th>\n",
              "      <td>10817.155273</td>\n",
              "      <td>act</td>\n",
              "    </tr>\n",
              "    <tr>\n",
              "      <th>3</th>\n",
              "      <td>10583.134766</td>\n",
              "      <td>act</td>\n",
              "    </tr>\n",
              "    <tr>\n",
              "      <th>4</th>\n",
              "      <td>10801.677734</td>\n",
              "      <td>act</td>\n",
              "    </tr>\n",
              "    <tr>\n",
              "      <th>5</th>\n",
              "      <td>11961.269531</td>\n",
              "      <td>act</td>\n",
              "    </tr>\n",
              "    <tr>\n",
              "      <th>6</th>\n",
              "      <td>11215.437500</td>\n",
              "      <td>act</td>\n",
              "    </tr>\n",
              "    <tr>\n",
              "      <th>7</th>\n",
              "      <td>10978.459961</td>\n",
              "      <td>act</td>\n",
              "    </tr>\n",
              "    <tr>\n",
              "      <th>8</th>\n",
              "      <td>11208.550781</td>\n",
              "      <td>act</td>\n",
              "    </tr>\n",
              "    <tr>\n",
              "      <th>9</th>\n",
              "      <td>11450.846680</td>\n",
              "      <td>act</td>\n",
              "    </tr>\n",
              "  </tbody>\n",
              "</table>\n",
              "</div>\n",
              "      <button class=\"colab-df-convert\" onclick=\"convertToInteractive('df-6ebf7597-9a99-4c86-ba3c-4b8c4b6f6e10')\"\n",
              "              title=\"Convert this dataframe to an interactive table.\"\n",
              "              style=\"display:none;\">\n",
              "        \n",
              "  <svg xmlns=\"http://www.w3.org/2000/svg\" height=\"24px\"viewBox=\"0 0 24 24\"\n",
              "       width=\"24px\">\n",
              "    <path d=\"M0 0h24v24H0V0z\" fill=\"none\"/>\n",
              "    <path d=\"M18.56 5.44l.94 2.06.94-2.06 2.06-.94-2.06-.94-.94-2.06-.94 2.06-2.06.94zm-11 1L8.5 8.5l.94-2.06 2.06-.94-2.06-.94L8.5 2.5l-.94 2.06-2.06.94zm10 10l.94 2.06.94-2.06 2.06-.94-2.06-.94-.94-2.06-.94 2.06-2.06.94z\"/><path d=\"M17.41 7.96l-1.37-1.37c-.4-.4-.92-.59-1.43-.59-.52 0-1.04.2-1.43.59L10.3 9.45l-7.72 7.72c-.78.78-.78 2.05 0 2.83L4 21.41c.39.39.9.59 1.41.59.51 0 1.02-.2 1.41-.59l7.78-7.78 2.81-2.81c.8-.78.8-2.07 0-2.86zM5.41 20L4 18.59l7.72-7.72 1.47 1.35L5.41 20z\"/>\n",
              "  </svg>\n",
              "      </button>\n",
              "      \n",
              "  <style>\n",
              "    .colab-df-container {\n",
              "      display:flex;\n",
              "      flex-wrap:wrap;\n",
              "      gap: 12px;\n",
              "    }\n",
              "\n",
              "    .colab-df-convert {\n",
              "      background-color: #E8F0FE;\n",
              "      border: none;\n",
              "      border-radius: 50%;\n",
              "      cursor: pointer;\n",
              "      display: none;\n",
              "      fill: #1967D2;\n",
              "      height: 32px;\n",
              "      padding: 0 0 0 0;\n",
              "      width: 32px;\n",
              "    }\n",
              "\n",
              "    .colab-df-convert:hover {\n",
              "      background-color: #E2EBFA;\n",
              "      box-shadow: 0px 1px 2px rgba(60, 64, 67, 0.3), 0px 1px 3px 1px rgba(60, 64, 67, 0.15);\n",
              "      fill: #174EA6;\n",
              "    }\n",
              "\n",
              "    [theme=dark] .colab-df-convert {\n",
              "      background-color: #3B4455;\n",
              "      fill: #D2E3FC;\n",
              "    }\n",
              "\n",
              "    [theme=dark] .colab-df-convert:hover {\n",
              "      background-color: #434B5C;\n",
              "      box-shadow: 0px 1px 3px 1px rgba(0, 0, 0, 0.15);\n",
              "      filter: drop-shadow(0px 1px 2px rgba(0, 0, 0, 0.3));\n",
              "      fill: #FFFFFF;\n",
              "    }\n",
              "  </style>\n",
              "\n",
              "      <script>\n",
              "        const buttonEl =\n",
              "          document.querySelector('#df-6ebf7597-9a99-4c86-ba3c-4b8c4b6f6e10 button.colab-df-convert');\n",
              "        buttonEl.style.display =\n",
              "          google.colab.kernel.accessAllowed ? 'block' : 'none';\n",
              "\n",
              "        async function convertToInteractive(key) {\n",
              "          const element = document.querySelector('#df-6ebf7597-9a99-4c86-ba3c-4b8c4b6f6e10');\n",
              "          const dataTable =\n",
              "            await google.colab.kernel.invokeFunction('convertToInteractive',\n",
              "                                                     [key], {});\n",
              "          if (!dataTable) return;\n",
              "\n",
              "          const docLinkHtml = 'Like what you see? Visit the ' +\n",
              "            '<a target=\"_blank\" href=https://colab.research.google.com/notebooks/data_table.ipynb>data table notebook</a>'\n",
              "            + ' to learn more about interactive tables.';\n",
              "          element.innerHTML = '';\n",
              "          dataTable['output_type'] = 'display_data';\n",
              "          await google.colab.output.renderOutput(dataTable, element);\n",
              "          const docLink = document.createElement('div');\n",
              "          docLink.innerHTML = docLinkHtml;\n",
              "          element.appendChild(docLink);\n",
              "        }\n",
              "      </script>\n",
              "    </div>\n",
              "  </div>\n",
              "  "
            ]
          },
          "metadata": {},
          "execution_count": 43
        }
      ]
    },
    {
      "cell_type": "markdown",
      "source": [
        "Plotting the model - plotly express doesn't work in github preview so please import the file to google colab for this to work"
      ],
      "metadata": {
        "id": "U0vyitGcJvhw"
      }
    },
    {
      "cell_type": "code",
      "source": [
        "import plotly.express as px\n",
        "fig = px.line(df_3, x=df_3.index.values, y=\"price\", color='act/pred', title='BTC Price')\n",
        "fig.show()"
      ],
      "metadata": {
        "colab": {
          "base_uri": "https://localhost:8080/",
          "height": 542
        },
        "id": "ZJ5V0A1dJtPU",
        "outputId": "6dc86d04-f655-4383-d18c-a30473c681ce"
      },
      "execution_count": 44,
      "outputs": [
        {
          "output_type": "display_data",
          "data": {
            "text/html": [
              "<html>\n",
              "<head><meta charset=\"utf-8\" /></head>\n",
              "<body>\n",
              "    <div>            <script src=\"https://cdnjs.cloudflare.com/ajax/libs/mathjax/2.7.5/MathJax.js?config=TeX-AMS-MML_SVG\"></script><script type=\"text/javascript\">if (window.MathJax) {MathJax.Hub.Config({SVG: {font: \"STIX-Web\"}});}</script>                <script type=\"text/javascript\">window.PlotlyConfig = {MathJaxConfig: 'local'};</script>\n",
              "        <script src=\"https://cdn.plot.ly/plotly-2.8.3.min.js\"></script>                <div id=\"1e83b56a-0db7-43de-ad6f-d7e45aa94bb7\" class=\"plotly-graph-div\" style=\"height:525px; width:100%;\"></div>            <script type=\"text/javascript\">                                    window.PLOTLYENV=window.PLOTLYENV || {};                                    if (document.getElementById(\"1e83b56a-0db7-43de-ad6f-d7e45aa94bb7\")) {                    Plotly.newPlot(                        \"1e83b56a-0db7-43de-ad6f-d7e45aa94bb7\",                        [{\"hovertemplate\":\"act/pred=act<br>x=%{x}<br>price=%{y}<extra></extra>\",\"legendgroup\":\"act\",\"line\":{\"color\":\"#636efa\",\"dash\":\"solid\"},\"marker\":{\"symbol\":\"circle\"},\"mode\":\"lines\",\"name\":\"act\",\"orientation\":\"v\",\"showlegend\":true,\"x\":[0,1,2,3,4,5,6,7,8,9,10,11,12,13,14,15,16,17,18,19,20,21,22,23,24,25,26,27,28,29,30,31,32,33,34,35,36,37,38,39,40,41,42,43,44,45,46,47,48,49,50,51,52,53,54,55,56,57,58,59,60,61,62,63,64,65,66,67,68,69,70,71,72,73,74,75,76,77,78,79,80,81,82,83,84,85,86,87,88,89,90,91,92,93,94,95,96,97,98,99,100,101,102,103,104,105,106,107,108,109,110,111,112,113,114,115,116,117,118,119,120,121,122,123,124,125,126,127,128,129,130,131,132,133,134,135,136,137,138,139,140,141,142,143,144,145,146,147,148,149,150,151,152,153,154,155,156,157,158,159,160,161,162,163,164,165,166,167,168,169,170,171,172,173,174,175,176,177,178,179,180,181,182,183,184,185,186,187,188,189,190,191,192,193,194,195,196,197,198,199,200,201,202,203,204,205,206,207,208,209,210,211,212,213,214,215,216,217,218,219,220,221,222,223,224,225,226,227,228,229,230,231,232,233,234,235,236,237,238,239,240,241,242,243,244,245,246,247,248,249,250,251,252,253,254,255,256,257,258,259,260,261,262,263,264,265,266,267,268,269,270,271,272,273,274,275,276,277,278,279,280,281,282,283,284,285,286,287,288,289,290,291,292,293,294,295,296,297,298,299,300,301,302,303,304,305,306,307,308,309,310,311,312,313,314,315,316,317,318,319,320,321,322,323,324,325,326,327,328,329,330,331,332,333,334,335,336,337,338,339,340,341,342,343,344,345,346,347,348,349,350,351,352,353,354,355,356,357,358,359,360,361],\"xaxis\":\"x\",\"y\":[12407.332031,11959.371094,10817.155273,10583.134766,10801.677734,11961.269531,11215.4375,10978.459961,11208.550781,11450.84668,12285.958008,12573.8125,12156.512695,11358.662109,11815.986328,11392.378906,10256.058594,10895.089844,9477.641602,9693.802734,10666.482422,10530.732422,10767.139648,10599.105469,10343.106445000001,9900.767578,9811.925781,9911.841797,9870.303711,9477.677734,9552.860352,9519.145508,9607.423828,10085.62793,10399.668945,10518.174805,10821.726563,10970.18457,11805.65332,11478.168945,11941.96875,11966.407227,11862.936523,11354.024414,11523.579102,11382.616211,10895.830078,10051.704102,10311.545898,10374.338867,10231.744141,10345.810547,10916.053711,10763.232422,10138.049805,10131.055664,10407.964844,10159.960938,10138.517578,10370.820313,10185.5,9754.422852,9510.200195,9598.173828,9630.664063,9757.970703,10346.760742,10623.540039,10594.493164,10575.533203,10353.302734,10517.254883,10441.276367,10334.974609,10115.975586,10178.37207,10410.126953,10360.546875,10358.048828,10347.712891,10276.793945,10241.272461,10198.248047,10266.415039,10181.641602,10019.716797,10070.392578,9729.324219,8620.566406,8486.993164,8118.967773,8251.845703,8245.915039,8104.185547,8293.868164,8343.276367,8393.041992,8259.992188,8205.939453,8151.500488,7988.155762,8245.623047,8228.783203,8595.740234,8586.473633,8321.756836,8336.555664,8321.005859,8374.686523,8205.369141,8047.526855,8103.911133,7973.20752,7988.560547,8222.078125,8243.720703,8078.203125,7514.671875,7493.48877,8660.700195,9244.972656,9551.714844,9256.148438,9427.6875,9205.726563,9199.584961,9261.104492,9324.717773,9235.354492,9412.612305,9342.527344,9360.879883,9267.561523,8804.880859,8813.582031,9055.526367,8757.788086,8815.662109,8808.262695,8708.094727,8491.992188,8550.760742,8577.975586,8309.286133,8206.145508,8027.268066,7642.75,7296.577637,7397.796875,38144.308594,39266.011719,38903.441406,46196.464844,46481.105469,44918.183594,47105.515625,48717.289063,47945.058594,51679.796875,55888.132813,54207.320313,45137.769531,57805.121094,57332.089844,59057.878906,58192.359375,56048.9375,58323.953125,58245.003906,59793.234375,60204.964844,59893.453125,60683.820313,56216.183594,55724.265625,56473.03125,53906.089844,51762.273438,51093.652344,50050.867188,38402.222656,39294.199219,38436.96875,35697.605469,34616.066406,35698.296875,31676.693359,32505.660156,33723.027344,33897.046875,34668.546875,35287.78125,33746.003906,31421.539063,31533.068359,31796.810547,30817.832031,29807.347656,32110.693359,32313.105469,33581.550781,34292.445313,35350.1875,37337.535156,39406.941406,39995.90625,40008.421875,42235.546875,39747.503906,40869.554688,42816.5,44555.800781,43798.117188,46365.402344,47096.945313,47047.003906,46004.484375,44695.359375,44801.1875,46717.578125,49339.175781,48905.492188,49546.148438,47706.117188,48960.789063,46942.21875,44883.910156,62026.078125,64261.992188,65992.835938,62210.171875,60692.265625,61393.617188,58482.386719,60622.136719,62227.964844,61452.230469,61125.675781,61527.480469,64949.960938,64155.941406,56942.136719,58119.578125,56280.425781,57274.679688,53569.765625,49362.507813,46202.144531,46444.710938,47178.125,42735.855469,43949.101563,42591.570313,43099.699219,41744.328125,40680.417969,36457.316406,35030.25,44338.796875,42586.917969,44575.203125,43961.859375,40538.011719,40030.976563,43924.117188,38419.984375,38062.039063,38737.269531,41982.925781,39437.460938,39666.753906,39338.785156,41143.929688,40951.378906,41801.15625,42190.652344,41247.824219,41077.996094,42358.808594,42892.957031,43960.933594,41166.730469,39935.515625,40553.464844,40424.484375,39716.953125,40826.214844,41502.75,41374.378906,40527.363281,39740.320313,39241.121094,39773.828125,38609.824219,37714.875,38469.09375,38529.328125,31022.90625,28936.355469,29047.751953,29283.103516,30323.722656,29098.910156,29655.585938,29562.361328,29267.224609,28627.574219,28814.900391,29445.957031,31726.390625,31792.310547,29799.080078,30467.488281,29704.390625,29832.914063,22206.792969,22572.839844,20471.482422,19017.642578,20553.271484,21085.876953,21231.65625,21502.337891,21027.294922,20280.634766,20104.023438,19242.255859,19297.076172,19970.556641,19323.914063,20212.074219,20569.919922,20836.328125,21190.316406,20779.34375,19796.808594,20049.763672,20127.140625,19969.771484,19832.087891,19986.712891,21769.255859,22370.449219,20296.707031,20241.089844,19446.425781,19141.484375,19051.417969,19157.445313,19382.904297,19185.65625,19067.634766,20602.816406,18541.271484,15880.780273,17586.771484,17034.292969,16353.365234,16618.199219,16884.613281,16669.439453,16291.832031],\"yaxis\":\"y\",\"type\":\"scatter\"},{\"hovertemplate\":\"act/pred=pred<br>x=%{x}<br>price=%{y}<extra></extra>\",\"legendgroup\":\"pred\",\"line\":{\"color\":\"#EF553B\",\"dash\":\"solid\"},\"marker\":{\"symbol\":\"circle\"},\"mode\":\"lines\",\"name\":\"pred\",\"orientation\":\"v\",\"showlegend\":true,\"x\":[0,1,2,3,4,5,6,7,8,9,10,11,12,13,14,15,16,17,18,19,20,21,22,23,24,25,26,27,28,29,30,31,32,33,34,35,36,37,38,39,40,41,42,43,44,45,46,47,48,49,50,51,52,53,54,55,56,57,58,59,60,61,62,63,64,65,66,67,68,69,70,71,72,73,74,75,76,77,78,79,80,81,82,83,84,85,86,87,88,89,90,91,92,93,94,95,96,97,98,99,100,101,102,103,104,105,106,107,108,109,110,111,112,113,114,115,116,117,118,119,120,121,122,123,124,125,126,127,128,129,130,131,132,133,134,135,136,137,138,139,140,141,142,143,144,145,146,147,148,149,150,151,152,153,154,155,156,157,158,159,160,161,162,163,164,165,166,167,168,169,170,171,172,173,174,175,176,177,178,179,180,181,182,183,184,185,186,187,188,189,190,191,192,193,194,195,196,197,198,199,200,201,202,203,204,205,206,207,208,209,210,211,212,213,214,215,216,217,218,219,220,221,222,223,224,225,226,227,228,229,230,231,232,233,234,235,236,237,238,239,240,241,242,243,244,245,246,247,248,249,250,251,252,253,254,255,256,257,258,259,260,261,262,263,264,265,266,267,268,269,270,271,272,273,274,275,276,277,278,279,280,281,282,283,284,285,286,287,288,289,290,291,292,293,294,295,296,297,298,299,300,301,302,303,304,305,306,307,308,309,310,311,312,313,314,315,316,317,318,319,320,321,322,323,324,325,326,327,328,329,330,331,332,333,334,335,336,337,338,339,340,341,342,343,344,345,346,347,348,349,350,351,352,353,354,355,356,357,358,359,360,361],\"xaxis\":\"x\",\"y\":[11547.97837928093,11762.473705646831,11426.278395582092,10992.779391653496,10881.5524735258,11353.131696862762,11597.885052263824,11542.643284542937,11465.190262111379,11496.756566216482,11878.044214692645,12335.620775774265,12389.708240828495,11858.308287025851,11670.42468781352,11594.22894322279,11066.544922133795,10836.816135002224,10276.881270078879,9870.989419987502,10069.798194821386,10339.78144861024,10556.700124074961,10572.430807824483,10360.421596377848,9919.546627830789,9596.728283248809,9541.0098875789,9520.554114408857,9422.160845130678,9383.047931832773,9312.427557386432,9263.77031651681,9429.226903510686,9728.611040599222,9989.302991530038,10242.535616987108,10421.1279133414,10835.776576101072,11066.10654210661,11321.619332134605,11521.914872340327,11575.392332077086,11389.827145357514,11296.345301529313,11280.108568352436,11019.634336361298,10451.75567228763,10184.010412284088,10188.127457819031,10242.290438000988,10258.921418987544,10471.420007690478,10581.767223615969,10300.502794317716,10014.940867750734,9997.207562042577,9997.862680293492,9961.564421756255,9998.623715866412,9979.774355413432,9760.48038593117,9479.101212867412,9355.073009516369,9332.699936674859,9385.801782204882,9639.192302929016,9798.8067650416,10049.426763222566,10187.598851924955,10094.076798743028,10014.028801922364,9998.806129032086,9967.756662229727,9841.896481494388,9773.143390206345,9858.881500936905,9966.328739814559,10020.307345398951,10020.428954176066,9963.401302720273,9826.656155717108,9838.693463219704,9914.8597863321,9931.843825058671,9832.522798497012,9773.302266189352,9620.399824000815,9066.233530262924,8608.992374034317,8268.369621838205,8126.118245164735,8128.137048936454,8080.838590007914,8067.699938499663,8097.693174229814,8138.357580151894,8120.817965842772,8081.594722001111,8032.461833898414,7950.051782725461,7989.0769219463355,8049.22374046356,8218.621334480344,8360.776600991254,8346.60525559346,8306.102177444249,8268.29459706845,8276.221724047715,8254.546920958675,8179.748696588836,8156.314489095394,8116.086011410637,8115.457862848195,8186.690694401865,8250.911406952475,8252.645803100295,8037.061882036015,7864.849633258563,8132.66354337822,8615.757352619366,9111.599488422858,9259.609138764365,9277.29144724341,9183.944942215545,9126.829026324749,9126.30042043067,9179.797494486322,9201.94696409249,9292.407222095739,9364.646758566421,9385.132933930745,9351.439456942056,9143.631632601591,8994.585365506764,9008.458573257434,8979.347001161374,8960.579040131786,8952.688199642469,8904.078033138181,8781.916132229491,8700.674604104392,8661.681338151713,8560.407706144586,8463.997444506153,8367.87159049162,8157.2324392194305,7872.5806170489295,7741.911005321842,19840.990863112143,34440.567839494935,33882.018726201146,32069.900839781058,31151.13672151023,30901.371907632853,32388.65117462532,33995.12273464658,33720.36535563998,34034.09246341659,35294.98718464818,34985.65760716663,31905.105255333765,34453.56821005501,36551.16662361869,36558.765210756545,35561.184874891325,34554.66433247619,35111.95028363349,35603.39488914191,36014.962142404016,36032.02267697426,35741.55030567324,35799.86367573225,34703.09372924193,34315.106810149,34770.02563102107,34456.647658120695,33717.89787432366,33419.68569278878,33308.31951299697,30229.25000367216,29121.29008825528,29757.476598578192,29951.042465972863,29561.143150788186,29722.021755753212,28859.395779576527,28446.989033465947,29071.703128670288,29694.177268657426,29929.31764637066,29889.267168629824,29204.57248626085,28096.53803643219,27864.54967976453,28444.672582405074,28545.129278030447,27927.325307370942,28235.89581071146,28858.801465714172,29358.786145667164,29523.930864990692,29667.84896841181,30253.81889951337,31197.257830947416,31542.752289597753,31227.338350396625,31577.710890154824,31067.250202482854,31008.90348808173,31910.102983786855,32840.52585320571,32526.233853045072,32722.62222092797,33062.15196520396,32958.160769314665,32383.818206450902,31764.131261177987,31765.113938554357,32625.229281913165,33783.48031096318,33672.38873163582,33303.094258444755,32573.447480044415,32779.774423308714,32545.134210727167,31767.440196774674,36493.59859767748,38850.109943448675,37730.3088637181,35638.014161982195,34877.31203248383,35417.83950958178,35201.87801287888,35648.31560226305,36228.28747464815,35986.72929179421,35626.22203346572,35650.335877108686,36616.71375448421,36608.70718951344,34491.15316791141,34306.53535279421,34407.066582831365,34943.596661739604,34157.25861745243,32646.5225864998,31510.898635720914,31705.001935453165,32652.224469001027,31815.558043874833,31465.620941995985,31242.54729326368,31435.155981896536,31274.979569547762,30858.377320626678,29567.42365569666,28742.26299003115,31711.931674316886,33274.025837850255,32968.06011605829,31986.02805077691,30525.043739687942,30095.80790797002,31807.990839647195,31257.897459226744,30136.14279333475,30112.32316447513,31600.86167074031,31566.96616626706,30903.388259614712,30528.305600919295,31145.799665340346,31561.57026714051,31693.090159591462,31662.242720273665,31218.100006199587,30926.444891469528,31381.96391049962,31943.321794258412,32329.00010801803,31383.111348154667,30411.43760467893,30562.726769138793,31077.74778595261,31039.370409613068,31158.964796179098,31445.920320103192,31415.059150762172,30969.80626623894,30539.201355062512,30403.527149870722,30752.86013072777,30707.04892752904,30267.08994767413,30299.871358834444,30536.24351577395,28391.172566201592,26499.861867264433,26473.34330812559,27571.760857402645,28654.89689083275,28289.280102433495,27586.24995476645,27286.25287021261,27302.356226021035,27231.860402499646,27251.113817921752,27553.217480324343,28511.36322806187,28961.586380991746,28010.999991754306,27465.767039554717,27431.00262075465,27707.370335342097,25125.310013794722,23055.92875938574,22281.459339458714,21879.76985718945,22391.49959129358,23232.934257341858,23403.690633299724,23110.533061742713,22532.734455890593,21719.012861001545,21198.066358451153,20695.221910804048,20461.774248810994,20657.886054797546,20497.233014499754,20555.426737213536,20920.449211750434,21222.39007530624,21381.70541905576,21096.07190022483,20216.752177241142,19746.50084329301,19857.70618566993,19982.027623088372,19828.418084703862,19623.54063960551,20494.428166898528,21642.29537552835,20833.62642918528,19565.427335599175,18740.060719585323,18437.572616532496,18429.587627312507,18543.201608049076,18722.59024575029,18666.25007617158,18385.68882020552,19072.866675345926,18550.79038802749,16284.869735480164,15687.205747456579,15977.154416443236,15852.128824976655,15724.278771589958,15805.332982969661,15728.597844609465,15260.851259183548],\"yaxis\":\"y\",\"type\":\"scatter\"}],                        {\"template\":{\"data\":{\"bar\":[{\"error_x\":{\"color\":\"#2a3f5f\"},\"error_y\":{\"color\":\"#2a3f5f\"},\"marker\":{\"line\":{\"color\":\"#E5ECF6\",\"width\":0.5},\"pattern\":{\"fillmode\":\"overlay\",\"size\":10,\"solidity\":0.2}},\"type\":\"bar\"}],\"barpolar\":[{\"marker\":{\"line\":{\"color\":\"#E5ECF6\",\"width\":0.5},\"pattern\":{\"fillmode\":\"overlay\",\"size\":10,\"solidity\":0.2}},\"type\":\"barpolar\"}],\"carpet\":[{\"aaxis\":{\"endlinecolor\":\"#2a3f5f\",\"gridcolor\":\"white\",\"linecolor\":\"white\",\"minorgridcolor\":\"white\",\"startlinecolor\":\"#2a3f5f\"},\"baxis\":{\"endlinecolor\":\"#2a3f5f\",\"gridcolor\":\"white\",\"linecolor\":\"white\",\"minorgridcolor\":\"white\",\"startlinecolor\":\"#2a3f5f\"},\"type\":\"carpet\"}],\"choropleth\":[{\"colorbar\":{\"outlinewidth\":0,\"ticks\":\"\"},\"type\":\"choropleth\"}],\"contour\":[{\"colorbar\":{\"outlinewidth\":0,\"ticks\":\"\"},\"colorscale\":[[0.0,\"#0d0887\"],[0.1111111111111111,\"#46039f\"],[0.2222222222222222,\"#7201a8\"],[0.3333333333333333,\"#9c179e\"],[0.4444444444444444,\"#bd3786\"],[0.5555555555555556,\"#d8576b\"],[0.6666666666666666,\"#ed7953\"],[0.7777777777777778,\"#fb9f3a\"],[0.8888888888888888,\"#fdca26\"],[1.0,\"#f0f921\"]],\"type\":\"contour\"}],\"contourcarpet\":[{\"colorbar\":{\"outlinewidth\":0,\"ticks\":\"\"},\"type\":\"contourcarpet\"}],\"heatmap\":[{\"colorbar\":{\"outlinewidth\":0,\"ticks\":\"\"},\"colorscale\":[[0.0,\"#0d0887\"],[0.1111111111111111,\"#46039f\"],[0.2222222222222222,\"#7201a8\"],[0.3333333333333333,\"#9c179e\"],[0.4444444444444444,\"#bd3786\"],[0.5555555555555556,\"#d8576b\"],[0.6666666666666666,\"#ed7953\"],[0.7777777777777778,\"#fb9f3a\"],[0.8888888888888888,\"#fdca26\"],[1.0,\"#f0f921\"]],\"type\":\"heatmap\"}],\"heatmapgl\":[{\"colorbar\":{\"outlinewidth\":0,\"ticks\":\"\"},\"colorscale\":[[0.0,\"#0d0887\"],[0.1111111111111111,\"#46039f\"],[0.2222222222222222,\"#7201a8\"],[0.3333333333333333,\"#9c179e\"],[0.4444444444444444,\"#bd3786\"],[0.5555555555555556,\"#d8576b\"],[0.6666666666666666,\"#ed7953\"],[0.7777777777777778,\"#fb9f3a\"],[0.8888888888888888,\"#fdca26\"],[1.0,\"#f0f921\"]],\"type\":\"heatmapgl\"}],\"histogram\":[{\"marker\":{\"pattern\":{\"fillmode\":\"overlay\",\"size\":10,\"solidity\":0.2}},\"type\":\"histogram\"}],\"histogram2d\":[{\"colorbar\":{\"outlinewidth\":0,\"ticks\":\"\"},\"colorscale\":[[0.0,\"#0d0887\"],[0.1111111111111111,\"#46039f\"],[0.2222222222222222,\"#7201a8\"],[0.3333333333333333,\"#9c179e\"],[0.4444444444444444,\"#bd3786\"],[0.5555555555555556,\"#d8576b\"],[0.6666666666666666,\"#ed7953\"],[0.7777777777777778,\"#fb9f3a\"],[0.8888888888888888,\"#fdca26\"],[1.0,\"#f0f921\"]],\"type\":\"histogram2d\"}],\"histogram2dcontour\":[{\"colorbar\":{\"outlinewidth\":0,\"ticks\":\"\"},\"colorscale\":[[0.0,\"#0d0887\"],[0.1111111111111111,\"#46039f\"],[0.2222222222222222,\"#7201a8\"],[0.3333333333333333,\"#9c179e\"],[0.4444444444444444,\"#bd3786\"],[0.5555555555555556,\"#d8576b\"],[0.6666666666666666,\"#ed7953\"],[0.7777777777777778,\"#fb9f3a\"],[0.8888888888888888,\"#fdca26\"],[1.0,\"#f0f921\"]],\"type\":\"histogram2dcontour\"}],\"mesh3d\":[{\"colorbar\":{\"outlinewidth\":0,\"ticks\":\"\"},\"type\":\"mesh3d\"}],\"parcoords\":[{\"line\":{\"colorbar\":{\"outlinewidth\":0,\"ticks\":\"\"}},\"type\":\"parcoords\"}],\"pie\":[{\"automargin\":true,\"type\":\"pie\"}],\"scatter\":[{\"marker\":{\"colorbar\":{\"outlinewidth\":0,\"ticks\":\"\"}},\"type\":\"scatter\"}],\"scatter3d\":[{\"line\":{\"colorbar\":{\"outlinewidth\":0,\"ticks\":\"\"}},\"marker\":{\"colorbar\":{\"outlinewidth\":0,\"ticks\":\"\"}},\"type\":\"scatter3d\"}],\"scattercarpet\":[{\"marker\":{\"colorbar\":{\"outlinewidth\":0,\"ticks\":\"\"}},\"type\":\"scattercarpet\"}],\"scattergeo\":[{\"marker\":{\"colorbar\":{\"outlinewidth\":0,\"ticks\":\"\"}},\"type\":\"scattergeo\"}],\"scattergl\":[{\"marker\":{\"colorbar\":{\"outlinewidth\":0,\"ticks\":\"\"}},\"type\":\"scattergl\"}],\"scattermapbox\":[{\"marker\":{\"colorbar\":{\"outlinewidth\":0,\"ticks\":\"\"}},\"type\":\"scattermapbox\"}],\"scatterpolar\":[{\"marker\":{\"colorbar\":{\"outlinewidth\":0,\"ticks\":\"\"}},\"type\":\"scatterpolar\"}],\"scatterpolargl\":[{\"marker\":{\"colorbar\":{\"outlinewidth\":0,\"ticks\":\"\"}},\"type\":\"scatterpolargl\"}],\"scatterternary\":[{\"marker\":{\"colorbar\":{\"outlinewidth\":0,\"ticks\":\"\"}},\"type\":\"scatterternary\"}],\"surface\":[{\"colorbar\":{\"outlinewidth\":0,\"ticks\":\"\"},\"colorscale\":[[0.0,\"#0d0887\"],[0.1111111111111111,\"#46039f\"],[0.2222222222222222,\"#7201a8\"],[0.3333333333333333,\"#9c179e\"],[0.4444444444444444,\"#bd3786\"],[0.5555555555555556,\"#d8576b\"],[0.6666666666666666,\"#ed7953\"],[0.7777777777777778,\"#fb9f3a\"],[0.8888888888888888,\"#fdca26\"],[1.0,\"#f0f921\"]],\"type\":\"surface\"}],\"table\":[{\"cells\":{\"fill\":{\"color\":\"#EBF0F8\"},\"line\":{\"color\":\"white\"}},\"header\":{\"fill\":{\"color\":\"#C8D4E3\"},\"line\":{\"color\":\"white\"}},\"type\":\"table\"}]},\"layout\":{\"annotationdefaults\":{\"arrowcolor\":\"#2a3f5f\",\"arrowhead\":0,\"arrowwidth\":1},\"autotypenumbers\":\"strict\",\"coloraxis\":{\"colorbar\":{\"outlinewidth\":0,\"ticks\":\"\"}},\"colorscale\":{\"diverging\":[[0,\"#8e0152\"],[0.1,\"#c51b7d\"],[0.2,\"#de77ae\"],[0.3,\"#f1b6da\"],[0.4,\"#fde0ef\"],[0.5,\"#f7f7f7\"],[0.6,\"#e6f5d0\"],[0.7,\"#b8e186\"],[0.8,\"#7fbc41\"],[0.9,\"#4d9221\"],[1,\"#276419\"]],\"sequential\":[[0.0,\"#0d0887\"],[0.1111111111111111,\"#46039f\"],[0.2222222222222222,\"#7201a8\"],[0.3333333333333333,\"#9c179e\"],[0.4444444444444444,\"#bd3786\"],[0.5555555555555556,\"#d8576b\"],[0.6666666666666666,\"#ed7953\"],[0.7777777777777778,\"#fb9f3a\"],[0.8888888888888888,\"#fdca26\"],[1.0,\"#f0f921\"]],\"sequentialminus\":[[0.0,\"#0d0887\"],[0.1111111111111111,\"#46039f\"],[0.2222222222222222,\"#7201a8\"],[0.3333333333333333,\"#9c179e\"],[0.4444444444444444,\"#bd3786\"],[0.5555555555555556,\"#d8576b\"],[0.6666666666666666,\"#ed7953\"],[0.7777777777777778,\"#fb9f3a\"],[0.8888888888888888,\"#fdca26\"],[1.0,\"#f0f921\"]]},\"colorway\":[\"#636efa\",\"#EF553B\",\"#00cc96\",\"#ab63fa\",\"#FFA15A\",\"#19d3f3\",\"#FF6692\",\"#B6E880\",\"#FF97FF\",\"#FECB52\"],\"font\":{\"color\":\"#2a3f5f\"},\"geo\":{\"bgcolor\":\"white\",\"lakecolor\":\"white\",\"landcolor\":\"#E5ECF6\",\"showlakes\":true,\"showland\":true,\"subunitcolor\":\"white\"},\"hoverlabel\":{\"align\":\"left\"},\"hovermode\":\"closest\",\"mapbox\":{\"style\":\"light\"},\"paper_bgcolor\":\"white\",\"plot_bgcolor\":\"#E5ECF6\",\"polar\":{\"angularaxis\":{\"gridcolor\":\"white\",\"linecolor\":\"white\",\"ticks\":\"\"},\"bgcolor\":\"#E5ECF6\",\"radialaxis\":{\"gridcolor\":\"white\",\"linecolor\":\"white\",\"ticks\":\"\"}},\"scene\":{\"xaxis\":{\"backgroundcolor\":\"#E5ECF6\",\"gridcolor\":\"white\",\"gridwidth\":2,\"linecolor\":\"white\",\"showbackground\":true,\"ticks\":\"\",\"zerolinecolor\":\"white\"},\"yaxis\":{\"backgroundcolor\":\"#E5ECF6\",\"gridcolor\":\"white\",\"gridwidth\":2,\"linecolor\":\"white\",\"showbackground\":true,\"ticks\":\"\",\"zerolinecolor\":\"white\"},\"zaxis\":{\"backgroundcolor\":\"#E5ECF6\",\"gridcolor\":\"white\",\"gridwidth\":2,\"linecolor\":\"white\",\"showbackground\":true,\"ticks\":\"\",\"zerolinecolor\":\"white\"}},\"shapedefaults\":{\"line\":{\"color\":\"#2a3f5f\"}},\"ternary\":{\"aaxis\":{\"gridcolor\":\"white\",\"linecolor\":\"white\",\"ticks\":\"\"},\"baxis\":{\"gridcolor\":\"white\",\"linecolor\":\"white\",\"ticks\":\"\"},\"bgcolor\":\"#E5ECF6\",\"caxis\":{\"gridcolor\":\"white\",\"linecolor\":\"white\",\"ticks\":\"\"}},\"title\":{\"x\":0.05},\"xaxis\":{\"automargin\":true,\"gridcolor\":\"white\",\"linecolor\":\"white\",\"ticks\":\"\",\"title\":{\"standoff\":15},\"zerolinecolor\":\"white\",\"zerolinewidth\":2},\"yaxis\":{\"automargin\":true,\"gridcolor\":\"white\",\"linecolor\":\"white\",\"ticks\":\"\",\"title\":{\"standoff\":15},\"zerolinecolor\":\"white\",\"zerolinewidth\":2}}},\"xaxis\":{\"anchor\":\"y\",\"domain\":[0.0,1.0],\"title\":{\"text\":\"x\"}},\"yaxis\":{\"anchor\":\"x\",\"domain\":[0.0,1.0],\"title\":{\"text\":\"price\"}},\"legend\":{\"title\":{\"text\":\"act/pred\"},\"tracegroupgap\":0},\"title\":{\"text\":\"BTC Price\"}},                        {\"responsive\": true}                    ).then(function(){\n",
              "                            \n",
              "var gd = document.getElementById('1e83b56a-0db7-43de-ad6f-d7e45aa94bb7');\n",
              "var x = new MutationObserver(function (mutations, observer) {{\n",
              "        var display = window.getComputedStyle(gd).display;\n",
              "        if (!display || display === 'none') {{\n",
              "            console.log([gd, 'removed!']);\n",
              "            Plotly.purge(gd);\n",
              "            observer.disconnect();\n",
              "        }}\n",
              "}});\n",
              "\n",
              "// Listen for the removal of the full notebook cells\n",
              "var notebookContainer = gd.closest('#notebook-container');\n",
              "if (notebookContainer) {{\n",
              "    x.observe(notebookContainer, {childList: true});\n",
              "}}\n",
              "\n",
              "// Listen for the clearing of the current output cell\n",
              "var outputEl = gd.closest('.output');\n",
              "if (outputEl) {{\n",
              "    x.observe(outputEl, {childList: true});\n",
              "}}\n",
              "\n",
              "                        })                };                            </script>        </div>\n",
              "</body>\n",
              "</html>"
            ]
          },
          "metadata": {}
        }
      ]
    }
  ]
}